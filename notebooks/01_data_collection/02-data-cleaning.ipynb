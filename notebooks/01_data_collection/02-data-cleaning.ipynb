{
 "cells": [
  {
   "cell_type": "markdown",
   "metadata": {},
   "source": [
    "----\n",
    "# Data Cleaning\n",
    "----\n",
    "\n",
    "### Notebook Overview\n",
    "\n",
    "In this notebook, I will perform data cleaning and prepare the scraped dataset for exploratory data analysis (EDA). The key steps involved include::\n",
    "\n",
    "- **Removing Duplicates:** Dropping duplicated rows to ensure accurate analysis.\n",
    "\n",
    "- **Handling Missing Values:** Addressing missing values within the dataset to ensure high data quality.\n",
    "\n",
    "- **Feature Extraction:** Enhancing the dataset by extracting relevant features from product descriptions."
   ]
  },
  {
   "cell_type": "markdown",
   "metadata": {},
   "source": [
    "## Set Up\n",
    "---"
   ]
  },
  {
   "cell_type": "code",
   "execution_count": 144,
   "metadata": {},
   "outputs": [],
   "source": [
    "import numpy as np\n",
    "import pandas as pd\n",
    "import re\n",
    "import matplotlib\n"
   ]
  },
  {
   "cell_type": "markdown",
   "metadata": {},
   "source": [
    "## Data Loading\n",
    "----"
   ]
  },
  {
   "cell_type": "code",
   "execution_count": 145,
   "metadata": {},
   "outputs": [],
   "source": [
    "df = pd.read_csv('../../data/scraped_data.csv', index_col = 0)\n"
   ]
  },
  {
   "cell_type": "markdown",
   "metadata": {},
   "source": [
    "## Utility Functions"
   ]
  },
  {
   "cell_type": "code",
   "execution_count": 146,
   "metadata": {},
   "outputs": [],
   "source": [
    "def df_check(df):\n",
    "    '''\n",
    "    Outputs quality measures for dataframes\n",
    "\n",
    "    Paramters\n",
    "    ---------\n",
    "    df: DataFrame for quality check\n",
    "\n",
    "    Returns\n",
    "    -------\n",
    "    Statements with data quality info such as shape, duplicated values, missing values\n",
    "    '''\n",
    "    \n",
    "    shape = df.shape\n",
    "    # Calling sum twice - first sum returns column level results second sum to retrun total null values in all columns\n",
    "    null_vals = df.isna().sum().sum()\n",
    "    duplicated_rows = df.duplicated().sum()\n",
    "    duplicated_cols = df.columns.duplicated().sum()\n",
    "\n",
    "    print (\n",
    "    f\"\"\"\n",
    "    Data Quality Checks:\n",
    "    --------------------------------------------\n",
    "    No. of rows: {shape[0]}\n",
    "    No. of columns: {shape[1]}\n",
    "    No. of missing values: {null_vals}\n",
    "    No. of duplicated rows: {duplicated_rows}\n",
    "    No. of duplicated columns: {duplicated_cols}\n",
    "    \"\"\"\n",
    ")\n",
    "    \n"
   ]
  },
  {
   "cell_type": "code",
   "execution_count": 147,
   "metadata": {},
   "outputs": [],
   "source": [
    "def search_description(description, regexp):\n",
    "    '''\n",
    "    Outputs binary value\n",
    "\n",
    "    Paramters\n",
    "    ---------\n",
    "    description: string of product description\n",
    "    regexp: regular expression\n",
    "\n",
    "    Returns\n",
    "    -------\n",
    "    1 if regexp is present in description, 0 if not\n",
    "    '''\n",
    "    if re.search(regexp, description.lower()):\n",
    "        return 1\n",
    "    else:\n",
    "        return 0"
   ]
  },
  {
   "cell_type": "code",
   "execution_count": 148,
   "metadata": {},
   "outputs": [],
   "source": [
    "def get_colour(description):\n",
    "    '''\n",
    "    Outputs colour in product description\n",
    "\n",
    "    Paramters\n",
    "    ---------\n",
    "    description: string of product description\n",
    "\n",
    "    Returns\n",
    "    -------\n",
    "    Colour mentioned in the description\n",
    "    '''\n",
    "    \n",
    "    # Using matplotlib to get list of colours (instead of manually creating a list)    \n",
    "    colour_names = matplotlib.colors.CSS4_COLORS.keys()\n",
    "\n",
    "    # Looping through the list of colours to see if any of the colours are in the product description \n",
    "    for colour in colour_names:\n",
    "        if re.search(rf'\\b{colour}\\b', description):\n",
    "            return colour\n",
    "        else:\n",
    "            # if first colour in the list is not found try the next\n",
    "            continue\n",
    "    \n",
    "    # Cases where no colour in the the colour_list is found in description\n",
    "    return 'Not Specified'\n",
    "    "
   ]
  },
  {
   "cell_type": "code",
   "execution_count": 149,
   "metadata": {},
   "outputs": [],
   "source": [
    "def get_battery_life(description):\n",
    "    '''\n",
    "    Outputs battery life listed in product description\n",
    "\n",
    "    Paramters\n",
    "    ---------\n",
    "    description: string of product description\n",
    "\n",
    "    Returns\n",
    "    -------\n",
    "    Battery life in hours\n",
    "    '''\n",
    "        \n",
    "    regexp = r'(\\b[1-9]\\d*)\\s*(battery|batteries|hours?|hrs?|h)'\n",
    "    if re.search(regexp,description):\n",
    "        # using .group to only get the int part of the regexp\n",
    "        return re.search(regexp,description).group(1)    \n",
    "        \n",
    "    else:\n",
    "        return 'Not Specified'"
   ]
  },
  {
   "cell_type": "markdown",
   "metadata": {},
   "source": [
    "## Preliminary Checks"
   ]
  },
  {
   "cell_type": "code",
   "execution_count": 150,
   "metadata": {},
   "outputs": [
    {
     "name": "stdout",
     "output_type": "stream",
     "text": [
      "\n",
      "    Data Quality Checks:\n",
      "    --------------------------------------------\n",
      "    No. of rows: 1500\n",
      "    No. of columns: 5\n",
      "    No. of missing values: 687\n",
      "    No. of duplicated rows: 468\n",
      "    No. of duplicated columns: 0\n",
      "    \n"
     ]
    }
   ],
   "source": [
    "df_check(df)"
   ]
  },
  {
   "cell_type": "code",
   "execution_count": 151,
   "metadata": {},
   "outputs": [
    {
     "name": "stdout",
     "output_type": "stream",
     "text": [
      "<class 'pandas.core.frame.DataFrame'>\n",
      "Index: 1500 entries, 0 to 1499\n",
      "Data columns (total 5 columns):\n",
      " #   Column       Non-Null Count  Dtype \n",
      "---  ------       --------------  ----- \n",
      " 0   Product ID   1500 non-null   object\n",
      " 1   Description  1500 non-null   object\n",
      " 2   Price        1500 non-null   object\n",
      " 3   Rating       813 non-null    object\n",
      " 4   Is Prime     1500 non-null   int64 \n",
      "dtypes: int64(1), object(4)\n",
      "memory usage: 70.3+ KB\n"
     ]
    }
   ],
   "source": [
    "df.info() # Checking data types"
   ]
  },
  {
   "cell_type": "markdown",
   "metadata": {},
   "source": [
    "### Dealing the with the duplicates"
   ]
  },
  {
   "cell_type": "code",
   "execution_count": 152,
   "metadata": {},
   "outputs": [
    {
     "data": {
      "text/html": [
       "<div>\n",
       "<style scoped>\n",
       "    .dataframe tbody tr th:only-of-type {\n",
       "        vertical-align: middle;\n",
       "    }\n",
       "\n",
       "    .dataframe tbody tr th {\n",
       "        vertical-align: top;\n",
       "    }\n",
       "\n",
       "    .dataframe thead th {\n",
       "        text-align: right;\n",
       "    }\n",
       "</style>\n",
       "<table border=\"1\" class=\"dataframe\">\n",
       "  <thead>\n",
       "    <tr style=\"text-align: right;\">\n",
       "      <th></th>\n",
       "      <th>Product ID</th>\n",
       "      <th>Description</th>\n",
       "      <th>Price</th>\n",
       "      <th>Rating</th>\n",
       "      <th>Is Prime</th>\n",
       "    </tr>\n",
       "  </thead>\n",
       "  <tbody>\n",
       "    <tr>\n",
       "      <th>888</th>\n",
       "      <td>B0DJPMJ8FS</td>\n",
       "      <td>YIORYO Headphone Stand, Headphone Holder Stand...</td>\n",
       "      <td>223.17</td>\n",
       "      <td>NaN</td>\n",
       "      <td>0</td>\n",
       "    </tr>\n",
       "    <tr>\n",
       "      <th>865</th>\n",
       "      <td>B0DJPMJ8FS</td>\n",
       "      <td>YIORYO Headphone Stand, Headphone Holder Stand...</td>\n",
       "      <td>223.17</td>\n",
       "      <td>NaN</td>\n",
       "      <td>0</td>\n",
       "    </tr>\n",
       "    <tr>\n",
       "      <th>859</th>\n",
       "      <td>B0DJNQTY2Y</td>\n",
       "      <td>Headset Cable, Headphone Cord,3.5mm Headset Co...</td>\n",
       "      <td>9.28</td>\n",
       "      <td>NaN</td>\n",
       "      <td>0</td>\n",
       "    </tr>\n",
       "    <tr>\n",
       "      <th>880</th>\n",
       "      <td>B0DJNQTY2Y</td>\n",
       "      <td>Headset Cable, Headphone Cord,3.5mm Headset Co...</td>\n",
       "      <td>9.28</td>\n",
       "      <td>NaN</td>\n",
       "      <td>0</td>\n",
       "    </tr>\n",
       "    <tr>\n",
       "      <th>933</th>\n",
       "      <td>B0DJMN88TV</td>\n",
       "      <td>MRYFODA Wireless Earbuds Sport Running Ear Hoo...</td>\n",
       "      <td>240.70</td>\n",
       "      <td>NaN</td>\n",
       "      <td>0</td>\n",
       "    </tr>\n",
       "    <tr>\n",
       "      <th>...</th>\n",
       "      <td>...</td>\n",
       "      <td>...</td>\n",
       "      <td>...</td>\n",
       "      <td>...</td>\n",
       "      <td>...</td>\n",
       "    </tr>\n",
       "    <tr>\n",
       "      <th>186</th>\n",
       "      <td>B00FZLV9G8</td>\n",
       "      <td>Over Ear Wireless Bluetooth Headphones with Mi...</td>\n",
       "      <td>39.95</td>\n",
       "      <td>4.3 out of 5 stars</td>\n",
       "      <td>0</td>\n",
       "    </tr>\n",
       "    <tr>\n",
       "      <th>750</th>\n",
       "      <td>B00FZLV9G8</td>\n",
       "      <td>Over Ear Wireless Bluetooth Headphones with Mi...</td>\n",
       "      <td>39.95</td>\n",
       "      <td>4.3 out of 5 stars</td>\n",
       "      <td>0</td>\n",
       "    </tr>\n",
       "    <tr>\n",
       "      <th>486</th>\n",
       "      <td>B00FZLV9G8</td>\n",
       "      <td>Over Ear Wireless Bluetooth Headphones with Mi...</td>\n",
       "      <td>39.95</td>\n",
       "      <td>4.3 out of 5 stars</td>\n",
       "      <td>0</td>\n",
       "    </tr>\n",
       "    <tr>\n",
       "      <th>1060</th>\n",
       "      <td>B00AF6KOJG</td>\n",
       "      <td>thumbsUp! Zip Earphones - Black</td>\n",
       "      <td>7.99</td>\n",
       "      <td>3.7 out of 5 stars</td>\n",
       "      <td>0</td>\n",
       "    </tr>\n",
       "    <tr>\n",
       "      <th>1113</th>\n",
       "      <td>B00AF6KOJG</td>\n",
       "      <td>thumbsUp! Zip Earphones - Black</td>\n",
       "      <td>7.99</td>\n",
       "      <td>3.7 out of 5 stars</td>\n",
       "      <td>0</td>\n",
       "    </tr>\n",
       "  </tbody>\n",
       "</table>\n",
       "<p>674 rows × 5 columns</p>\n",
       "</div>"
      ],
      "text/plain": [
       "      Product ID                                        Description   Price  \\\n",
       "888   B0DJPMJ8FS  YIORYO Headphone Stand, Headphone Holder Stand...  223.17   \n",
       "865   B0DJPMJ8FS  YIORYO Headphone Stand, Headphone Holder Stand...  223.17   \n",
       "859   B0DJNQTY2Y  Headset Cable, Headphone Cord,3.5mm Headset Co...    9.28   \n",
       "880   B0DJNQTY2Y  Headset Cable, Headphone Cord,3.5mm Headset Co...    9.28   \n",
       "933   B0DJMN88TV  MRYFODA Wireless Earbuds Sport Running Ear Hoo...  240.70   \n",
       "...          ...                                                ...     ...   \n",
       "186   B00FZLV9G8  Over Ear Wireless Bluetooth Headphones with Mi...   39.95   \n",
       "750   B00FZLV9G8  Over Ear Wireless Bluetooth Headphones with Mi...   39.95   \n",
       "486   B00FZLV9G8  Over Ear Wireless Bluetooth Headphones with Mi...   39.95   \n",
       "1060  B00AF6KOJG                    thumbsUp! Zip Earphones - Black    7.99   \n",
       "1113  B00AF6KOJG                    thumbsUp! Zip Earphones - Black    7.99   \n",
       "\n",
       "                  Rating  Is Prime  \n",
       "888                  NaN         0  \n",
       "865                  NaN         0  \n",
       "859                  NaN         0  \n",
       "880                  NaN         0  \n",
       "933                  NaN         0  \n",
       "...                  ...       ...  \n",
       "186   4.3 out of 5 stars         0  \n",
       "750   4.3 out of 5 stars         0  \n",
       "486   4.3 out of 5 stars         0  \n",
       "1060  3.7 out of 5 stars         0  \n",
       "1113  3.7 out of 5 stars         0  \n",
       "\n",
       "[674 rows x 5 columns]"
      ]
     },
     "execution_count": 152,
     "metadata": {},
     "output_type": "execute_result"
    }
   ],
   "source": [
    "df[df.duplicated(keep=False)].sort_values(by = 'Product ID', ascending=False) # quick 4 eyes check of duplicated rows"
   ]
  },
  {
   "cell_type": "code",
   "execution_count": 153,
   "metadata": {},
   "outputs": [],
   "source": [
    "duplicated = df[df.duplicated(keep='first')].sort_values(by = 'Product ID', ascending=False)"
   ]
  },
  {
   "cell_type": "code",
   "execution_count": 154,
   "metadata": {},
   "outputs": [
    {
     "data": {
      "text/plain": [
       "Product ID\n",
       "B082P6L3T5    40\n",
       "B00N3UC444    34\n",
       "B09PQSVFQT    33\n",
       "B0992DXFJP    22\n",
       "B0C6MKMZF1    22\n",
       "              ..\n",
       "B0CDGV3W4T     1\n",
       "B0CDGW1HS2     1\n",
       "B0CDQ3TWSJ     1\n",
       "B0CDQ5X8CF     1\n",
       "B0DJPMJ8FS     1\n",
       "Length: 206, dtype: int64"
      ]
     },
     "execution_count": 154,
     "metadata": {},
     "output_type": "execute_result"
    }
   ],
   "source": [
    "# using size to count number of occurrences of each duplicated headphone\n",
    "duplicated.groupby(['Product ID'])[['Product ID']].size().sort_values(ascending=False)\n"
   ]
  },
  {
   "cell_type": "code",
   "execution_count": 155,
   "metadata": {},
   "outputs": [],
   "source": [
    "# Dropping duplicates\n",
    "df = df.drop_duplicates()"
   ]
  },
  {
   "cell_type": "code",
   "execution_count": 156,
   "metadata": {},
   "outputs": [
    {
     "name": "stdout",
     "output_type": "stream",
     "text": [
      "\n",
      "    Data Quality Checks:\n",
      "    --------------------------------------------\n",
      "    No. of rows: 1032\n",
      "    No. of columns: 5\n",
      "    No. of missing values: 531\n",
      "    No. of duplicated rows: 0\n",
      "    No. of duplicated columns: 0\n",
      "    \n"
     ]
    }
   ],
   "source": [
    "# Re-checking dataframe after dropping the duplicated rows\n",
    "df_check(df)"
   ]
  },
  {
   "cell_type": "markdown",
   "metadata": {},
   "source": [
    "### Dealing with Missing Values"
   ]
  },
  {
   "cell_type": "code",
   "execution_count": 157,
   "metadata": {},
   "outputs": [
    {
     "data": {
      "text/plain": [
       "Product ID       0\n",
       "Description      0\n",
       "Price            0\n",
       "Rating         531\n",
       "Is Prime         0\n",
       "dtype: int64"
      ]
     },
     "execution_count": 157,
     "metadata": {},
     "output_type": "execute_result"
    }
   ],
   "source": [
    "df.isna().sum()"
   ]
  },
  {
   "cell_type": "code",
   "execution_count": 158,
   "metadata": {},
   "outputs": [
    {
     "data": {
      "text/html": [
       "<div>\n",
       "<style scoped>\n",
       "    .dataframe tbody tr th:only-of-type {\n",
       "        vertical-align: middle;\n",
       "    }\n",
       "\n",
       "    .dataframe tbody tr th {\n",
       "        vertical-align: top;\n",
       "    }\n",
       "\n",
       "    .dataframe thead th {\n",
       "        text-align: right;\n",
       "    }\n",
       "</style>\n",
       "<table border=\"1\" class=\"dataframe\">\n",
       "  <thead>\n",
       "    <tr style=\"text-align: right;\">\n",
       "      <th></th>\n",
       "      <th>Product ID</th>\n",
       "      <th>Description</th>\n",
       "      <th>Price</th>\n",
       "      <th>Rating</th>\n",
       "      <th>Is Prime</th>\n",
       "    </tr>\n",
       "  </thead>\n",
       "  <tbody>\n",
       "    <tr>\n",
       "      <th>134</th>\n",
       "      <td>B0DCYYFF3G</td>\n",
       "      <td>Wireless Headphones for TV Watching, FM Wirele...</td>\n",
       "      <td>29.98</td>\n",
       "      <td>NaN</td>\n",
       "      <td>0</td>\n",
       "    </tr>\n",
       "    <tr>\n",
       "      <th>264</th>\n",
       "      <td>B0CBMQKPSY</td>\n",
       "      <td>CAFFIA Wireless Noise Canceling Overhead Headp...</td>\n",
       "      <td>471.96</td>\n",
       "      <td>NaN</td>\n",
       "      <td>0</td>\n",
       "    </tr>\n",
       "    <tr>\n",
       "      <th>292</th>\n",
       "      <td>B0D7ZPP1LZ</td>\n",
       "      <td>CN-Outlet Bulk Earbud Headphones 100 Pack for ...</td>\n",
       "      <td>727.86</td>\n",
       "      <td>NaN</td>\n",
       "      <td>0</td>\n",
       "    </tr>\n",
       "    <tr>\n",
       "      <th>293</th>\n",
       "      <td>B0D7M7C4M2</td>\n",
       "      <td>VR Headset, Virtual Reality Headset with Contr...</td>\n",
       "      <td>52.98</td>\n",
       "      <td>NaN</td>\n",
       "      <td>0</td>\n",
       "    </tr>\n",
       "    <tr>\n",
       "      <th>295</th>\n",
       "      <td>B09FLTJQWB</td>\n",
       "      <td>NCRD Wireless Noise Canceling Overhead Headpho...</td>\n",
       "      <td>505.30</td>\n",
       "      <td>NaN</td>\n",
       "      <td>0</td>\n",
       "    </tr>\n",
       "    <tr>\n",
       "      <th>...</th>\n",
       "      <td>...</td>\n",
       "      <td>...</td>\n",
       "      <td>...</td>\n",
       "      <td>...</td>\n",
       "      <td>...</td>\n",
       "    </tr>\n",
       "    <tr>\n",
       "      <th>1495</th>\n",
       "      <td>B0C1XY9DRG</td>\n",
       "      <td>Baluue 5pcs Headphone Anti-lost Rope Strap Wir...</td>\n",
       "      <td>9.69</td>\n",
       "      <td>NaN</td>\n",
       "      <td>0</td>\n",
       "    </tr>\n",
       "    <tr>\n",
       "      <th>1496</th>\n",
       "      <td>B0C8FLVZM4</td>\n",
       "      <td>Bluetooth Headphones - Neck Style Wireless Spo...</td>\n",
       "      <td>59.94</td>\n",
       "      <td>NaN</td>\n",
       "      <td>0</td>\n",
       "    </tr>\n",
       "    <tr>\n",
       "      <th>1497</th>\n",
       "      <td>B0CD5YX3J5</td>\n",
       "      <td>Fenytay Cat Ear Headphones | Cat Ears Wireless...</td>\n",
       "      <td>14.19</td>\n",
       "      <td>NaN</td>\n",
       "      <td>0</td>\n",
       "    </tr>\n",
       "    <tr>\n",
       "      <th>1498</th>\n",
       "      <td>B0D4J6H241</td>\n",
       "      <td>Pink Active Noise Cancelling Headphones Wirele...</td>\n",
       "      <td>16.99</td>\n",
       "      <td>NaN</td>\n",
       "      <td>0</td>\n",
       "    </tr>\n",
       "    <tr>\n",
       "      <th>1499</th>\n",
       "      <td>B0928PR488</td>\n",
       "      <td>Wireless Bluetooth Cat Ear Headphones, Kids Cu...</td>\n",
       "      <td>10.77</td>\n",
       "      <td>NaN</td>\n",
       "      <td>0</td>\n",
       "    </tr>\n",
       "  </tbody>\n",
       "</table>\n",
       "<p>531 rows × 5 columns</p>\n",
       "</div>"
      ],
      "text/plain": [
       "      Product ID                                        Description   Price  \\\n",
       "134   B0DCYYFF3G  Wireless Headphones for TV Watching, FM Wirele...   29.98   \n",
       "264   B0CBMQKPSY  CAFFIA Wireless Noise Canceling Overhead Headp...  471.96   \n",
       "292   B0D7ZPP1LZ  CN-Outlet Bulk Earbud Headphones 100 Pack for ...  727.86   \n",
       "293   B0D7M7C4M2  VR Headset, Virtual Reality Headset with Contr...   52.98   \n",
       "295   B09FLTJQWB  NCRD Wireless Noise Canceling Overhead Headpho...  505.30   \n",
       "...          ...                                                ...     ...   \n",
       "1495  B0C1XY9DRG  Baluue 5pcs Headphone Anti-lost Rope Strap Wir...    9.69   \n",
       "1496  B0C8FLVZM4  Bluetooth Headphones - Neck Style Wireless Spo...   59.94   \n",
       "1497  B0CD5YX3J5  Fenytay Cat Ear Headphones | Cat Ears Wireless...   14.19   \n",
       "1498  B0D4J6H241  Pink Active Noise Cancelling Headphones Wirele...   16.99   \n",
       "1499  B0928PR488  Wireless Bluetooth Cat Ear Headphones, Kids Cu...   10.77   \n",
       "\n",
       "     Rating  Is Prime  \n",
       "134     NaN         0  \n",
       "264     NaN         0  \n",
       "292     NaN         0  \n",
       "293     NaN         0  \n",
       "295     NaN         0  \n",
       "...     ...       ...  \n",
       "1495    NaN         0  \n",
       "1496    NaN         0  \n",
       "1497    NaN         0  \n",
       "1498    NaN         0  \n",
       "1499    NaN         0  \n",
       "\n",
       "[531 rows x 5 columns]"
      ]
     },
     "execution_count": 158,
     "metadata": {},
     "output_type": "execute_result"
    }
   ],
   "source": [
    "# Viewing the null value in rating\n",
    "df[df['Rating'].isna()]"
   ]
  },
  {
   "cell_type": "markdown",
   "metadata": {},
   "source": [
    "**Comment:**\n",
    "\n",
    "I have decided to delete rows with null ratings, even though this results in losing about half of my dataset. In this project, my aim is to maintain as much authenticity of the data used in the recommeder system.\n",
    "\n",
    "Imputing missing rating values with the mean or any other value could introduce some bias and potentially skew recommendations given the large number of missing values.\n",
    "\n",
    "While reducing the dataset size by 50% seems rather significant, I believe that retaining only authentic and untouched data will improive the reliability of the recommender system. \n",
    "\n",
    "Also deciding to srop null rows for price - only 32 rows."
   ]
  },
  {
   "cell_type": "code",
   "execution_count": 159,
   "metadata": {},
   "outputs": [],
   "source": [
    "# Dropping all rows with the missing rating \n",
    "df = df.dropna()"
   ]
  },
  {
   "cell_type": "code",
   "execution_count": 160,
   "metadata": {},
   "outputs": [
    {
     "name": "stdout",
     "output_type": "stream",
     "text": [
      "\n",
      "    Data Quality Checks:\n",
      "    --------------------------------------------\n",
      "    No. of rows: 501\n",
      "    No. of columns: 5\n",
      "    No. of missing values: 0\n",
      "    No. of duplicated rows: 0\n",
      "    No. of duplicated columns: 0\n",
      "    \n"
     ]
    }
   ],
   "source": [
    "# Re-checking dataframe\n",
    "df_check(df)"
   ]
  },
  {
   "cell_type": "markdown",
   "metadata": {},
   "source": [
    "### Dealing with Not Specified "
   ]
  },
  {
   "cell_type": "markdown",
   "metadata": {},
   "source": [
    "When scraping if information was not present I added a placeholder 'NOT SPECIFIED' I would have to get rid of this in certain columns where I need all info: Price"
   ]
  },
  {
   "cell_type": "code",
   "execution_count": 161,
   "metadata": {},
   "outputs": [
    {
     "data": {
      "text/plain": [
       "Index(['Product ID', 'Description', 'Price', 'Rating', 'Is Prime'], dtype='object')"
      ]
     },
     "execution_count": 161,
     "metadata": {},
     "output_type": "execute_result"
    }
   ],
   "source": [
    "df.columns       "
   ]
  },
  {
   "cell_type": "code",
   "execution_count": 162,
   "metadata": {},
   "outputs": [
    {
     "data": {
      "text/plain": [
       "Price\n",
       "19.99            28\n",
       "15.99            18\n",
       "14.99            17\n",
       "Not Specified    17\n",
       "24.99            13\n",
       "                 ..\n",
       "13.90             1\n",
       "9.49              1\n",
       "46.99             1\n",
       "44.95             1\n",
       "15.10             1\n",
       "Name: count, Length: 256, dtype: int64"
      ]
     },
     "execution_count": 162,
     "metadata": {},
     "output_type": "execute_result"
    }
   ],
   "source": [
    "df['Price'].value_counts()"
   ]
  },
  {
   "cell_type": "code",
   "execution_count": 163,
   "metadata": {},
   "outputs": [],
   "source": [
    "df = df[df['Price'] != 'Not Specified']"
   ]
  },
  {
   "cell_type": "code",
   "execution_count": 164,
   "metadata": {},
   "outputs": [
    {
     "data": {
      "text/plain": [
       "Price\n",
       "19.99    28\n",
       "15.99    18\n",
       "14.99    17\n",
       "16.99    13\n",
       "20.99    13\n",
       "         ..\n",
       "13.90     1\n",
       "9.49      1\n",
       "46.99     1\n",
       "44.95     1\n",
       "15.10     1\n",
       "Name: count, Length: 255, dtype: int64"
      ]
     },
     "execution_count": 164,
     "metadata": {},
     "output_type": "execute_result"
    }
   ],
   "source": [
    "df['Price'].value_counts()"
   ]
  },
  {
   "cell_type": "code",
   "execution_count": 165,
   "metadata": {},
   "outputs": [],
   "source": [
    "df['Price'] = df['Price'].str.replace(',', '').astype(float)"
   ]
  },
  {
   "cell_type": "code",
   "execution_count": 166,
   "metadata": {},
   "outputs": [
    {
     "name": "stdout",
     "output_type": "stream",
     "text": [
      "\n",
      "    Data Quality Checks:\n",
      "    --------------------------------------------\n",
      "    No. of rows: 484\n",
      "    No. of columns: 5\n",
      "    No. of missing values: 0\n",
      "    No. of duplicated rows: 0\n",
      "    No. of duplicated columns: 0\n",
      "    \n"
     ]
    }
   ],
   "source": [
    "df_check(df)"
   ]
  },
  {
   "cell_type": "markdown",
   "metadata": {},
   "source": [
    "### Resetting the Index"
   ]
  },
  {
   "cell_type": "code",
   "execution_count": 167,
   "metadata": {},
   "outputs": [],
   "source": [
    "df = df.reset_index(drop = True)"
   ]
  },
  {
   "cell_type": "markdown",
   "metadata": {},
   "source": [
    "## Product Description\n",
    "----"
   ]
  },
  {
   "cell_type": "code",
   "execution_count": 168,
   "metadata": {},
   "outputs": [
    {
     "data": {
      "text/plain": [
       "0      OneOdio Wired Over Ear Headphones Hi-Fi Sound ...\n",
       "1      Lindy NC-60 Wired Active Noise Cancelling (ANC...\n",
       "2      Sony MDRZX310L.AE Foldable Headphones - Metall...\n",
       "3      KVIDIO Bluetooth Headphones Over Ear, 65 Hours...\n",
       "4      Sony MDR-ZX110 Overhead Headphones - Black , B...\n",
       "                             ...                        \n",
       "479    3.5mm Earbuds Wired Headphones for Samsung A25...\n",
       "480    Maeline Bulk Earbuds with 3.5 mm Headphone Plu...\n",
       "481    On Ear Headphones Bluetooth 5.3 Clip on Headph...\n",
       "482    TONEMAC H7Pro Hybrid Active Noise Cancelling H...\n",
       "483    Wired Earphones Headphones WGZBLON Yinyoo FG E...\n",
       "Name: Description, Length: 484, dtype: object"
      ]
     },
     "execution_count": 168,
     "metadata": {},
     "output_type": "execute_result"
    }
   ],
   "source": [
    "df['Description']"
   ]
  },
  {
   "cell_type": "markdown",
   "metadata": {},
   "source": [
    "### Bulk\n"
   ]
  },
  {
   "cell_type": "markdown",
   "metadata": {},
   "source": [
    "Seen some cases where prodcuts are not singlular they are often in bulk, true for more pricier items:"
   ]
  },
  {
   "cell_type": "code",
   "execution_count": 169,
   "metadata": {},
   "outputs": [],
   "source": [
    "df = df[~df['Description'].str.contains('bulk', case=False, na=False)]"
   ]
  },
  {
   "cell_type": "code",
   "execution_count": 170,
   "metadata": {},
   "outputs": [],
   "source": [
    "df = df.reset_index(drop = True)"
   ]
  },
  {
   "cell_type": "code",
   "execution_count": 171,
   "metadata": {},
   "outputs": [
    {
     "name": "stdout",
     "output_type": "stream",
     "text": [
      "\n",
      "    Data Quality Checks:\n",
      "    --------------------------------------------\n",
      "    No. of rows: 431\n",
      "    No. of columns: 5\n",
      "    No. of missing values: 0\n",
      "    No. of duplicated rows: 0\n",
      "    No. of duplicated columns: 0\n",
      "    \n"
     ]
    }
   ],
   "source": [
    "df_check(df)"
   ]
  },
  {
   "cell_type": "markdown",
   "metadata": {},
   "source": [
    "### Feature Extraction - Wireless"
   ]
  },
  {
   "cell_type": "code",
   "execution_count": 172,
   "metadata": {},
   "outputs": [],
   "source": [
    "df['Description'] = df['Description'].str.lower()"
   ]
  },
  {
   "cell_type": "code",
   "execution_count": 173,
   "metadata": {},
   "outputs": [],
   "source": [
    "# using apply args to take in regexp input \n",
    "# args expects tuple hence ,\n",
    "df['Wireless'] = df['Description'].apply(search_description, args=(r'\\bwireless\\b',))"
   ]
  },
  {
   "cell_type": "markdown",
   "metadata": {},
   "source": [
    "### Feature Extraction - Noise Cancelling"
   ]
  },
  {
   "cell_type": "code",
   "execution_count": 174,
   "metadata": {},
   "outputs": [],
   "source": [
    "df['Noise Cancelling'] = df['Description'].apply(search_description, args=(r'\\bnoise[-\\s]?cancelling\\b',))"
   ]
  },
  {
   "cell_type": "code",
   "execution_count": 175,
   "metadata": {},
   "outputs": [
    {
     "data": {
      "text/plain": [
       "Noise Cancelling\n",
       "0    372\n",
       "1     59\n",
       "Name: count, dtype: int64"
      ]
     },
     "execution_count": 175,
     "metadata": {},
     "output_type": "execute_result"
    }
   ],
   "source": [
    "df['Noise Cancelling'].value_counts()"
   ]
  },
  {
   "cell_type": "markdown",
   "metadata": {},
   "source": [
    "### Feature Extraction - Colour\n"
   ]
  },
  {
   "cell_type": "code",
   "execution_count": 176,
   "metadata": {},
   "outputs": [
    {
     "data": {
      "text/plain": [
       "0      oneodio wired over ear headphones hi-fi sound ...\n",
       "1      lindy nc-60 wired active noise cancelling (anc...\n",
       "2      sony mdrzx310l.ae foldable headphones - metall...\n",
       "3      kvidio bluetooth headphones over ear, 65 hours...\n",
       "4      sony mdr-zx110 overhead headphones - black , b...\n",
       "                             ...                        \n",
       "426    jinserta rgb cat ear headphones,bluetooth 5.3 ...\n",
       "427    3.5mm earbuds wired headphones for samsung a25...\n",
       "428    on ear headphones bluetooth 5.3 clip on headph...\n",
       "429    tonemac h7pro hybrid active noise cancelling h...\n",
       "430    wired earphones headphones wgzblon yinyoo fg e...\n",
       "Name: Description, Length: 431, dtype: object"
      ]
     },
     "execution_count": 176,
     "metadata": {},
     "output_type": "execute_result"
    }
   ],
   "source": [
    "df['Description']"
   ]
  },
  {
   "cell_type": "code",
   "execution_count": 177,
   "metadata": {},
   "outputs": [],
   "source": [
    "# Apply the function to each row in the Description column\n",
    "df['Colour'] = df['Description'].apply(get_colour)"
   ]
  },
  {
   "cell_type": "code",
   "execution_count": 178,
   "metadata": {},
   "outputs": [
    {
     "data": {
      "text/plain": [
       "Colour\n",
       "Not Specified    157\n",
       "black            103\n",
       "blue              40\n",
       "pink              35\n",
       "green             17\n",
       "gold              17\n",
       "white             15\n",
       "purple            12\n",
       "red                8\n",
       "grey               6\n",
       "beige              4\n",
       "orange             4\n",
       "silver             3\n",
       "yellow             3\n",
       "gray               2\n",
       "cyan               2\n",
       "ivory              1\n",
       "navy               1\n",
       "violet             1\n",
       "Name: count, dtype: int64"
      ]
     },
     "execution_count": 178,
     "metadata": {},
     "output_type": "execute_result"
    }
   ],
   "source": [
    "df['Colour'].value_counts()"
   ]
  },
  {
   "cell_type": "code",
   "execution_count": 179,
   "metadata": {},
   "outputs": [],
   "source": [
    "df['Colour'] = df['Colour'].replace('gray', 'grey')"
   ]
  },
  {
   "cell_type": "code",
   "execution_count": 180,
   "metadata": {},
   "outputs": [],
   "source": [
    "df['Colour'] = df['Colour'].replace('gray', 'grey')"
   ]
  },
  {
   "cell_type": "code",
   "execution_count": 181,
   "metadata": {},
   "outputs": [],
   "source": [
    "df['Colour']  = df['Colour'].replace(['navy','cyan'], 'blue')"
   ]
  },
  {
   "cell_type": "code",
   "execution_count": 182,
   "metadata": {},
   "outputs": [],
   "source": [
    "df['Colour']  = df['Colour'].replace('violet', 'purple')"
   ]
  },
  {
   "cell_type": "code",
   "execution_count": 183,
   "metadata": {},
   "outputs": [],
   "source": [
    "df['Colour']  = df['Colour'].replace('ivory', 'white')"
   ]
  },
  {
   "cell_type": "markdown",
   "metadata": {},
   "source": [
    "### Feature Extraction - Battery Life"
   ]
  },
  {
   "cell_type": "code",
   "execution_count": 184,
   "metadata": {},
   "outputs": [],
   "source": [
    "df['Battery Life'] = df['Description'].apply(get_battery_life)"
   ]
  },
  {
   "cell_type": "markdown",
   "metadata": {},
   "source": [
    "### Feature Extraction - Microphone"
   ]
  },
  {
   "cell_type": "code",
   "execution_count": 185,
   "metadata": {},
   "outputs": [],
   "source": [
    "df['Microphone'] = df['Description'].apply(search_description, args=(r'\\b(mic?|microphone?)\\b',))"
   ]
  },
  {
   "cell_type": "markdown",
   "metadata": {},
   "source": [
    "### Feature Extraction: Over Ear"
   ]
  },
  {
   "cell_type": "code",
   "execution_count": 186,
   "metadata": {},
   "outputs": [],
   "source": [
    "df['Over Ear'] = df['Description'].apply(search_description, args=(r'\\b(over[\\s-]ear?|overhead?)\\b',))"
   ]
  },
  {
   "cell_type": "markdown",
   "metadata": {},
   "source": [
    "### Feature Extraction : Gaming "
   ]
  },
  {
   "cell_type": "code",
   "execution_count": 187,
   "metadata": {},
   "outputs": [],
   "source": [
    "df['Gaming'] = df['Description'].apply(search_description, args=(r'\\bgaming\\b',))"
   ]
  },
  {
   "cell_type": "markdown",
   "metadata": {},
   "source": [
    "### Feature Extraction : Foldable "
   ]
  },
  {
   "cell_type": "code",
   "execution_count": 188,
   "metadata": {},
   "outputs": [],
   "source": [
    "df['Foldable'] = df['Description'].apply(search_description, args=(r'\\bfoldable\\b',))"
   ]
  },
  {
   "cell_type": "markdown",
   "metadata": {},
   "source": [
    "### Feature Extraction : Brand"
   ]
  },
  {
   "cell_type": "code",
   "execution_count": 189,
   "metadata": {},
   "outputs": [],
   "source": [
    "import spacy"
   ]
  },
  {
   "cell_type": "code",
   "execution_count": 190,
   "metadata": {},
   "outputs": [],
   "source": [
    "def get_brand(description):\n",
    "    # Load a pre-trained model\n",
    "    nlp = spacy.load(\"en_core_web_sm\")\n",
    "\n",
    "    # Process the text\n",
    "    doc = nlp(description)\n",
    "    # Extract named entities\n",
    "    for ent in doc.ents:\n",
    "        if ent.label_ == \"ORG\":  # ORG for organisations/brands\n",
    "            return ent.text\n",
    "        else:\n",
    "            return 'Unknown Brand'"
   ]
  },
  {
   "cell_type": "code",
   "execution_count": 191,
   "metadata": {},
   "outputs": [],
   "source": [
    "df['Brand'] = df['Description'].apply(get_brand)"
   ]
  },
  {
   "cell_type": "code",
   "execution_count": 192,
   "metadata": {},
   "outputs": [
    {
     "data": {
      "text/plain": [
       "Brand\n",
       "Unknown Brand                       249\n",
       "sony                                  8\n",
       "c8                                    6\n",
       "rgb                                   4\n",
       "radio & wired                         3\n",
       "louise & mann                         3\n",
       "doqaus bluetooth headphones over      3\n",
       "betron                                2\n",
       "mac                                   2\n",
       "jyps                                  2\n",
       "konnao kids                           2\n",
       "android                               2\n",
       "jyps kids wireless                    2\n",
       "mp3/4                                 1\n",
       "ip55                                  1\n",
       "samsung                               1\n",
       "samson technologies                   1\n",
       "koss kph14w                           1\n",
       "usb                                   1\n",
       "philips tat8506wt                     1\n",
       "orzly                                 1\n",
       "wt/00                                 1\n",
       "lomiluskr                             1\n",
       "betron b550                           1\n",
       "ukcoco                                1\n",
       "microphone & volume                   1\n",
       "aptx hd & low                         1\n",
       "microsoft                             1\n",
       "camo grey                             1\n",
       "nabevi kids headphones                1\n",
       "120h                                  1\n",
       "gnmn                                  1\n",
       "mic & touch control                   1\n",
       "xbt-80                                1\n",
       "doqaus wireless                       1\n",
       "apple & android                       1\n",
       "670nc                                 1\n",
       "skullcandy hesh                       1\n",
       "panasonic                             1\n",
       "sendowtek kids wireless               1\n",
       "doqaus bluetooth headphones           1\n",
       "ref                                   1\n",
       "Name: count, dtype: int64"
      ]
     },
     "execution_count": 192,
     "metadata": {},
     "output_type": "execute_result"
    }
   ],
   "source": [
    "df['Brand'].value_counts()"
   ]
  },
  {
   "cell_type": "markdown",
   "metadata": {},
   "source": [
    "-----\n",
    "**Comment:**\n",
    "\n",
    "My attempt at using SpaCy to extract the brand names from Product Descrption did not work too well. \n",
    "\n",
    "Majority of the data set containes brand names which are unknown and the ones it managed to find - most are not a brand and are common words in description like wireless/bluetooth or a colours. Therefore, I will drop this column from the dataframe."
   ]
  },
  {
   "cell_type": "code",
   "execution_count": 193,
   "metadata": {},
   "outputs": [],
   "source": [
    "df = df.drop(columns = ['Brand'], axis = 0)"
   ]
  },
  {
   "cell_type": "markdown",
   "metadata": {},
   "source": [
    "## Final Clean Up\n",
    "---"
   ]
  },
  {
   "cell_type": "code",
   "execution_count": 194,
   "metadata": {},
   "outputs": [
    {
     "data": {
      "text/html": [
       "<div>\n",
       "<style scoped>\n",
       "    .dataframe tbody tr th:only-of-type {\n",
       "        vertical-align: middle;\n",
       "    }\n",
       "\n",
       "    .dataframe tbody tr th {\n",
       "        vertical-align: top;\n",
       "    }\n",
       "\n",
       "    .dataframe thead th {\n",
       "        text-align: right;\n",
       "    }\n",
       "</style>\n",
       "<table border=\"1\" class=\"dataframe\">\n",
       "  <thead>\n",
       "    <tr style=\"text-align: right;\">\n",
       "      <th></th>\n",
       "      <th>Product ID</th>\n",
       "      <th>Description</th>\n",
       "      <th>Price</th>\n",
       "      <th>Rating</th>\n",
       "      <th>Is Prime</th>\n",
       "      <th>Wireless</th>\n",
       "      <th>Noise Cancelling</th>\n",
       "      <th>Colour</th>\n",
       "      <th>Battery Life</th>\n",
       "      <th>Microphone</th>\n",
       "      <th>Over Ear</th>\n",
       "      <th>Gaming</th>\n",
       "      <th>Foldable</th>\n",
       "    </tr>\n",
       "  </thead>\n",
       "  <tbody>\n",
       "    <tr>\n",
       "      <th>0</th>\n",
       "      <td>B07K776ZK6</td>\n",
       "      <td>oneodio wired over ear headphones hi-fi sound ...</td>\n",
       "      <td>34.99</td>\n",
       "      <td>4.4 out of 5 stars</td>\n",
       "      <td>0</td>\n",
       "      <td>0</td>\n",
       "      <td>0</td>\n",
       "      <td>red</td>\n",
       "      <td>Not Specified</td>\n",
       "      <td>0</td>\n",
       "      <td>1</td>\n",
       "      <td>0</td>\n",
       "      <td>0</td>\n",
       "    </tr>\n",
       "    <tr>\n",
       "      <th>1</th>\n",
       "      <td>B074DZ39QJ</td>\n",
       "      <td>lindy nc-60 wired active noise cancelling (anc...</td>\n",
       "      <td>58.78</td>\n",
       "      <td>4.2 out of 5 stars</td>\n",
       "      <td>1</td>\n",
       "      <td>0</td>\n",
       "      <td>1</td>\n",
       "      <td>black</td>\n",
       "      <td>Not Specified</td>\n",
       "      <td>0</td>\n",
       "      <td>0</td>\n",
       "      <td>0</td>\n",
       "      <td>0</td>\n",
       "    </tr>\n",
       "    <tr>\n",
       "      <th>2</th>\n",
       "      <td>B00I3LUYNG</td>\n",
       "      <td>sony mdrzx310l.ae foldable headphones - metall...</td>\n",
       "      <td>18.00</td>\n",
       "      <td>4.5 out of 5 stars</td>\n",
       "      <td>0</td>\n",
       "      <td>0</td>\n",
       "      <td>0</td>\n",
       "      <td>blue</td>\n",
       "      <td>Not Specified</td>\n",
       "      <td>0</td>\n",
       "      <td>0</td>\n",
       "      <td>0</td>\n",
       "      <td>1</td>\n",
       "    </tr>\n",
       "    <tr>\n",
       "      <th>3</th>\n",
       "      <td>B09PQSVFQT</td>\n",
       "      <td>kvidio bluetooth headphones over ear, 65 hours...</td>\n",
       "      <td>18.99</td>\n",
       "      <td>4.5 out of 5 stars</td>\n",
       "      <td>0</td>\n",
       "      <td>1</td>\n",
       "      <td>0</td>\n",
       "      <td>black</td>\n",
       "      <td>65</td>\n",
       "      <td>1</td>\n",
       "      <td>1</td>\n",
       "      <td>0</td>\n",
       "      <td>1</td>\n",
       "    </tr>\n",
       "    <tr>\n",
       "      <th>4</th>\n",
       "      <td>B00NBR70DO</td>\n",
       "      <td>sony mdr-zx110 overhead headphones - black , b...</td>\n",
       "      <td>14.79</td>\n",
       "      <td>4.5 out of 5 stars</td>\n",
       "      <td>0</td>\n",
       "      <td>0</td>\n",
       "      <td>0</td>\n",
       "      <td>black</td>\n",
       "      <td>Not Specified</td>\n",
       "      <td>0</td>\n",
       "      <td>1</td>\n",
       "      <td>0</td>\n",
       "      <td>0</td>\n",
       "    </tr>\n",
       "    <tr>\n",
       "      <th>5</th>\n",
       "      <td>B0C8V45ZF5</td>\n",
       "      <td>roxel rx-90 wired headphones with microphone -...</td>\n",
       "      <td>12.99</td>\n",
       "      <td>4.2 out of 5 stars</td>\n",
       "      <td>0</td>\n",
       "      <td>0</td>\n",
       "      <td>0</td>\n",
       "      <td>black</td>\n",
       "      <td>Not Specified</td>\n",
       "      <td>1</td>\n",
       "      <td>0</td>\n",
       "      <td>0</td>\n",
       "      <td>0</td>\n",
       "    </tr>\n",
       "    <tr>\n",
       "      <th>6</th>\n",
       "      <td>B0CQXGBNDV</td>\n",
       "      <td>ailihen wired headphones with microphone and v...</td>\n",
       "      <td>24.99</td>\n",
       "      <td>4.3 out of 5 stars</td>\n",
       "      <td>0</td>\n",
       "      <td>0</td>\n",
       "      <td>0</td>\n",
       "      <td>grey</td>\n",
       "      <td>Not Specified</td>\n",
       "      <td>1</td>\n",
       "      <td>1</td>\n",
       "      <td>0</td>\n",
       "      <td>1</td>\n",
       "    </tr>\n",
       "    <tr>\n",
       "      <th>7</th>\n",
       "      <td>B083P1HG9S</td>\n",
       "      <td>lorelei x6 over-ear headphones with microphone...</td>\n",
       "      <td>15.99</td>\n",
       "      <td>4.4 out of 5 stars</td>\n",
       "      <td>0</td>\n",
       "      <td>0</td>\n",
       "      <td>0</td>\n",
       "      <td>black</td>\n",
       "      <td>Not Specified</td>\n",
       "      <td>1</td>\n",
       "      <td>1</td>\n",
       "      <td>0</td>\n",
       "      <td>1</td>\n",
       "    </tr>\n",
       "    <tr>\n",
       "      <th>8</th>\n",
       "      <td>B0BCXJYD3G</td>\n",
       "      <td>bluetooth headphones over-ear, powerlocus wire...</td>\n",
       "      <td>17.99</td>\n",
       "      <td>4.5 out of 5 stars</td>\n",
       "      <td>0</td>\n",
       "      <td>1</td>\n",
       "      <td>0</td>\n",
       "      <td>Not Specified</td>\n",
       "      <td>Not Specified</td>\n",
       "      <td>1</td>\n",
       "      <td>1</td>\n",
       "      <td>0</td>\n",
       "      <td>1</td>\n",
       "    </tr>\n",
       "    <tr>\n",
       "      <th>9</th>\n",
       "      <td>B087JWTWF9</td>\n",
       "      <td>artix cl750 wired headphones with mic &amp; volume...</td>\n",
       "      <td>24.78</td>\n",
       "      <td>4.2 out of 5 stars</td>\n",
       "      <td>0</td>\n",
       "      <td>0</td>\n",
       "      <td>1</td>\n",
       "      <td>Not Specified</td>\n",
       "      <td>Not Specified</td>\n",
       "      <td>1</td>\n",
       "      <td>1</td>\n",
       "      <td>0</td>\n",
       "      <td>1</td>\n",
       "    </tr>\n",
       "  </tbody>\n",
       "</table>\n",
       "</div>"
      ],
      "text/plain": [
       "   Product ID                                        Description  Price  \\\n",
       "0  B07K776ZK6  oneodio wired over ear headphones hi-fi sound ...  34.99   \n",
       "1  B074DZ39QJ  lindy nc-60 wired active noise cancelling (anc...  58.78   \n",
       "2  B00I3LUYNG  sony mdrzx310l.ae foldable headphones - metall...  18.00   \n",
       "3  B09PQSVFQT  kvidio bluetooth headphones over ear, 65 hours...  18.99   \n",
       "4  B00NBR70DO  sony mdr-zx110 overhead headphones - black , b...  14.79   \n",
       "5  B0C8V45ZF5  roxel rx-90 wired headphones with microphone -...  12.99   \n",
       "6  B0CQXGBNDV  ailihen wired headphones with microphone and v...  24.99   \n",
       "7  B083P1HG9S  lorelei x6 over-ear headphones with microphone...  15.99   \n",
       "8  B0BCXJYD3G  bluetooth headphones over-ear, powerlocus wire...  17.99   \n",
       "9  B087JWTWF9  artix cl750 wired headphones with mic & volume...  24.78   \n",
       "\n",
       "               Rating  Is Prime  Wireless  Noise Cancelling         Colour  \\\n",
       "0  4.4 out of 5 stars         0         0                 0            red   \n",
       "1  4.2 out of 5 stars         1         0                 1          black   \n",
       "2  4.5 out of 5 stars         0         0                 0           blue   \n",
       "3  4.5 out of 5 stars         0         1                 0          black   \n",
       "4  4.5 out of 5 stars         0         0                 0          black   \n",
       "5  4.2 out of 5 stars         0         0                 0          black   \n",
       "6  4.3 out of 5 stars         0         0                 0           grey   \n",
       "7  4.4 out of 5 stars         0         0                 0          black   \n",
       "8  4.5 out of 5 stars         0         1                 0  Not Specified   \n",
       "9  4.2 out of 5 stars         0         0                 1  Not Specified   \n",
       "\n",
       "    Battery Life  Microphone  Over Ear  Gaming  Foldable  \n",
       "0  Not Specified           0         1       0         0  \n",
       "1  Not Specified           0         0       0         0  \n",
       "2  Not Specified           0         0       0         1  \n",
       "3             65           1         1       0         1  \n",
       "4  Not Specified           0         1       0         0  \n",
       "5  Not Specified           1         0       0         0  \n",
       "6  Not Specified           1         1       0         1  \n",
       "7  Not Specified           1         1       0         1  \n",
       "8  Not Specified           1         1       0         1  \n",
       "9  Not Specified           1         1       0         1  "
      ]
     },
     "execution_count": 194,
     "metadata": {},
     "output_type": "execute_result"
    }
   ],
   "source": [
    "df.head(10)"
   ]
  },
  {
   "cell_type": "markdown",
   "metadata": {},
   "source": [
    "### Checking Duplicated Product IDs"
   ]
  },
  {
   "cell_type": "code",
   "execution_count": 195,
   "metadata": {},
   "outputs": [
    {
     "data": {
      "text/html": [
       "<div>\n",
       "<style scoped>\n",
       "    .dataframe tbody tr th:only-of-type {\n",
       "        vertical-align: middle;\n",
       "    }\n",
       "\n",
       "    .dataframe tbody tr th {\n",
       "        vertical-align: top;\n",
       "    }\n",
       "\n",
       "    .dataframe thead th {\n",
       "        text-align: right;\n",
       "    }\n",
       "</style>\n",
       "<table border=\"1\" class=\"dataframe\">\n",
       "  <thead>\n",
       "    <tr style=\"text-align: right;\">\n",
       "      <th></th>\n",
       "      <th>Product ID</th>\n",
       "      <th>Description</th>\n",
       "      <th>Price</th>\n",
       "      <th>Rating</th>\n",
       "      <th>Is Prime</th>\n",
       "      <th>Wireless</th>\n",
       "      <th>Noise Cancelling</th>\n",
       "      <th>Colour</th>\n",
       "      <th>Battery Life</th>\n",
       "      <th>Microphone</th>\n",
       "      <th>Over Ear</th>\n",
       "      <th>Gaming</th>\n",
       "      <th>Foldable</th>\n",
       "    </tr>\n",
       "  </thead>\n",
       "  <tbody>\n",
       "  </tbody>\n",
       "</table>\n",
       "</div>"
      ],
      "text/plain": [
       "Empty DataFrame\n",
       "Columns: [Product ID, Description, Price, Rating, Is Prime, Wireless, Noise Cancelling, Colour, Battery Life, Microphone, Over Ear, Gaming, Foldable]\n",
       "Index: []"
      ]
     },
     "execution_count": 195,
     "metadata": {},
     "output_type": "execute_result"
    }
   ],
   "source": [
    "df[df['Product ID'].duplicated(False)].sort_values(by='Product ID')"
   ]
  },
  {
   "cell_type": "code",
   "execution_count": 196,
   "metadata": {},
   "outputs": [],
   "source": [
    "df = df.drop_duplicates(subset='Product ID')"
   ]
  },
  {
   "cell_type": "markdown",
   "metadata": {},
   "source": [
    "----\n",
    "**Comment:**\n",
    "\n",
    "Cases where same product ID present with differing features such as prime eligible and not prime eligible. To drop these products as these will cause confusion further down the line."
   ]
  },
  {
   "cell_type": "markdown",
   "metadata": {},
   "source": [
    "### Rating"
   ]
  },
  {
   "cell_type": "markdown",
   "metadata": {},
   "source": [
    "To remove `out of 5 stars` as this information is redundant information."
   ]
  },
  {
   "cell_type": "code",
   "execution_count": 197,
   "metadata": {},
   "outputs": [],
   "source": [
    "df['Rating'] = df['Rating'].astype('str')"
   ]
  },
  {
   "cell_type": "code",
   "execution_count": 198,
   "metadata": {},
   "outputs": [],
   "source": [
    "df['Rating'] = df['Rating'].str.replace('out of 5 stars', '')"
   ]
  },
  {
   "cell_type": "code",
   "execution_count": 199,
   "metadata": {},
   "outputs": [],
   "source": [
    "df['Rating'] = df['Rating'].astype(float)"
   ]
  },
  {
   "cell_type": "markdown",
   "metadata": {},
   "source": [
    "### Data Types"
   ]
  },
  {
   "cell_type": "code",
   "execution_count": 200,
   "metadata": {},
   "outputs": [
    {
     "name": "stdout",
     "output_type": "stream",
     "text": [
      "<class 'pandas.core.frame.DataFrame'>\n",
      "RangeIndex: 431 entries, 0 to 430\n",
      "Data columns (total 13 columns):\n",
      " #   Column            Non-Null Count  Dtype  \n",
      "---  ------            --------------  -----  \n",
      " 0   Product ID        431 non-null    object \n",
      " 1   Description       431 non-null    object \n",
      " 2   Price             431 non-null    float64\n",
      " 3   Rating            431 non-null    float64\n",
      " 4   Is Prime          431 non-null    int64  \n",
      " 5   Wireless          431 non-null    int64  \n",
      " 6   Noise Cancelling  431 non-null    int64  \n",
      " 7   Colour            431 non-null    object \n",
      " 8   Battery Life      431 non-null    object \n",
      " 9   Microphone        431 non-null    int64  \n",
      " 10  Over Ear          431 non-null    int64  \n",
      " 11  Gaming            431 non-null    int64  \n",
      " 12  Foldable          431 non-null    int64  \n",
      "dtypes: float64(2), int64(7), object(4)\n",
      "memory usage: 43.9+ KB\n"
     ]
    }
   ],
   "source": [
    "df.info()"
   ]
  },
  {
   "cell_type": "markdown",
   "metadata": {},
   "source": [
    "## Export to CSV\n",
    "----"
   ]
  },
  {
   "cell_type": "code",
   "execution_count": 201,
   "metadata": {},
   "outputs": [],
   "source": [
    "df = df.reset_index(drop = True)"
   ]
  },
  {
   "cell_type": "code",
   "execution_count": 202,
   "metadata": {},
   "outputs": [],
   "source": [
    "cleaned_df = df.copy()"
   ]
  },
  {
   "cell_type": "code",
   "execution_count": 203,
   "metadata": {},
   "outputs": [],
   "source": [
    "cleaned_df.to_csv('../../data/cleaned_data.csv')"
   ]
  },
  {
   "cell_type": "code",
   "execution_count": 204,
   "metadata": {},
   "outputs": [
    {
     "data": {
      "text/html": [
       "<div>\n",
       "<style scoped>\n",
       "    .dataframe tbody tr th:only-of-type {\n",
       "        vertical-align: middle;\n",
       "    }\n",
       "\n",
       "    .dataframe tbody tr th {\n",
       "        vertical-align: top;\n",
       "    }\n",
       "\n",
       "    .dataframe thead th {\n",
       "        text-align: right;\n",
       "    }\n",
       "</style>\n",
       "<table border=\"1\" class=\"dataframe\">\n",
       "  <thead>\n",
       "    <tr style=\"text-align: right;\">\n",
       "      <th></th>\n",
       "      <th>Product ID</th>\n",
       "      <th>Description</th>\n",
       "      <th>Price</th>\n",
       "      <th>Rating</th>\n",
       "      <th>Is Prime</th>\n",
       "      <th>Wireless</th>\n",
       "      <th>Noise Cancelling</th>\n",
       "      <th>Colour</th>\n",
       "      <th>Battery Life</th>\n",
       "      <th>Microphone</th>\n",
       "      <th>Over Ear</th>\n",
       "      <th>Gaming</th>\n",
       "      <th>Foldable</th>\n",
       "    </tr>\n",
       "  </thead>\n",
       "  <tbody>\n",
       "    <tr>\n",
       "      <th>0</th>\n",
       "      <td>B07K776ZK6</td>\n",
       "      <td>oneodio wired over ear headphones hi-fi sound ...</td>\n",
       "      <td>34.99</td>\n",
       "      <td>4.4</td>\n",
       "      <td>0</td>\n",
       "      <td>0</td>\n",
       "      <td>0</td>\n",
       "      <td>red</td>\n",
       "      <td>Not Specified</td>\n",
       "      <td>0</td>\n",
       "      <td>1</td>\n",
       "      <td>0</td>\n",
       "      <td>0</td>\n",
       "    </tr>\n",
       "    <tr>\n",
       "      <th>1</th>\n",
       "      <td>B074DZ39QJ</td>\n",
       "      <td>lindy nc-60 wired active noise cancelling (anc...</td>\n",
       "      <td>58.78</td>\n",
       "      <td>4.2</td>\n",
       "      <td>1</td>\n",
       "      <td>0</td>\n",
       "      <td>1</td>\n",
       "      <td>black</td>\n",
       "      <td>Not Specified</td>\n",
       "      <td>0</td>\n",
       "      <td>0</td>\n",
       "      <td>0</td>\n",
       "      <td>0</td>\n",
       "    </tr>\n",
       "    <tr>\n",
       "      <th>2</th>\n",
       "      <td>B00I3LUYNG</td>\n",
       "      <td>sony mdrzx310l.ae foldable headphones - metall...</td>\n",
       "      <td>18.00</td>\n",
       "      <td>4.5</td>\n",
       "      <td>0</td>\n",
       "      <td>0</td>\n",
       "      <td>0</td>\n",
       "      <td>blue</td>\n",
       "      <td>Not Specified</td>\n",
       "      <td>0</td>\n",
       "      <td>0</td>\n",
       "      <td>0</td>\n",
       "      <td>1</td>\n",
       "    </tr>\n",
       "    <tr>\n",
       "      <th>3</th>\n",
       "      <td>B09PQSVFQT</td>\n",
       "      <td>kvidio bluetooth headphones over ear, 65 hours...</td>\n",
       "      <td>18.99</td>\n",
       "      <td>4.5</td>\n",
       "      <td>0</td>\n",
       "      <td>1</td>\n",
       "      <td>0</td>\n",
       "      <td>black</td>\n",
       "      <td>65</td>\n",
       "      <td>1</td>\n",
       "      <td>1</td>\n",
       "      <td>0</td>\n",
       "      <td>1</td>\n",
       "    </tr>\n",
       "    <tr>\n",
       "      <th>4</th>\n",
       "      <td>B00NBR70DO</td>\n",
       "      <td>sony mdr-zx110 overhead headphones - black , b...</td>\n",
       "      <td>14.79</td>\n",
       "      <td>4.5</td>\n",
       "      <td>0</td>\n",
       "      <td>0</td>\n",
       "      <td>0</td>\n",
       "      <td>black</td>\n",
       "      <td>Not Specified</td>\n",
       "      <td>0</td>\n",
       "      <td>1</td>\n",
       "      <td>0</td>\n",
       "      <td>0</td>\n",
       "    </tr>\n",
       "    <tr>\n",
       "      <th>5</th>\n",
       "      <td>B0C8V45ZF5</td>\n",
       "      <td>roxel rx-90 wired headphones with microphone -...</td>\n",
       "      <td>12.99</td>\n",
       "      <td>4.2</td>\n",
       "      <td>0</td>\n",
       "      <td>0</td>\n",
       "      <td>0</td>\n",
       "      <td>black</td>\n",
       "      <td>Not Specified</td>\n",
       "      <td>1</td>\n",
       "      <td>0</td>\n",
       "      <td>0</td>\n",
       "      <td>0</td>\n",
       "    </tr>\n",
       "    <tr>\n",
       "      <th>6</th>\n",
       "      <td>B0CQXGBNDV</td>\n",
       "      <td>ailihen wired headphones with microphone and v...</td>\n",
       "      <td>24.99</td>\n",
       "      <td>4.3</td>\n",
       "      <td>0</td>\n",
       "      <td>0</td>\n",
       "      <td>0</td>\n",
       "      <td>grey</td>\n",
       "      <td>Not Specified</td>\n",
       "      <td>1</td>\n",
       "      <td>1</td>\n",
       "      <td>0</td>\n",
       "      <td>1</td>\n",
       "    </tr>\n",
       "    <tr>\n",
       "      <th>7</th>\n",
       "      <td>B083P1HG9S</td>\n",
       "      <td>lorelei x6 over-ear headphones with microphone...</td>\n",
       "      <td>15.99</td>\n",
       "      <td>4.4</td>\n",
       "      <td>0</td>\n",
       "      <td>0</td>\n",
       "      <td>0</td>\n",
       "      <td>black</td>\n",
       "      <td>Not Specified</td>\n",
       "      <td>1</td>\n",
       "      <td>1</td>\n",
       "      <td>0</td>\n",
       "      <td>1</td>\n",
       "    </tr>\n",
       "    <tr>\n",
       "      <th>8</th>\n",
       "      <td>B0BCXJYD3G</td>\n",
       "      <td>bluetooth headphones over-ear, powerlocus wire...</td>\n",
       "      <td>17.99</td>\n",
       "      <td>4.5</td>\n",
       "      <td>0</td>\n",
       "      <td>1</td>\n",
       "      <td>0</td>\n",
       "      <td>Not Specified</td>\n",
       "      <td>Not Specified</td>\n",
       "      <td>1</td>\n",
       "      <td>1</td>\n",
       "      <td>0</td>\n",
       "      <td>1</td>\n",
       "    </tr>\n",
       "    <tr>\n",
       "      <th>9</th>\n",
       "      <td>B087JWTWF9</td>\n",
       "      <td>artix cl750 wired headphones with mic &amp; volume...</td>\n",
       "      <td>24.78</td>\n",
       "      <td>4.2</td>\n",
       "      <td>0</td>\n",
       "      <td>0</td>\n",
       "      <td>1</td>\n",
       "      <td>Not Specified</td>\n",
       "      <td>Not Specified</td>\n",
       "      <td>1</td>\n",
       "      <td>1</td>\n",
       "      <td>0</td>\n",
       "      <td>1</td>\n",
       "    </tr>\n",
       "  </tbody>\n",
       "</table>\n",
       "</div>"
      ],
      "text/plain": [
       "   Product ID                                        Description  Price  \\\n",
       "0  B07K776ZK6  oneodio wired over ear headphones hi-fi sound ...  34.99   \n",
       "1  B074DZ39QJ  lindy nc-60 wired active noise cancelling (anc...  58.78   \n",
       "2  B00I3LUYNG  sony mdrzx310l.ae foldable headphones - metall...  18.00   \n",
       "3  B09PQSVFQT  kvidio bluetooth headphones over ear, 65 hours...  18.99   \n",
       "4  B00NBR70DO  sony mdr-zx110 overhead headphones - black , b...  14.79   \n",
       "5  B0C8V45ZF5  roxel rx-90 wired headphones with microphone -...  12.99   \n",
       "6  B0CQXGBNDV  ailihen wired headphones with microphone and v...  24.99   \n",
       "7  B083P1HG9S  lorelei x6 over-ear headphones with microphone...  15.99   \n",
       "8  B0BCXJYD3G  bluetooth headphones over-ear, powerlocus wire...  17.99   \n",
       "9  B087JWTWF9  artix cl750 wired headphones with mic & volume...  24.78   \n",
       "\n",
       "   Rating  Is Prime  Wireless  Noise Cancelling         Colour   Battery Life  \\\n",
       "0     4.4         0         0                 0            red  Not Specified   \n",
       "1     4.2         1         0                 1          black  Not Specified   \n",
       "2     4.5         0         0                 0           blue  Not Specified   \n",
       "3     4.5         0         1                 0          black             65   \n",
       "4     4.5         0         0                 0          black  Not Specified   \n",
       "5     4.2         0         0                 0          black  Not Specified   \n",
       "6     4.3         0         0                 0           grey  Not Specified   \n",
       "7     4.4         0         0                 0          black  Not Specified   \n",
       "8     4.5         0         1                 0  Not Specified  Not Specified   \n",
       "9     4.2         0         0                 1  Not Specified  Not Specified   \n",
       "\n",
       "   Microphone  Over Ear  Gaming  Foldable  \n",
       "0           0         1       0         0  \n",
       "1           0         0       0         0  \n",
       "2           0         0       0         1  \n",
       "3           1         1       0         1  \n",
       "4           0         1       0         0  \n",
       "5           1         0       0         0  \n",
       "6           1         1       0         1  \n",
       "7           1         1       0         1  \n",
       "8           1         1       0         1  \n",
       "9           1         1       0         1  "
      ]
     },
     "execution_count": 204,
     "metadata": {},
     "output_type": "execute_result"
    }
   ],
   "source": [
    "cleaned_df.head(10)"
   ]
  },
  {
   "cell_type": "code",
   "execution_count": 205,
   "metadata": {},
   "outputs": [
    {
     "name": "stdout",
     "output_type": "stream",
     "text": [
      "\n",
      "    Data Quality Checks:\n",
      "    --------------------------------------------\n",
      "    No. of rows: 431\n",
      "    No. of columns: 13\n",
      "    No. of missing values: 0\n",
      "    No. of duplicated rows: 0\n",
      "    No. of duplicated columns: 0\n",
      "    \n"
     ]
    }
   ],
   "source": [
    "df_check(cleaned_df)"
   ]
  },
  {
   "cell_type": "markdown",
   "metadata": {},
   "source": [
    "## Conclusion\n",
    "-------\n",
    "\n"
   ]
  },
  {
   "cell_type": "markdown",
   "metadata": {},
   "source": [
    "In this notebook, I have cleaned the dataset ready for EDA. Here is a review of the key steps/insights:\n",
    "\n",
    "1. **Dropped Duplicates:** Removed duplicate entries to maintain data quality\n",
    "\n",
    "2. **Addressed Missing Values:** Dropped all records with null values in ratings column to keep authenticity of the data. \n",
    "\n",
    "3. **Feature Extraction:** Performed feature extraction to enhance the dataset, focusing on creating relevant features from product descriptions.\n",
    "\n",
    "With the dataset now cleaned and features added, I am prepared to proceed to the next phase: EDA. \n"
   ]
  }
 ],
 "metadata": {
  "kernelspec": {
   "display_name": "sound_decisions",
   "language": "python",
   "name": "python3"
  },
  "language_info": {
   "codemirror_mode": {
    "name": "ipython",
    "version": 3
   },
   "file_extension": ".py",
   "mimetype": "text/x-python",
   "name": "python",
   "nbconvert_exporter": "python",
   "pygments_lexer": "ipython3",
   "version": "3.11.5"
  }
 },
 "nbformat": 4,
 "nbformat_minor": 2
}
