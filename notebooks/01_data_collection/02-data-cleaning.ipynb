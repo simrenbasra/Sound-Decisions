{
 "cells": [
  {
   "cell_type": "markdown",
   "metadata": {},
   "source": [
    "----\n",
    "# Data Cleaning\n",
    "----\n",
    "\n",
    "### Notebook Overview\n",
    "\n",
    "In this notebook, I will perform data cleaning and prepare the scraped dataset for exploratory data analysis (EDA). The key steps involved include::\n",
    "\n",
    "- **Removing Duplicates:** Dropping duplicated rows to ensure accurate analysis.\n",
    "\n",
    "- **Handling Missing Values:** Addressing missing values within the dataset to ensure high data quality.\n",
    "\n",
    "- **Feature Extraction:** Enhancing the dataset by extracting relevant features from product descriptions."
   ]
  },
  {
   "cell_type": "markdown",
   "metadata": {},
   "source": [
    "## Set Up\n",
    "---"
   ]
  },
  {
   "cell_type": "code",
   "execution_count": 76,
   "metadata": {},
   "outputs": [],
   "source": [
    "import numpy as np\n",
    "import pandas as pd\n",
    "import re\n",
    "import matplotlib\n"
   ]
  },
  {
   "cell_type": "markdown",
   "metadata": {},
   "source": [
    "## Data Loading\n",
    "----"
   ]
  },
  {
   "cell_type": "code",
   "execution_count": 77,
   "metadata": {},
   "outputs": [],
   "source": [
    "df = pd.read_csv('../../data/scraped_data.csv', index_col = 0)\n"
   ]
  },
  {
   "cell_type": "markdown",
   "metadata": {},
   "source": [
    "## Utility Functions"
   ]
  },
  {
   "cell_type": "code",
   "execution_count": 78,
   "metadata": {},
   "outputs": [],
   "source": [
    "def df_check(df):\n",
    "    '''\n",
    "    Outputs quality measures for dataframes\n",
    "\n",
    "    Paramters\n",
    "    ---------\n",
    "    df: DataFrame for quality check\n",
    "\n",
    "    Returns\n",
    "    -------\n",
    "    Statements with data quality info such as shape, duplicated values, missing values\n",
    "    '''\n",
    "    \n",
    "    shape = df.shape\n",
    "    # Calling sum twice - first sum returns column level results second sum to retrun total null values in all columns\n",
    "    null_vals = df.isna().sum().sum()\n",
    "    duplicated_rows = df.duplicated().sum()\n",
    "    duplicated_cols = df.columns.duplicated().sum()\n",
    "\n",
    "    print (\n",
    "    f\"\"\"\n",
    "    Data Quality Checks:\n",
    "    --------------------------------------------\n",
    "    No. of rows: {shape[0]}\n",
    "    No. of columns: {shape[1]}\n",
    "    No. of missing values: {null_vals}\n",
    "    No. of duplicated rows: {duplicated_rows}\n",
    "    No. of duplicated columns: {duplicated_cols}\n",
    "    \"\"\"\n",
    ")\n",
    "    \n"
   ]
  },
  {
   "cell_type": "code",
   "execution_count": 79,
   "metadata": {},
   "outputs": [],
   "source": [
    "def search_description(description, regexp):\n",
    "    '''\n",
    "    Outputs binary value\n",
    "\n",
    "    Paramters\n",
    "    ---------\n",
    "    description: string of product description\n",
    "    regexp: regular expression\n",
    "\n",
    "    Returns\n",
    "    -------\n",
    "    1 if regexp is present in description, 0 if not\n",
    "    '''\n",
    "    if re.search(regexp, description.lower()):\n",
    "        return 1\n",
    "    else:\n",
    "        return 0"
   ]
  },
  {
   "cell_type": "code",
   "execution_count": 80,
   "metadata": {},
   "outputs": [],
   "source": [
    "def get_colour(description):\n",
    "    '''\n",
    "    Outputs colour in product description\n",
    "\n",
    "    Paramters\n",
    "    ---------\n",
    "    description: string of product description\n",
    "\n",
    "    Returns\n",
    "    -------\n",
    "    Colour mentioned in the description\n",
    "    '''\n",
    "    \n",
    "    # Using matplotlib to get list of colours (instead of manually creating a list)    \n",
    "    colour_names = matplotlib.colors.CSS4_COLORS.keys()\n",
    "\n",
    "    # Looping through the list of colours to see if any of the colours are in the product description \n",
    "    for colour in colour_names:\n",
    "        if re.search(rf'\\b{colour}\\b', description):\n",
    "            return colour\n",
    "        else:\n",
    "            # if first colour in the list is not found try the next\n",
    "            continue\n",
    "    \n",
    "    # Cases where no colour in the the colour_list is found in description\n",
    "    return 'Not Specified'\n",
    "    "
   ]
  },
  {
   "cell_type": "code",
   "execution_count": 81,
   "metadata": {},
   "outputs": [],
   "source": [
    "def get_battery_life(description):\n",
    "    '''\n",
    "    Outputs battery life listed in product description\n",
    "\n",
    "    Paramters\n",
    "    ---------\n",
    "    description: string of product description\n",
    "\n",
    "    Returns\n",
    "    -------\n",
    "    Battery life in hours\n",
    "    '''\n",
    "        \n",
    "    regexp = r'(\\b[1-9]\\d*)\\s*(battery|batteries|hours?|hrs?|h)'\n",
    "    if re.search(regexp,description):\n",
    "        # using .group to only get the int part of the regexp\n",
    "        return re.search(regexp,description).group(1)    \n",
    "        \n",
    "    else:\n",
    "        return 'Not Specified'"
   ]
  },
  {
   "cell_type": "markdown",
   "metadata": {},
   "source": [
    "## Preliminary Checks"
   ]
  },
  {
   "cell_type": "code",
   "execution_count": 82,
   "metadata": {},
   "outputs": [
    {
     "name": "stdout",
     "output_type": "stream",
     "text": [
      "\n",
      "    Data Quality Checks:\n",
      "    --------------------------------------------\n",
      "    No. of rows: 1503\n",
      "    No. of columns: 5\n",
      "    No. of missing values: 719\n",
      "    No. of duplicated rows: 371\n",
      "    No. of duplicated columns: 0\n",
      "    \n"
     ]
    }
   ],
   "source": [
    "df_check(df)"
   ]
  },
  {
   "cell_type": "code",
   "execution_count": 83,
   "metadata": {},
   "outputs": [
    {
     "name": "stdout",
     "output_type": "stream",
     "text": [
      "<class 'pandas.core.frame.DataFrame'>\n",
      "Index: 1503 entries, 0 to 1502\n",
      "Data columns (total 5 columns):\n",
      " #   Column       Non-Null Count  Dtype \n",
      "---  ------       --------------  ----- \n",
      " 0   Product ID   1503 non-null   object\n",
      " 1   Description  1470 non-null   object\n",
      " 2   Price        1503 non-null   object\n",
      " 3   Rating       817 non-null    object\n",
      " 4   Is Prime     1503 non-null   int64 \n",
      "dtypes: int64(1), object(4)\n",
      "memory usage: 70.5+ KB\n"
     ]
    }
   ],
   "source": [
    "df.info() # Checking data types"
   ]
  },
  {
   "cell_type": "markdown",
   "metadata": {},
   "source": [
    "### Dealing the with the duplicates"
   ]
  },
  {
   "cell_type": "code",
   "execution_count": 84,
   "metadata": {},
   "outputs": [
    {
     "data": {
      "text/html": [
       "<div>\n",
       "<style scoped>\n",
       "    .dataframe tbody tr th:only-of-type {\n",
       "        vertical-align: middle;\n",
       "    }\n",
       "\n",
       "    .dataframe tbody tr th {\n",
       "        vertical-align: top;\n",
       "    }\n",
       "\n",
       "    .dataframe thead th {\n",
       "        text-align: right;\n",
       "    }\n",
       "</style>\n",
       "<table border=\"1\" class=\"dataframe\">\n",
       "  <thead>\n",
       "    <tr style=\"text-align: right;\">\n",
       "      <th></th>\n",
       "      <th>Product ID</th>\n",
       "      <th>Description</th>\n",
       "      <th>Price</th>\n",
       "      <th>Rating</th>\n",
       "      <th>Is Prime</th>\n",
       "    </tr>\n",
       "  </thead>\n",
       "  <tbody>\n",
       "    <tr>\n",
       "      <th>1475</th>\n",
       "      <td>B0DD2WMQ1N</td>\n",
       "      <td>Ear Clip Headphone, Open Ear, Wireless Headpho...</td>\n",
       "      <td>12.85</td>\n",
       "      <td>NaN</td>\n",
       "      <td>0</td>\n",
       "    </tr>\n",
       "    <tr>\n",
       "      <th>1469</th>\n",
       "      <td>B0DD2WMQ1N</td>\n",
       "      <td>Ear Clip Headphone, Open Ear, Wireless Headpho...</td>\n",
       "      <td>12.85</td>\n",
       "      <td>NaN</td>\n",
       "      <td>0</td>\n",
       "    </tr>\n",
       "    <tr>\n",
       "      <th>1440</th>\n",
       "      <td>B0DCBMGNNZ</td>\n",
       "      <td>Shinyruo 3.5mm In Microphone Replacement Game ...</td>\n",
       "      <td>1.87</td>\n",
       "      <td>NaN</td>\n",
       "      <td>0</td>\n",
       "    </tr>\n",
       "    <tr>\n",
       "      <th>1446</th>\n",
       "      <td>B0DCBMGNNZ</td>\n",
       "      <td>Shinyruo 3.5mm In Microphone Replacement Game ...</td>\n",
       "      <td>1.87</td>\n",
       "      <td>NaN</td>\n",
       "      <td>0</td>\n",
       "    </tr>\n",
       "    <tr>\n",
       "      <th>672</th>\n",
       "      <td>B0D9LHK28S</td>\n",
       "      <td>Kanayu 100 Packs Kids Earbuds Bulk Basic Stude...</td>\n",
       "      <td>45.17</td>\n",
       "      <td>4.1 out of 5 stars</td>\n",
       "      <td>0</td>\n",
       "    </tr>\n",
       "    <tr>\n",
       "      <th>...</th>\n",
       "      <td>...</td>\n",
       "      <td>...</td>\n",
       "      <td>...</td>\n",
       "      <td>...</td>\n",
       "      <td>...</td>\n",
       "    </tr>\n",
       "    <tr>\n",
       "      <th>849</th>\n",
       "      <td>B00F54Y6GU</td>\n",
       "      <td>Over Ear Wireless Bluetooth Headphones with Mi...</td>\n",
       "      <td>33.95</td>\n",
       "      <td>4.3 out of 5 stars</td>\n",
       "      <td>0</td>\n",
       "    </tr>\n",
       "    <tr>\n",
       "      <th>1359</th>\n",
       "      <td>B00F54Y6GU</td>\n",
       "      <td>Over Ear Wireless Bluetooth Headphones with Mi...</td>\n",
       "      <td>33.95</td>\n",
       "      <td>4.3 out of 5 stars</td>\n",
       "      <td>0</td>\n",
       "    </tr>\n",
       "    <tr>\n",
       "      <th>126</th>\n",
       "      <td>B00F54Y6GU</td>\n",
       "      <td>Over Ear Wireless Bluetooth Headphones with Mi...</td>\n",
       "      <td>33.95</td>\n",
       "      <td>4.3 out of 5 stars</td>\n",
       "      <td>0</td>\n",
       "    </tr>\n",
       "    <tr>\n",
       "      <th>635</th>\n",
       "      <td>B001EOSZT4</td>\n",
       "      <td>Philips LFH2236 Stereo Headphones for dictatio...</td>\n",
       "      <td>31.44</td>\n",
       "      <td>4.3 out of 5 stars</td>\n",
       "      <td>0</td>\n",
       "    </tr>\n",
       "    <tr>\n",
       "      <th>632</th>\n",
       "      <td>B001EOSZT4</td>\n",
       "      <td>Philips LFH2236 Stereo Headphones for dictatio...</td>\n",
       "      <td>31.44</td>\n",
       "      <td>4.3 out of 5 stars</td>\n",
       "      <td>0</td>\n",
       "    </tr>\n",
       "  </tbody>\n",
       "</table>\n",
       "<p>511 rows × 5 columns</p>\n",
       "</div>"
      ],
      "text/plain": [
       "      Product ID                                        Description  Price  \\\n",
       "1475  B0DD2WMQ1N  Ear Clip Headphone, Open Ear, Wireless Headpho...  12.85   \n",
       "1469  B0DD2WMQ1N  Ear Clip Headphone, Open Ear, Wireless Headpho...  12.85   \n",
       "1440  B0DCBMGNNZ  Shinyruo 3.5mm In Microphone Replacement Game ...   1.87   \n",
       "1446  B0DCBMGNNZ  Shinyruo 3.5mm In Microphone Replacement Game ...   1.87   \n",
       "672   B0D9LHK28S  Kanayu 100 Packs Kids Earbuds Bulk Basic Stude...  45.17   \n",
       "...          ...                                                ...    ...   \n",
       "849   B00F54Y6GU  Over Ear Wireless Bluetooth Headphones with Mi...  33.95   \n",
       "1359  B00F54Y6GU  Over Ear Wireless Bluetooth Headphones with Mi...  33.95   \n",
       "126   B00F54Y6GU  Over Ear Wireless Bluetooth Headphones with Mi...  33.95   \n",
       "635   B001EOSZT4  Philips LFH2236 Stereo Headphones for dictatio...  31.44   \n",
       "632   B001EOSZT4  Philips LFH2236 Stereo Headphones for dictatio...  31.44   \n",
       "\n",
       "                  Rating  Is Prime  \n",
       "1475                 NaN         0  \n",
       "1469                 NaN         0  \n",
       "1440                 NaN         0  \n",
       "1446                 NaN         0  \n",
       "672   4.1 out of 5 stars         0  \n",
       "...                  ...       ...  \n",
       "849   4.3 out of 5 stars         0  \n",
       "1359  4.3 out of 5 stars         0  \n",
       "126   4.3 out of 5 stars         0  \n",
       "635   4.3 out of 5 stars         0  \n",
       "632   4.3 out of 5 stars         0  \n",
       "\n",
       "[511 rows x 5 columns]"
      ]
     },
     "execution_count": 84,
     "metadata": {},
     "output_type": "execute_result"
    }
   ],
   "source": [
    "df[df.duplicated(keep=False)].sort_values(by = 'Product ID', ascending=False) # quick 4 eyes check of duplicated rows"
   ]
  },
  {
   "cell_type": "code",
   "execution_count": 85,
   "metadata": {},
   "outputs": [],
   "source": [
    "duplicated = df[df.duplicated(keep='first')].sort_values(by = 'Product ID', ascending=False)"
   ]
  },
  {
   "cell_type": "code",
   "execution_count": 86,
   "metadata": {},
   "outputs": [
    {
     "data": {
      "text/plain": [
       "Product ID\n",
       "B07KY8G9NM    39\n",
       "B0C8SJSL9H    34\n",
       "B07SNBHTKD    28\n",
       "B00N3UC444    28\n",
       "B0BZD8KVM7    21\n",
       "              ..\n",
       "B09Z2S5VWM     1\n",
       "B09Z2S3TSC     1\n",
       "B09T322DTJ     1\n",
       "B09RSSDC79     1\n",
       "B0DD2WMQ1N     1\n",
       "Length: 137, dtype: int64"
      ]
     },
     "execution_count": 86,
     "metadata": {},
     "output_type": "execute_result"
    }
   ],
   "source": [
    "# using size to count number of occurrences of each duplicated headphone\n",
    "duplicated.groupby(['Product ID'])[['Product ID']].size().sort_values(ascending=False)\n"
   ]
  },
  {
   "cell_type": "code",
   "execution_count": 87,
   "metadata": {},
   "outputs": [
    {
     "data": {
      "text/html": [
       "<div>\n",
       "<style scoped>\n",
       "    .dataframe tbody tr th:only-of-type {\n",
       "        vertical-align: middle;\n",
       "    }\n",
       "\n",
       "    .dataframe tbody tr th {\n",
       "        vertical-align: top;\n",
       "    }\n",
       "\n",
       "    .dataframe thead th {\n",
       "        text-align: right;\n",
       "    }\n",
       "</style>\n",
       "<table border=\"1\" class=\"dataframe\">\n",
       "  <thead>\n",
       "    <tr style=\"text-align: right;\">\n",
       "      <th></th>\n",
       "      <th>Product ID</th>\n",
       "      <th>Description</th>\n",
       "      <th>Price</th>\n",
       "      <th>Rating</th>\n",
       "      <th>Is Prime</th>\n",
       "    </tr>\n",
       "  </thead>\n",
       "  <tbody>\n",
       "    <tr>\n",
       "      <th>1469</th>\n",
       "      <td>B0DD2WMQ1N</td>\n",
       "      <td>Ear Clip Headphone, Open Ear, Wireless Headpho...</td>\n",
       "      <td>12.85</td>\n",
       "      <td>NaN</td>\n",
       "      <td>0</td>\n",
       "    </tr>\n",
       "    <tr>\n",
       "      <th>1475</th>\n",
       "      <td>B0DD2WMQ1N</td>\n",
       "      <td>Ear Clip Headphone, Open Ear, Wireless Headpho...</td>\n",
       "      <td>12.85</td>\n",
       "      <td>NaN</td>\n",
       "      <td>0</td>\n",
       "    </tr>\n",
       "  </tbody>\n",
       "</table>\n",
       "</div>"
      ],
      "text/plain": [
       "      Product ID                                        Description  Price  \\\n",
       "1469  B0DD2WMQ1N  Ear Clip Headphone, Open Ear, Wireless Headpho...  12.85   \n",
       "1475  B0DD2WMQ1N  Ear Clip Headphone, Open Ear, Wireless Headpho...  12.85   \n",
       "\n",
       "     Rating  Is Prime  \n",
       "1469    NaN         0  \n",
       "1475    NaN         0  "
      ]
     },
     "execution_count": 87,
     "metadata": {},
     "output_type": "execute_result"
    }
   ],
   "source": [
    "df[df['Product ID'] == 'B0DD2WMQ1N']"
   ]
  },
  {
   "cell_type": "code",
   "execution_count": 88,
   "metadata": {},
   "outputs": [],
   "source": [
    "# Dropping duplicates\n",
    "df = df.drop_duplicates()"
   ]
  },
  {
   "cell_type": "code",
   "execution_count": 89,
   "metadata": {},
   "outputs": [
    {
     "name": "stdout",
     "output_type": "stream",
     "text": [
      "\n",
      "    Data Quality Checks:\n",
      "    --------------------------------------------\n",
      "    No. of rows: 1132\n",
      "    No. of columns: 5\n",
      "    No. of missing values: 645\n",
      "    No. of duplicated rows: 0\n",
      "    No. of duplicated columns: 0\n",
      "    \n"
     ]
    }
   ],
   "source": [
    "# Re-checking dataframe after dropping the duplicated rows\n",
    "df_check(df)"
   ]
  },
  {
   "cell_type": "markdown",
   "metadata": {},
   "source": [
    "### Dealing with Missing Values"
   ]
  },
  {
   "cell_type": "code",
   "execution_count": 90,
   "metadata": {},
   "outputs": [
    {
     "data": {
      "text/plain": [
       "Product ID       0\n",
       "Description     32\n",
       "Price            0\n",
       "Rating         613\n",
       "Is Prime         0\n",
       "dtype: int64"
      ]
     },
     "execution_count": 90,
     "metadata": {},
     "output_type": "execute_result"
    }
   ],
   "source": [
    "df.isna().sum()"
   ]
  },
  {
   "cell_type": "code",
   "execution_count": 91,
   "metadata": {},
   "outputs": [
    {
     "data": {
      "text/html": [
       "<div>\n",
       "<style scoped>\n",
       "    .dataframe tbody tr th:only-of-type {\n",
       "        vertical-align: middle;\n",
       "    }\n",
       "\n",
       "    .dataframe tbody tr th {\n",
       "        vertical-align: top;\n",
       "    }\n",
       "\n",
       "    .dataframe thead th {\n",
       "        text-align: right;\n",
       "    }\n",
       "</style>\n",
       "<table border=\"1\" class=\"dataframe\">\n",
       "  <thead>\n",
       "    <tr style=\"text-align: right;\">\n",
       "      <th></th>\n",
       "      <th>Product ID</th>\n",
       "      <th>Description</th>\n",
       "      <th>Price</th>\n",
       "      <th>Rating</th>\n",
       "      <th>Is Prime</th>\n",
       "    </tr>\n",
       "  </thead>\n",
       "  <tbody>\n",
       "    <tr>\n",
       "      <th>160</th>\n",
       "      <td>B0DF2TJ4D8</td>\n",
       "      <td>NaN</td>\n",
       "      <td>39.99</td>\n",
       "      <td>NaN</td>\n",
       "      <td>0</td>\n",
       "    </tr>\n",
       "    <tr>\n",
       "      <th>212</th>\n",
       "      <td>B0DF2TJ4D8</td>\n",
       "      <td>Foldable Wireless TV Headphones, Active Noise ...</td>\n",
       "      <td>39.99</td>\n",
       "      <td>NaN</td>\n",
       "      <td>0</td>\n",
       "    </tr>\n",
       "    <tr>\n",
       "      <th>242</th>\n",
       "      <td>B0D4R8FYKD</td>\n",
       "      <td>MIXCU 48-Pack Wired Headphones Bundle with Mic...</td>\n",
       "      <td>Not Specified</td>\n",
       "      <td>NaN</td>\n",
       "      <td>0</td>\n",
       "    </tr>\n",
       "    <tr>\n",
       "      <th>275</th>\n",
       "      <td>B09FLTJQWB</td>\n",
       "      <td>NCRD Wireless Noise Canceling Overhead Headpho...</td>\n",
       "      <td>505.30</td>\n",
       "      <td>NaN</td>\n",
       "      <td>0</td>\n",
       "    </tr>\n",
       "    <tr>\n",
       "      <th>284</th>\n",
       "      <td>B0D7M7C4M2</td>\n",
       "      <td>VR Headset, Virtual Reality Headset with Contr...</td>\n",
       "      <td>52.98</td>\n",
       "      <td>NaN</td>\n",
       "      <td>0</td>\n",
       "    </tr>\n",
       "    <tr>\n",
       "      <th>...</th>\n",
       "      <td>...</td>\n",
       "      <td>...</td>\n",
       "      <td>...</td>\n",
       "      <td>...</td>\n",
       "      <td>...</td>\n",
       "    </tr>\n",
       "    <tr>\n",
       "      <th>1498</th>\n",
       "      <td>B0CDQ4BZ72</td>\n",
       "      <td>LEONYS Bluetooth Wireless Earbuds,wireless Ear...</td>\n",
       "      <td>126.50</td>\n",
       "      <td>NaN</td>\n",
       "      <td>0</td>\n",
       "    </tr>\n",
       "    <tr>\n",
       "      <th>1499</th>\n",
       "      <td>B0CXS6RCM6</td>\n",
       "      <td>Sound Proof Headphones, 3.5mm Plug Headset Wit...</td>\n",
       "      <td>10.52</td>\n",
       "      <td>NaN</td>\n",
       "      <td>0</td>\n",
       "    </tr>\n",
       "    <tr>\n",
       "      <th>1500</th>\n",
       "      <td>B0CZD5WKRF</td>\n",
       "      <td>HWYYLXS Wireless Over-Ear Headphones With Micr...</td>\n",
       "      <td>23.99</td>\n",
       "      <td>NaN</td>\n",
       "      <td>0</td>\n",
       "    </tr>\n",
       "    <tr>\n",
       "      <th>1501</th>\n",
       "      <td>B0CPCFQBF9</td>\n",
       "      <td>Bluetooth Earbuds with Flashlight, Bass Noise ...</td>\n",
       "      <td>117.33</td>\n",
       "      <td>NaN</td>\n",
       "      <td>0</td>\n",
       "    </tr>\n",
       "    <tr>\n",
       "      <th>1502</th>\n",
       "      <td>B0DHGDM74B</td>\n",
       "      <td>Bbbabeslk Earbuds Wired For Adults - Wired Ope...</td>\n",
       "      <td>7.46</td>\n",
       "      <td>NaN</td>\n",
       "      <td>0</td>\n",
       "    </tr>\n",
       "  </tbody>\n",
       "</table>\n",
       "<p>613 rows × 5 columns</p>\n",
       "</div>"
      ],
      "text/plain": [
       "      Product ID                                        Description  \\\n",
       "160   B0DF2TJ4D8                                                NaN   \n",
       "212   B0DF2TJ4D8  Foldable Wireless TV Headphones, Active Noise ...   \n",
       "242   B0D4R8FYKD  MIXCU 48-Pack Wired Headphones Bundle with Mic...   \n",
       "275   B09FLTJQWB  NCRD Wireless Noise Canceling Overhead Headpho...   \n",
       "284   B0D7M7C4M2  VR Headset, Virtual Reality Headset with Contr...   \n",
       "...          ...                                                ...   \n",
       "1498  B0CDQ4BZ72  LEONYS Bluetooth Wireless Earbuds,wireless Ear...   \n",
       "1499  B0CXS6RCM6  Sound Proof Headphones, 3.5mm Plug Headset Wit...   \n",
       "1500  B0CZD5WKRF  HWYYLXS Wireless Over-Ear Headphones With Micr...   \n",
       "1501  B0CPCFQBF9  Bluetooth Earbuds with Flashlight, Bass Noise ...   \n",
       "1502  B0DHGDM74B  Bbbabeslk Earbuds Wired For Adults - Wired Ope...   \n",
       "\n",
       "              Price Rating  Is Prime  \n",
       "160           39.99    NaN         0  \n",
       "212           39.99    NaN         0  \n",
       "242   Not Specified    NaN         0  \n",
       "275          505.30    NaN         0  \n",
       "284           52.98    NaN         0  \n",
       "...             ...    ...       ...  \n",
       "1498         126.50    NaN         0  \n",
       "1499          10.52    NaN         0  \n",
       "1500          23.99    NaN         0  \n",
       "1501         117.33    NaN         0  \n",
       "1502           7.46    NaN         0  \n",
       "\n",
       "[613 rows x 5 columns]"
      ]
     },
     "execution_count": 91,
     "metadata": {},
     "output_type": "execute_result"
    }
   ],
   "source": [
    "# Viewing the null value in rating\n",
    "df[df['Rating'].isna()]"
   ]
  },
  {
   "cell_type": "markdown",
   "metadata": {},
   "source": [
    "**Comment:**\n",
    "\n",
    "I have decided to delete rows with null ratings, even though this results in losing about half of my dataset. In this project, my aim is to maintain as much authenticity of the data used in the recommeder system.\n",
    "\n",
    "Imputing missing rating values with the mean or any other value could introduce some bias and potentially skew recommendations given the large number of missing values.\n",
    "\n",
    "While reducing the dataset size by 50% seems rather significant, I believe that retaining only authentic and untouched data will improive the reliability of the recommender system. \n",
    "\n",
    "Also deciding to srop null rows for price - only 32 rows."
   ]
  },
  {
   "cell_type": "code",
   "execution_count": 92,
   "metadata": {},
   "outputs": [],
   "source": [
    "# Dropping all rows with the missing rating \n",
    "df = df.dropna()"
   ]
  },
  {
   "cell_type": "code",
   "execution_count": 93,
   "metadata": {},
   "outputs": [
    {
     "name": "stdout",
     "output_type": "stream",
     "text": [
      "\n",
      "    Data Quality Checks:\n",
      "    --------------------------------------------\n",
      "    No. of rows: 488\n",
      "    No. of columns: 5\n",
      "    No. of missing values: 0\n",
      "    No. of duplicated rows: 0\n",
      "    No. of duplicated columns: 0\n",
      "    \n"
     ]
    }
   ],
   "source": [
    "# Re-checking dataframe\n",
    "df_check(df)"
   ]
  },
  {
   "cell_type": "markdown",
   "metadata": {},
   "source": [
    "### Dealing with Not Specified "
   ]
  },
  {
   "cell_type": "markdown",
   "metadata": {},
   "source": [
    "When scraping if information was not present I added a placeholder 'NOT SPECIFIED' I would have to get rid of this in certain columns where I need all info: Price"
   ]
  },
  {
   "cell_type": "code",
   "execution_count": 94,
   "metadata": {},
   "outputs": [
    {
     "data": {
      "text/plain": [
       "Index(['Product ID', 'Description', 'Price', 'Rating', 'Is Prime'], dtype='object')"
      ]
     },
     "execution_count": 94,
     "metadata": {},
     "output_type": "execute_result"
    }
   ],
   "source": [
    "df.columns       "
   ]
  },
  {
   "cell_type": "code",
   "execution_count": 95,
   "metadata": {},
   "outputs": [
    {
     "data": {
      "text/plain": [
       "Price\n",
       "15.99            22\n",
       "Not Specified    22\n",
       "19.99            22\n",
       "14.99            17\n",
       "13.99            12\n",
       "                 ..\n",
       "95.94             1\n",
       "15.98             1\n",
       "23.94             1\n",
       "27.03             1\n",
       "15.48             1\n",
       "Name: count, Length: 270, dtype: int64"
      ]
     },
     "execution_count": 95,
     "metadata": {},
     "output_type": "execute_result"
    }
   ],
   "source": [
    "df['Price'].value_counts()"
   ]
  },
  {
   "cell_type": "code",
   "execution_count": 96,
   "metadata": {},
   "outputs": [],
   "source": [
    "df = df[df['Price'] != 'Not Specified']"
   ]
  },
  {
   "cell_type": "code",
   "execution_count": 97,
   "metadata": {},
   "outputs": [
    {
     "data": {
      "text/plain": [
       "Price\n",
       "15.99    22\n",
       "19.99    22\n",
       "14.99    17\n",
       "13.99    12\n",
       "16.99    11\n",
       "         ..\n",
       "95.94     1\n",
       "15.98     1\n",
       "23.94     1\n",
       "27.03     1\n",
       "15.48     1\n",
       "Name: count, Length: 269, dtype: int64"
      ]
     },
     "execution_count": 97,
     "metadata": {},
     "output_type": "execute_result"
    }
   ],
   "source": [
    "df['Price'].value_counts()"
   ]
  },
  {
   "cell_type": "code",
   "execution_count": 98,
   "metadata": {},
   "outputs": [],
   "source": [
    "df['Price'] = df['Price'].str.replace(',', '').astype(float)"
   ]
  },
  {
   "cell_type": "code",
   "execution_count": 99,
   "metadata": {},
   "outputs": [
    {
     "name": "stdout",
     "output_type": "stream",
     "text": [
      "\n",
      "    Data Quality Checks:\n",
      "    --------------------------------------------\n",
      "    No. of rows: 466\n",
      "    No. of columns: 5\n",
      "    No. of missing values: 0\n",
      "    No. of duplicated rows: 0\n",
      "    No. of duplicated columns: 0\n",
      "    \n"
     ]
    }
   ],
   "source": [
    "df_check(df)"
   ]
  },
  {
   "cell_type": "markdown",
   "metadata": {},
   "source": [
    "### Resetting the Index"
   ]
  },
  {
   "cell_type": "code",
   "execution_count": 100,
   "metadata": {},
   "outputs": [],
   "source": [
    "df = df.reset_index(drop = True)"
   ]
  },
  {
   "cell_type": "markdown",
   "metadata": {},
   "source": [
    "## Product Description\n",
    "----"
   ]
  },
  {
   "cell_type": "code",
   "execution_count": 101,
   "metadata": {},
   "outputs": [
    {
     "data": {
      "text/plain": [
       "0      Artix CL750 Wired Headphones with Mic & Volume...\n",
       "1      Logitech G435 LIGHTSPEED & Bluetooth Wireless ...\n",
       "2      Sony MDRZX310L.AE Foldable Headphones - Metall...\n",
       "3      Sony MDR-ZX110 Overhead Headphones - Black , B...\n",
       "4      LORELEI X6 Over-Ear Headphones with Microphone...\n",
       "                             ...                        \n",
       "461    JINSERTA RGB Cat Ear Headphones,Bluetooth 5.3 ...\n",
       "462    Audiofly AFT2 True Wireless Bluetooth In-Ear H...\n",
       "463    JINSERTA RGB Cat Ear Headphones,Bluetooth 5.3 ...\n",
       "464    3.5mm Earbuds Wired Headphones for Samsung A25...\n",
       "465           Koss KPH14V Side Firing Headphone (Violet)\n",
       "Name: Description, Length: 466, dtype: object"
      ]
     },
     "execution_count": 101,
     "metadata": {},
     "output_type": "execute_result"
    }
   ],
   "source": [
    "df['Description']"
   ]
  },
  {
   "cell_type": "markdown",
   "metadata": {},
   "source": [
    "### Feature Extraction - Wireless"
   ]
  },
  {
   "cell_type": "code",
   "execution_count": 102,
   "metadata": {},
   "outputs": [],
   "source": [
    "df['Description'] = df['Description'].str.lower()"
   ]
  },
  {
   "cell_type": "code",
   "execution_count": 103,
   "metadata": {},
   "outputs": [],
   "source": [
    "# using apply args to take in regexp input \n",
    "# args expects tuple hence ,\n",
    "df['Wireless'] = df['Description'].apply(search_description, args=(r'\\bwireless\\b',))"
   ]
  },
  {
   "cell_type": "markdown",
   "metadata": {},
   "source": [
    "### Feature Extraction - Noise Cancelling"
   ]
  },
  {
   "cell_type": "code",
   "execution_count": 104,
   "metadata": {},
   "outputs": [],
   "source": [
    "df['Noise Cancelling'] = df['Description'].apply(search_description, args=(r'\\bnoise[-\\s]?cancelling\\b',))"
   ]
  },
  {
   "cell_type": "code",
   "execution_count": 105,
   "metadata": {},
   "outputs": [
    {
     "data": {
      "text/plain": [
       "Noise Cancelling\n",
       "0    399\n",
       "1     67\n",
       "Name: count, dtype: int64"
      ]
     },
     "execution_count": 105,
     "metadata": {},
     "output_type": "execute_result"
    }
   ],
   "source": [
    "df['Noise Cancelling'].value_counts()"
   ]
  },
  {
   "cell_type": "markdown",
   "metadata": {},
   "source": [
    "### Feature Extraction - Colour\n"
   ]
  },
  {
   "cell_type": "code",
   "execution_count": 106,
   "metadata": {},
   "outputs": [
    {
     "data": {
      "text/plain": [
       "0      artix cl750 wired headphones with mic & volume...\n",
       "1      logitech g435 lightspeed & bluetooth wireless ...\n",
       "2      sony mdrzx310l.ae foldable headphones - metall...\n",
       "3      sony mdr-zx110 overhead headphones - black , b...\n",
       "4      lorelei x6 over-ear headphones with microphone...\n",
       "                             ...                        \n",
       "461    jinserta rgb cat ear headphones,bluetooth 5.3 ...\n",
       "462    audiofly aft2 true wireless bluetooth in-ear h...\n",
       "463    jinserta rgb cat ear headphones,bluetooth 5.3 ...\n",
       "464    3.5mm earbuds wired headphones for samsung a25...\n",
       "465           koss kph14v side firing headphone (violet)\n",
       "Name: Description, Length: 466, dtype: object"
      ]
     },
     "execution_count": 106,
     "metadata": {},
     "output_type": "execute_result"
    }
   ],
   "source": [
    "df['Description']"
   ]
  },
  {
   "cell_type": "code",
   "execution_count": 107,
   "metadata": {},
   "outputs": [],
   "source": [
    "# Apply the function to each row in the Description column\n",
    "df['Colour'] = df['Description'].apply(get_colour)"
   ]
  },
  {
   "cell_type": "code",
   "execution_count": 108,
   "metadata": {},
   "outputs": [
    {
     "data": {
      "text/plain": [
       "Colour\n",
       "Not Specified    187\n",
       "black            108\n",
       "blue              42\n",
       "pink              34\n",
       "gold              16\n",
       "white             16\n",
       "green             16\n",
       "purple            12\n",
       "red               10\n",
       "grey               7\n",
       "orange             4\n",
       "silver             3\n",
       "yellow             3\n",
       "navy               2\n",
       "violet             2\n",
       "ivory              1\n",
       "gray               1\n",
       "beige              1\n",
       "cyan               1\n",
       "Name: count, dtype: int64"
      ]
     },
     "execution_count": 108,
     "metadata": {},
     "output_type": "execute_result"
    }
   ],
   "source": [
    "df['Colour'].value_counts()"
   ]
  },
  {
   "cell_type": "code",
   "execution_count": 109,
   "metadata": {},
   "outputs": [],
   "source": [
    "df['Colour'] = df['Colour'].replace('gray', 'grey')"
   ]
  },
  {
   "cell_type": "code",
   "execution_count": 110,
   "metadata": {},
   "outputs": [
    {
     "data": {
      "text/html": [
       "<div>\n",
       "<style scoped>\n",
       "    .dataframe tbody tr th:only-of-type {\n",
       "        vertical-align: middle;\n",
       "    }\n",
       "\n",
       "    .dataframe tbody tr th {\n",
       "        vertical-align: top;\n",
       "    }\n",
       "\n",
       "    .dataframe thead th {\n",
       "        text-align: right;\n",
       "    }\n",
       "</style>\n",
       "<table border=\"1\" class=\"dataframe\">\n",
       "  <thead>\n",
       "    <tr style=\"text-align: right;\">\n",
       "      <th></th>\n",
       "      <th>Product ID</th>\n",
       "      <th>Description</th>\n",
       "      <th>Price</th>\n",
       "      <th>Rating</th>\n",
       "      <th>Is Prime</th>\n",
       "      <th>Wireless</th>\n",
       "      <th>Noise Cancelling</th>\n",
       "      <th>Colour</th>\n",
       "    </tr>\n",
       "  </thead>\n",
       "  <tbody>\n",
       "    <tr>\n",
       "      <th>0</th>\n",
       "      <td>B087JVV8FK</td>\n",
       "      <td>artix cl750 wired headphones with mic &amp; volume...</td>\n",
       "      <td>21.30</td>\n",
       "      <td>4.2 out of 5 stars</td>\n",
       "      <td>0</td>\n",
       "      <td>0</td>\n",
       "      <td>1</td>\n",
       "      <td>Not Specified</td>\n",
       "    </tr>\n",
       "    <tr>\n",
       "      <th>1</th>\n",
       "      <td>B07W7LNTM5</td>\n",
       "      <td>logitech g435 lightspeed &amp; bluetooth wireless ...</td>\n",
       "      <td>33.24</td>\n",
       "      <td>4.2 out of 5 stars</td>\n",
       "      <td>0</td>\n",
       "      <td>1</td>\n",
       "      <td>0</td>\n",
       "      <td>black</td>\n",
       "    </tr>\n",
       "    <tr>\n",
       "      <th>2</th>\n",
       "      <td>B00I3LUYNG</td>\n",
       "      <td>sony mdrzx310l.ae foldable headphones - metall...</td>\n",
       "      <td>18.00</td>\n",
       "      <td>4.5 out of 5 stars</td>\n",
       "      <td>0</td>\n",
       "      <td>0</td>\n",
       "      <td>0</td>\n",
       "      <td>blue</td>\n",
       "    </tr>\n",
       "    <tr>\n",
       "      <th>3</th>\n",
       "      <td>B00NBR70DO</td>\n",
       "      <td>sony mdr-zx110 overhead headphones - black , b...</td>\n",
       "      <td>14.49</td>\n",
       "      <td>4.5 out of 5 stars</td>\n",
       "      <td>0</td>\n",
       "      <td>0</td>\n",
       "      <td>0</td>\n",
       "      <td>black</td>\n",
       "    </tr>\n",
       "    <tr>\n",
       "      <th>4</th>\n",
       "      <td>B083P1HG9S</td>\n",
       "      <td>lorelei x6 over-ear headphones with microphone...</td>\n",
       "      <td>11.99</td>\n",
       "      <td>4.4 out of 5 stars</td>\n",
       "      <td>0</td>\n",
       "      <td>0</td>\n",
       "      <td>0</td>\n",
       "      <td>black</td>\n",
       "    </tr>\n",
       "    <tr>\n",
       "      <th>...</th>\n",
       "      <td>...</td>\n",
       "      <td>...</td>\n",
       "      <td>...</td>\n",
       "      <td>...</td>\n",
       "      <td>...</td>\n",
       "      <td>...</td>\n",
       "      <td>...</td>\n",
       "      <td>...</td>\n",
       "    </tr>\n",
       "    <tr>\n",
       "      <th>461</th>\n",
       "      <td>B0BQF1W43H</td>\n",
       "      <td>jinserta rgb cat ear headphones,bluetooth 5.3 ...</td>\n",
       "      <td>28.99</td>\n",
       "      <td>3.8 out of 5 stars</td>\n",
       "      <td>0</td>\n",
       "      <td>1</td>\n",
       "      <td>0</td>\n",
       "      <td>Not Specified</td>\n",
       "    </tr>\n",
       "    <tr>\n",
       "      <th>462</th>\n",
       "      <td>B08GSSBHK3</td>\n",
       "      <td>audiofly aft2 true wireless bluetooth in-ear h...</td>\n",
       "      <td>121.62</td>\n",
       "      <td>4.1 out of 5 stars</td>\n",
       "      <td>0</td>\n",
       "      <td>1</td>\n",
       "      <td>0</td>\n",
       "      <td>Not Specified</td>\n",
       "    </tr>\n",
       "    <tr>\n",
       "      <th>463</th>\n",
       "      <td>B0CPXL7VT7</td>\n",
       "      <td>jinserta rgb cat ear headphones,bluetooth 5.3 ...</td>\n",
       "      <td>28.99</td>\n",
       "      <td>3.8 out of 5 stars</td>\n",
       "      <td>0</td>\n",
       "      <td>1</td>\n",
       "      <td>0</td>\n",
       "      <td>Not Specified</td>\n",
       "    </tr>\n",
       "    <tr>\n",
       "      <th>464</th>\n",
       "      <td>B0CCDDPS87</td>\n",
       "      <td>3.5mm earbuds wired headphones for samsung a25...</td>\n",
       "      <td>15.50</td>\n",
       "      <td>4.1 out of 5 stars</td>\n",
       "      <td>0</td>\n",
       "      <td>0</td>\n",
       "      <td>0</td>\n",
       "      <td>blue</td>\n",
       "    </tr>\n",
       "    <tr>\n",
       "      <th>465</th>\n",
       "      <td>B00XHRTVCQ</td>\n",
       "      <td>koss kph14v side firing headphone (violet)</td>\n",
       "      <td>15.48</td>\n",
       "      <td>3.8 out of 5 stars</td>\n",
       "      <td>0</td>\n",
       "      <td>0</td>\n",
       "      <td>0</td>\n",
       "      <td>violet</td>\n",
       "    </tr>\n",
       "  </tbody>\n",
       "</table>\n",
       "<p>466 rows × 8 columns</p>\n",
       "</div>"
      ],
      "text/plain": [
       "     Product ID                                        Description   Price  \\\n",
       "0    B087JVV8FK  artix cl750 wired headphones with mic & volume...   21.30   \n",
       "1    B07W7LNTM5  logitech g435 lightspeed & bluetooth wireless ...   33.24   \n",
       "2    B00I3LUYNG  sony mdrzx310l.ae foldable headphones - metall...   18.00   \n",
       "3    B00NBR70DO  sony mdr-zx110 overhead headphones - black , b...   14.49   \n",
       "4    B083P1HG9S  lorelei x6 over-ear headphones with microphone...   11.99   \n",
       "..          ...                                                ...     ...   \n",
       "461  B0BQF1W43H  jinserta rgb cat ear headphones,bluetooth 5.3 ...   28.99   \n",
       "462  B08GSSBHK3  audiofly aft2 true wireless bluetooth in-ear h...  121.62   \n",
       "463  B0CPXL7VT7  jinserta rgb cat ear headphones,bluetooth 5.3 ...   28.99   \n",
       "464  B0CCDDPS87  3.5mm earbuds wired headphones for samsung a25...   15.50   \n",
       "465  B00XHRTVCQ         koss kph14v side firing headphone (violet)   15.48   \n",
       "\n",
       "                 Rating  Is Prime  Wireless  Noise Cancelling         Colour  \n",
       "0    4.2 out of 5 stars         0         0                 1  Not Specified  \n",
       "1    4.2 out of 5 stars         0         1                 0          black  \n",
       "2    4.5 out of 5 stars         0         0                 0           blue  \n",
       "3    4.5 out of 5 stars         0         0                 0          black  \n",
       "4    4.4 out of 5 stars         0         0                 0          black  \n",
       "..                  ...       ...       ...               ...            ...  \n",
       "461  3.8 out of 5 stars         0         1                 0  Not Specified  \n",
       "462  4.1 out of 5 stars         0         1                 0  Not Specified  \n",
       "463  3.8 out of 5 stars         0         1                 0  Not Specified  \n",
       "464  4.1 out of 5 stars         0         0                 0           blue  \n",
       "465  3.8 out of 5 stars         0         0                 0         violet  \n",
       "\n",
       "[466 rows x 8 columns]"
      ]
     },
     "execution_count": 110,
     "metadata": {},
     "output_type": "execute_result"
    }
   ],
   "source": [
    "df"
   ]
  },
  {
   "cell_type": "markdown",
   "metadata": {},
   "source": [
    "### Feature Extraction - Battery Life"
   ]
  },
  {
   "cell_type": "code",
   "execution_count": 111,
   "metadata": {},
   "outputs": [],
   "source": [
    "df['Battery Life'] = df['Description'].apply(get_battery_life)"
   ]
  },
  {
   "cell_type": "markdown",
   "metadata": {},
   "source": [
    "### Feature Extraction - Microphone"
   ]
  },
  {
   "cell_type": "code",
   "execution_count": 112,
   "metadata": {},
   "outputs": [],
   "source": [
    "df['Microphone'] = df['Description'].apply(search_description, args=(r'\\b(mic?|microphone?)\\b',))"
   ]
  },
  {
   "cell_type": "markdown",
   "metadata": {},
   "source": [
    "### Feature Extraction: Over Ear"
   ]
  },
  {
   "cell_type": "code",
   "execution_count": 113,
   "metadata": {},
   "outputs": [],
   "source": [
    "df['Over Ear'] = df['Description'].apply(search_description, args=(r'\\b(over[\\s-]ear?|overhead?)\\b',))"
   ]
  },
  {
   "cell_type": "markdown",
   "metadata": {},
   "source": [
    "### Feature Extraction : Gaming "
   ]
  },
  {
   "cell_type": "code",
   "execution_count": 115,
   "metadata": {},
   "outputs": [],
   "source": [
    "df['Gaming'] = df['Description'].apply(search_description, args=(r'\\bgaming\\b',))"
   ]
  },
  {
   "cell_type": "markdown",
   "metadata": {},
   "source": [
    "### Feature Extraction : Foldable "
   ]
  },
  {
   "cell_type": "code",
   "execution_count": 116,
   "metadata": {},
   "outputs": [],
   "source": [
    "df['Foldable'] = df['Description'].apply(search_description, args=(r'\\bfoldable\\b',))"
   ]
  },
  {
   "cell_type": "markdown",
   "metadata": {},
   "source": [
    "### Feature Extraction : Brand"
   ]
  },
  {
   "cell_type": "code",
   "execution_count": 117,
   "metadata": {},
   "outputs": [],
   "source": [
    "import spacy"
   ]
  },
  {
   "cell_type": "code",
   "execution_count": 118,
   "metadata": {},
   "outputs": [],
   "source": [
    "def get_brand(description):\n",
    "    # Load a pre-trained model\n",
    "    nlp = spacy.load(\"en_core_web_sm\")\n",
    "\n",
    "    # Process the text\n",
    "    doc = nlp(description)\n",
    "    # Extract named entities\n",
    "    for ent in doc.ents:\n",
    "        if ent.label_ == \"ORG\":  # ORG for organisations/brands\n",
    "            return ent.text\n",
    "        else:\n",
    "            return 'Unknown Brand'"
   ]
  },
  {
   "cell_type": "code",
   "execution_count": 119,
   "metadata": {},
   "outputs": [],
   "source": [
    "df['Brand'] = df['Description'].apply(get_brand)"
   ]
  },
  {
   "cell_type": "code",
   "execution_count": 120,
   "metadata": {},
   "outputs": [
    {
     "data": {
      "text/plain": [
       "Brand\n",
       "Unknown Brand                       297\n",
       "sony                                  8\n",
       "c8                                    5\n",
       "radio & wired                         3\n",
       "doqaus bluetooth headphones over      3\n",
       "rgb                                   3\n",
       "louise & mann                         3\n",
       "mac                                   2\n",
       "jyps                                  2\n",
       "betron                                2\n",
       "jyps kids wireless                    2\n",
       "osszit kids headphones                2\n",
       "android                               2\n",
       "670nc                                 1\n",
       "philips tat8506wt                     1\n",
       "usb                                   1\n",
       "koss kph14w                           1\n",
       "samson technologies                   1\n",
       "ukcoco                                1\n",
       "ref                                   1\n",
       "ip68                                  1\n",
       "microphone & volume                   1\n",
       "lomiluskr                             1\n",
       "xosda bulk                            1\n",
       "orzly                                 1\n",
       "aptx hd & low                         1\n",
       "xosda kids                            1\n",
       "120h                                  1\n",
       "microphone & share jack               1\n",
       "xbt-80                                1\n",
       "camo grey                             1\n",
       "betron b550                           1\n",
       "microphone & volume limited           1\n",
       "mp3/4                                 1\n",
       "ip55                                  1\n",
       "sendowtek kids wireless               1\n",
       "wt/00                                 1\n",
       "microsoft                             1\n",
       "doqaus bluetooth headphones           1\n",
       "skullcandy hesh                       1\n",
       "nabevi kids headphones                1\n",
       "panasonic                             1\n",
       "konnao kids                           1\n",
       "kph14v                                1\n",
       "Name: count, dtype: int64"
      ]
     },
     "execution_count": 120,
     "metadata": {},
     "output_type": "execute_result"
    }
   ],
   "source": [
    "df['Brand'].value_counts()"
   ]
  },
  {
   "cell_type": "markdown",
   "metadata": {},
   "source": [
    "-----\n",
    "**Comment:**\n",
    "\n",
    "My attempt at using SpaCy to extract the brand names from Product Descrption did not work too well. \n",
    "\n",
    "Majority of the data set containes brand names which are unknown and the ones it managed to find - most are not a brand and are common words in description like wireless/bluetooth or a colours. Therefore, I will drop this column from the dataframe."
   ]
  },
  {
   "cell_type": "code",
   "execution_count": 121,
   "metadata": {},
   "outputs": [],
   "source": [
    "df = df.drop(columns = ['Brand'], axis = 0)"
   ]
  },
  {
   "cell_type": "markdown",
   "metadata": {},
   "source": [
    "## Final Clean Up\n",
    "---"
   ]
  },
  {
   "cell_type": "code",
   "execution_count": 122,
   "metadata": {},
   "outputs": [
    {
     "data": {
      "text/html": [
       "<div>\n",
       "<style scoped>\n",
       "    .dataframe tbody tr th:only-of-type {\n",
       "        vertical-align: middle;\n",
       "    }\n",
       "\n",
       "    .dataframe tbody tr th {\n",
       "        vertical-align: top;\n",
       "    }\n",
       "\n",
       "    .dataframe thead th {\n",
       "        text-align: right;\n",
       "    }\n",
       "</style>\n",
       "<table border=\"1\" class=\"dataframe\">\n",
       "  <thead>\n",
       "    <tr style=\"text-align: right;\">\n",
       "      <th></th>\n",
       "      <th>Product ID</th>\n",
       "      <th>Description</th>\n",
       "      <th>Price</th>\n",
       "      <th>Rating</th>\n",
       "      <th>Is Prime</th>\n",
       "      <th>Wireless</th>\n",
       "      <th>Noise Cancelling</th>\n",
       "      <th>Colour</th>\n",
       "      <th>Battery Life</th>\n",
       "      <th>Microphone</th>\n",
       "      <th>Over Ear</th>\n",
       "      <th>Gaming</th>\n",
       "      <th>Foldable</th>\n",
       "    </tr>\n",
       "  </thead>\n",
       "  <tbody>\n",
       "    <tr>\n",
       "      <th>0</th>\n",
       "      <td>B087JVV8FK</td>\n",
       "      <td>artix cl750 wired headphones with mic &amp; volume...</td>\n",
       "      <td>21.30</td>\n",
       "      <td>4.2 out of 5 stars</td>\n",
       "      <td>0</td>\n",
       "      <td>0</td>\n",
       "      <td>1</td>\n",
       "      <td>Not Specified</td>\n",
       "      <td>Not Specified</td>\n",
       "      <td>1</td>\n",
       "      <td>1</td>\n",
       "      <td>0</td>\n",
       "      <td>1</td>\n",
       "    </tr>\n",
       "    <tr>\n",
       "      <th>1</th>\n",
       "      <td>B07W7LNTM5</td>\n",
       "      <td>logitech g435 lightspeed &amp; bluetooth wireless ...</td>\n",
       "      <td>33.24</td>\n",
       "      <td>4.2 out of 5 stars</td>\n",
       "      <td>0</td>\n",
       "      <td>1</td>\n",
       "      <td>0</td>\n",
       "      <td>black</td>\n",
       "      <td>18</td>\n",
       "      <td>0</td>\n",
       "      <td>1</td>\n",
       "      <td>1</td>\n",
       "      <td>0</td>\n",
       "    </tr>\n",
       "    <tr>\n",
       "      <th>2</th>\n",
       "      <td>B00I3LUYNG</td>\n",
       "      <td>sony mdrzx310l.ae foldable headphones - metall...</td>\n",
       "      <td>18.00</td>\n",
       "      <td>4.5 out of 5 stars</td>\n",
       "      <td>0</td>\n",
       "      <td>0</td>\n",
       "      <td>0</td>\n",
       "      <td>blue</td>\n",
       "      <td>Not Specified</td>\n",
       "      <td>0</td>\n",
       "      <td>0</td>\n",
       "      <td>0</td>\n",
       "      <td>1</td>\n",
       "    </tr>\n",
       "    <tr>\n",
       "      <th>3</th>\n",
       "      <td>B00NBR70DO</td>\n",
       "      <td>sony mdr-zx110 overhead headphones - black , b...</td>\n",
       "      <td>14.49</td>\n",
       "      <td>4.5 out of 5 stars</td>\n",
       "      <td>0</td>\n",
       "      <td>0</td>\n",
       "      <td>0</td>\n",
       "      <td>black</td>\n",
       "      <td>Not Specified</td>\n",
       "      <td>0</td>\n",
       "      <td>1</td>\n",
       "      <td>0</td>\n",
       "      <td>0</td>\n",
       "    </tr>\n",
       "    <tr>\n",
       "      <th>4</th>\n",
       "      <td>B083P1HG9S</td>\n",
       "      <td>lorelei x6 over-ear headphones with microphone...</td>\n",
       "      <td>11.99</td>\n",
       "      <td>4.4 out of 5 stars</td>\n",
       "      <td>0</td>\n",
       "      <td>0</td>\n",
       "      <td>0</td>\n",
       "      <td>black</td>\n",
       "      <td>Not Specified</td>\n",
       "      <td>1</td>\n",
       "      <td>1</td>\n",
       "      <td>0</td>\n",
       "      <td>1</td>\n",
       "    </tr>\n",
       "    <tr>\n",
       "      <th>5</th>\n",
       "      <td>B0BCXJYD3G</td>\n",
       "      <td>bluetooth headphones over-ear, powerlocus wire...</td>\n",
       "      <td>13.99</td>\n",
       "      <td>4.5 out of 5 stars</td>\n",
       "      <td>0</td>\n",
       "      <td>1</td>\n",
       "      <td>0</td>\n",
       "      <td>Not Specified</td>\n",
       "      <td>Not Specified</td>\n",
       "      <td>1</td>\n",
       "      <td>1</td>\n",
       "      <td>0</td>\n",
       "      <td>1</td>\n",
       "    </tr>\n",
       "    <tr>\n",
       "      <th>6</th>\n",
       "      <td>B01N3L2IEX</td>\n",
       "      <td>rockpapa i20 wired headphones, wired headset o...</td>\n",
       "      <td>14.99</td>\n",
       "      <td>4.3 out of 5 stars</td>\n",
       "      <td>0</td>\n",
       "      <td>0</td>\n",
       "      <td>0</td>\n",
       "      <td>black</td>\n",
       "      <td>Not Specified</td>\n",
       "      <td>1</td>\n",
       "      <td>0</td>\n",
       "      <td>0</td>\n",
       "      <td>1</td>\n",
       "    </tr>\n",
       "    <tr>\n",
       "      <th>7</th>\n",
       "      <td>B0828S1TPM</td>\n",
       "      <td>oneodio bluetooth headphones over ear, studio ...</td>\n",
       "      <td>33.59</td>\n",
       "      <td>4.4 out of 5 stars</td>\n",
       "      <td>0</td>\n",
       "      <td>1</td>\n",
       "      <td>0</td>\n",
       "      <td>Not Specified</td>\n",
       "      <td>110</td>\n",
       "      <td>1</td>\n",
       "      <td>1</td>\n",
       "      <td>0</td>\n",
       "      <td>1</td>\n",
       "    </tr>\n",
       "    <tr>\n",
       "      <th>8</th>\n",
       "      <td>B09PQSVFQT</td>\n",
       "      <td>kvidio bluetooth headphones over ear, 65 hours...</td>\n",
       "      <td>14.20</td>\n",
       "      <td>4.5 out of 5 stars</td>\n",
       "      <td>0</td>\n",
       "      <td>1</td>\n",
       "      <td>0</td>\n",
       "      <td>black</td>\n",
       "      <td>65</td>\n",
       "      <td>1</td>\n",
       "      <td>1</td>\n",
       "      <td>0</td>\n",
       "      <td>1</td>\n",
       "    </tr>\n",
       "    <tr>\n",
       "      <th>9</th>\n",
       "      <td>B0C8V45ZF5</td>\n",
       "      <td>roxel rx-90 wired headphones with microphone -...</td>\n",
       "      <td>12.99</td>\n",
       "      <td>4.2 out of 5 stars</td>\n",
       "      <td>0</td>\n",
       "      <td>0</td>\n",
       "      <td>0</td>\n",
       "      <td>black</td>\n",
       "      <td>Not Specified</td>\n",
       "      <td>1</td>\n",
       "      <td>0</td>\n",
       "      <td>0</td>\n",
       "      <td>0</td>\n",
       "    </tr>\n",
       "  </tbody>\n",
       "</table>\n",
       "</div>"
      ],
      "text/plain": [
       "   Product ID                                        Description  Price  \\\n",
       "0  B087JVV8FK  artix cl750 wired headphones with mic & volume...  21.30   \n",
       "1  B07W7LNTM5  logitech g435 lightspeed & bluetooth wireless ...  33.24   \n",
       "2  B00I3LUYNG  sony mdrzx310l.ae foldable headphones - metall...  18.00   \n",
       "3  B00NBR70DO  sony mdr-zx110 overhead headphones - black , b...  14.49   \n",
       "4  B083P1HG9S  lorelei x6 over-ear headphones with microphone...  11.99   \n",
       "5  B0BCXJYD3G  bluetooth headphones over-ear, powerlocus wire...  13.99   \n",
       "6  B01N3L2IEX  rockpapa i20 wired headphones, wired headset o...  14.99   \n",
       "7  B0828S1TPM  oneodio bluetooth headphones over ear, studio ...  33.59   \n",
       "8  B09PQSVFQT  kvidio bluetooth headphones over ear, 65 hours...  14.20   \n",
       "9  B0C8V45ZF5  roxel rx-90 wired headphones with microphone -...  12.99   \n",
       "\n",
       "               Rating  Is Prime  Wireless  Noise Cancelling         Colour  \\\n",
       "0  4.2 out of 5 stars         0         0                 1  Not Specified   \n",
       "1  4.2 out of 5 stars         0         1                 0          black   \n",
       "2  4.5 out of 5 stars         0         0                 0           blue   \n",
       "3  4.5 out of 5 stars         0         0                 0          black   \n",
       "4  4.4 out of 5 stars         0         0                 0          black   \n",
       "5  4.5 out of 5 stars         0         1                 0  Not Specified   \n",
       "6  4.3 out of 5 stars         0         0                 0          black   \n",
       "7  4.4 out of 5 stars         0         1                 0  Not Specified   \n",
       "8  4.5 out of 5 stars         0         1                 0          black   \n",
       "9  4.2 out of 5 stars         0         0                 0          black   \n",
       "\n",
       "    Battery Life  Microphone  Over Ear  Gaming  Foldable  \n",
       "0  Not Specified           1         1       0         1  \n",
       "1             18           0         1       1         0  \n",
       "2  Not Specified           0         0       0         1  \n",
       "3  Not Specified           0         1       0         0  \n",
       "4  Not Specified           1         1       0         1  \n",
       "5  Not Specified           1         1       0         1  \n",
       "6  Not Specified           1         0       0         1  \n",
       "7            110           1         1       0         1  \n",
       "8             65           1         1       0         1  \n",
       "9  Not Specified           1         0       0         0  "
      ]
     },
     "execution_count": 122,
     "metadata": {},
     "output_type": "execute_result"
    }
   ],
   "source": [
    "df.head(10)"
   ]
  },
  {
   "cell_type": "markdown",
   "metadata": {},
   "source": [
    "### Rating"
   ]
  },
  {
   "cell_type": "markdown",
   "metadata": {},
   "source": [
    "To remove `out of 5 stars` as this information is redundant information."
   ]
  },
  {
   "cell_type": "code",
   "execution_count": 123,
   "metadata": {},
   "outputs": [],
   "source": [
    "df['Rating'] = df['Rating'].astype('str')"
   ]
  },
  {
   "cell_type": "code",
   "execution_count": 124,
   "metadata": {},
   "outputs": [],
   "source": [
    "df['Rating'] = df['Rating'].str.replace('out of 5 stars', '')"
   ]
  },
  {
   "cell_type": "code",
   "execution_count": 125,
   "metadata": {},
   "outputs": [],
   "source": [
    "df['Rating'] = df['Rating'].astype(float)"
   ]
  },
  {
   "cell_type": "markdown",
   "metadata": {},
   "source": [
    "### Data Types"
   ]
  },
  {
   "cell_type": "code",
   "execution_count": 126,
   "metadata": {},
   "outputs": [
    {
     "name": "stdout",
     "output_type": "stream",
     "text": [
      "<class 'pandas.core.frame.DataFrame'>\n",
      "RangeIndex: 466 entries, 0 to 465\n",
      "Data columns (total 13 columns):\n",
      " #   Column            Non-Null Count  Dtype  \n",
      "---  ------            --------------  -----  \n",
      " 0   Product ID        466 non-null    object \n",
      " 1   Description       466 non-null    object \n",
      " 2   Price             466 non-null    float64\n",
      " 3   Rating            466 non-null    float64\n",
      " 4   Is Prime          466 non-null    int64  \n",
      " 5   Wireless          466 non-null    int64  \n",
      " 6   Noise Cancelling  466 non-null    int64  \n",
      " 7   Colour            466 non-null    object \n",
      " 8   Battery Life      466 non-null    object \n",
      " 9   Microphone        466 non-null    int64  \n",
      " 10  Over Ear          466 non-null    int64  \n",
      " 11  Gaming            466 non-null    int64  \n",
      " 12  Foldable          466 non-null    int64  \n",
      "dtypes: float64(2), int64(7), object(4)\n",
      "memory usage: 47.5+ KB\n"
     ]
    }
   ],
   "source": [
    "df.info()"
   ]
  },
  {
   "cell_type": "markdown",
   "metadata": {},
   "source": [
    "## Export to CSV\n",
    "----"
   ]
  },
  {
   "cell_type": "code",
   "execution_count": 127,
   "metadata": {},
   "outputs": [],
   "source": [
    "cleaned_df = df.copy()"
   ]
  },
  {
   "cell_type": "code",
   "execution_count": 128,
   "metadata": {},
   "outputs": [],
   "source": [
    "cleaned_df.to_csv('../../data/cleaned_data.csv')"
   ]
  },
  {
   "cell_type": "code",
   "execution_count": 129,
   "metadata": {},
   "outputs": [
    {
     "data": {
      "text/html": [
       "<div>\n",
       "<style scoped>\n",
       "    .dataframe tbody tr th:only-of-type {\n",
       "        vertical-align: middle;\n",
       "    }\n",
       "\n",
       "    .dataframe tbody tr th {\n",
       "        vertical-align: top;\n",
       "    }\n",
       "\n",
       "    .dataframe thead th {\n",
       "        text-align: right;\n",
       "    }\n",
       "</style>\n",
       "<table border=\"1\" class=\"dataframe\">\n",
       "  <thead>\n",
       "    <tr style=\"text-align: right;\">\n",
       "      <th></th>\n",
       "      <th>Product ID</th>\n",
       "      <th>Description</th>\n",
       "      <th>Price</th>\n",
       "      <th>Rating</th>\n",
       "      <th>Is Prime</th>\n",
       "      <th>Wireless</th>\n",
       "      <th>Noise Cancelling</th>\n",
       "      <th>Colour</th>\n",
       "      <th>Battery Life</th>\n",
       "      <th>Microphone</th>\n",
       "      <th>Over Ear</th>\n",
       "      <th>Gaming</th>\n",
       "      <th>Foldable</th>\n",
       "    </tr>\n",
       "  </thead>\n",
       "  <tbody>\n",
       "    <tr>\n",
       "      <th>0</th>\n",
       "      <td>B087JVV8FK</td>\n",
       "      <td>artix cl750 wired headphones with mic &amp; volume...</td>\n",
       "      <td>21.30</td>\n",
       "      <td>4.2</td>\n",
       "      <td>0</td>\n",
       "      <td>0</td>\n",
       "      <td>1</td>\n",
       "      <td>Not Specified</td>\n",
       "      <td>Not Specified</td>\n",
       "      <td>1</td>\n",
       "      <td>1</td>\n",
       "      <td>0</td>\n",
       "      <td>1</td>\n",
       "    </tr>\n",
       "    <tr>\n",
       "      <th>1</th>\n",
       "      <td>B07W7LNTM5</td>\n",
       "      <td>logitech g435 lightspeed &amp; bluetooth wireless ...</td>\n",
       "      <td>33.24</td>\n",
       "      <td>4.2</td>\n",
       "      <td>0</td>\n",
       "      <td>1</td>\n",
       "      <td>0</td>\n",
       "      <td>black</td>\n",
       "      <td>18</td>\n",
       "      <td>0</td>\n",
       "      <td>1</td>\n",
       "      <td>1</td>\n",
       "      <td>0</td>\n",
       "    </tr>\n",
       "    <tr>\n",
       "      <th>2</th>\n",
       "      <td>B00I3LUYNG</td>\n",
       "      <td>sony mdrzx310l.ae foldable headphones - metall...</td>\n",
       "      <td>18.00</td>\n",
       "      <td>4.5</td>\n",
       "      <td>0</td>\n",
       "      <td>0</td>\n",
       "      <td>0</td>\n",
       "      <td>blue</td>\n",
       "      <td>Not Specified</td>\n",
       "      <td>0</td>\n",
       "      <td>0</td>\n",
       "      <td>0</td>\n",
       "      <td>1</td>\n",
       "    </tr>\n",
       "    <tr>\n",
       "      <th>3</th>\n",
       "      <td>B00NBR70DO</td>\n",
       "      <td>sony mdr-zx110 overhead headphones - black , b...</td>\n",
       "      <td>14.49</td>\n",
       "      <td>4.5</td>\n",
       "      <td>0</td>\n",
       "      <td>0</td>\n",
       "      <td>0</td>\n",
       "      <td>black</td>\n",
       "      <td>Not Specified</td>\n",
       "      <td>0</td>\n",
       "      <td>1</td>\n",
       "      <td>0</td>\n",
       "      <td>0</td>\n",
       "    </tr>\n",
       "    <tr>\n",
       "      <th>4</th>\n",
       "      <td>B083P1HG9S</td>\n",
       "      <td>lorelei x6 over-ear headphones with microphone...</td>\n",
       "      <td>11.99</td>\n",
       "      <td>4.4</td>\n",
       "      <td>0</td>\n",
       "      <td>0</td>\n",
       "      <td>0</td>\n",
       "      <td>black</td>\n",
       "      <td>Not Specified</td>\n",
       "      <td>1</td>\n",
       "      <td>1</td>\n",
       "      <td>0</td>\n",
       "      <td>1</td>\n",
       "    </tr>\n",
       "    <tr>\n",
       "      <th>5</th>\n",
       "      <td>B0BCXJYD3G</td>\n",
       "      <td>bluetooth headphones over-ear, powerlocus wire...</td>\n",
       "      <td>13.99</td>\n",
       "      <td>4.5</td>\n",
       "      <td>0</td>\n",
       "      <td>1</td>\n",
       "      <td>0</td>\n",
       "      <td>Not Specified</td>\n",
       "      <td>Not Specified</td>\n",
       "      <td>1</td>\n",
       "      <td>1</td>\n",
       "      <td>0</td>\n",
       "      <td>1</td>\n",
       "    </tr>\n",
       "    <tr>\n",
       "      <th>6</th>\n",
       "      <td>B01N3L2IEX</td>\n",
       "      <td>rockpapa i20 wired headphones, wired headset o...</td>\n",
       "      <td>14.99</td>\n",
       "      <td>4.3</td>\n",
       "      <td>0</td>\n",
       "      <td>0</td>\n",
       "      <td>0</td>\n",
       "      <td>black</td>\n",
       "      <td>Not Specified</td>\n",
       "      <td>1</td>\n",
       "      <td>0</td>\n",
       "      <td>0</td>\n",
       "      <td>1</td>\n",
       "    </tr>\n",
       "    <tr>\n",
       "      <th>7</th>\n",
       "      <td>B0828S1TPM</td>\n",
       "      <td>oneodio bluetooth headphones over ear, studio ...</td>\n",
       "      <td>33.59</td>\n",
       "      <td>4.4</td>\n",
       "      <td>0</td>\n",
       "      <td>1</td>\n",
       "      <td>0</td>\n",
       "      <td>Not Specified</td>\n",
       "      <td>110</td>\n",
       "      <td>1</td>\n",
       "      <td>1</td>\n",
       "      <td>0</td>\n",
       "      <td>1</td>\n",
       "    </tr>\n",
       "    <tr>\n",
       "      <th>8</th>\n",
       "      <td>B09PQSVFQT</td>\n",
       "      <td>kvidio bluetooth headphones over ear, 65 hours...</td>\n",
       "      <td>14.20</td>\n",
       "      <td>4.5</td>\n",
       "      <td>0</td>\n",
       "      <td>1</td>\n",
       "      <td>0</td>\n",
       "      <td>black</td>\n",
       "      <td>65</td>\n",
       "      <td>1</td>\n",
       "      <td>1</td>\n",
       "      <td>0</td>\n",
       "      <td>1</td>\n",
       "    </tr>\n",
       "    <tr>\n",
       "      <th>9</th>\n",
       "      <td>B0C8V45ZF5</td>\n",
       "      <td>roxel rx-90 wired headphones with microphone -...</td>\n",
       "      <td>12.99</td>\n",
       "      <td>4.2</td>\n",
       "      <td>0</td>\n",
       "      <td>0</td>\n",
       "      <td>0</td>\n",
       "      <td>black</td>\n",
       "      <td>Not Specified</td>\n",
       "      <td>1</td>\n",
       "      <td>0</td>\n",
       "      <td>0</td>\n",
       "      <td>0</td>\n",
       "    </tr>\n",
       "  </tbody>\n",
       "</table>\n",
       "</div>"
      ],
      "text/plain": [
       "   Product ID                                        Description  Price  \\\n",
       "0  B087JVV8FK  artix cl750 wired headphones with mic & volume...  21.30   \n",
       "1  B07W7LNTM5  logitech g435 lightspeed & bluetooth wireless ...  33.24   \n",
       "2  B00I3LUYNG  sony mdrzx310l.ae foldable headphones - metall...  18.00   \n",
       "3  B00NBR70DO  sony mdr-zx110 overhead headphones - black , b...  14.49   \n",
       "4  B083P1HG9S  lorelei x6 over-ear headphones with microphone...  11.99   \n",
       "5  B0BCXJYD3G  bluetooth headphones over-ear, powerlocus wire...  13.99   \n",
       "6  B01N3L2IEX  rockpapa i20 wired headphones, wired headset o...  14.99   \n",
       "7  B0828S1TPM  oneodio bluetooth headphones over ear, studio ...  33.59   \n",
       "8  B09PQSVFQT  kvidio bluetooth headphones over ear, 65 hours...  14.20   \n",
       "9  B0C8V45ZF5  roxel rx-90 wired headphones with microphone -...  12.99   \n",
       "\n",
       "   Rating  Is Prime  Wireless  Noise Cancelling         Colour   Battery Life  \\\n",
       "0     4.2         0         0                 1  Not Specified  Not Specified   \n",
       "1     4.2         0         1                 0          black             18   \n",
       "2     4.5         0         0                 0           blue  Not Specified   \n",
       "3     4.5         0         0                 0          black  Not Specified   \n",
       "4     4.4         0         0                 0          black  Not Specified   \n",
       "5     4.5         0         1                 0  Not Specified  Not Specified   \n",
       "6     4.3         0         0                 0          black  Not Specified   \n",
       "7     4.4         0         1                 0  Not Specified            110   \n",
       "8     4.5         0         1                 0          black             65   \n",
       "9     4.2         0         0                 0          black  Not Specified   \n",
       "\n",
       "   Microphone  Over Ear  Gaming  Foldable  \n",
       "0           1         1       0         1  \n",
       "1           0         1       1         0  \n",
       "2           0         0       0         1  \n",
       "3           0         1       0         0  \n",
       "4           1         1       0         1  \n",
       "5           1         1       0         1  \n",
       "6           1         0       0         1  \n",
       "7           1         1       0         1  \n",
       "8           1         1       0         1  \n",
       "9           1         0       0         0  "
      ]
     },
     "execution_count": 129,
     "metadata": {},
     "output_type": "execute_result"
    }
   ],
   "source": [
    "cleaned_df.head(10)"
   ]
  },
  {
   "cell_type": "markdown",
   "metadata": {},
   "source": [
    "## Conclusion\n",
    "-------\n",
    "\n"
   ]
  },
  {
   "cell_type": "markdown",
   "metadata": {},
   "source": [
    "In this notebook, I have cleaned the dataset ready for EDA. Here is a review of the key steps/insights:\n",
    "\n",
    "1. **Dropped Duplicates:** Removed duplicate entries to maintain data quality\n",
    "\n",
    "2. **Addressed Missing Values:** Dropped all records with null values in ratings column to keep authenticity of the data. \n",
    "\n",
    "3. **Feature Extraction:** Performed feature extraction to enhance the dataset, focusing on creating relevant features from product descriptions.\n",
    "\n",
    "With the dataset now cleaned and features added, I am prepared to proceed to the next phase: EDA. \n"
   ]
  }
 ],
 "metadata": {
  "kernelspec": {
   "display_name": "sound_decisions",
   "language": "python",
   "name": "python3"
  },
  "language_info": {
   "codemirror_mode": {
    "name": "ipython",
    "version": 3
   },
   "file_extension": ".py",
   "mimetype": "text/x-python",
   "name": "python",
   "nbconvert_exporter": "python",
   "pygments_lexer": "ipython3",
   "version": "3.11.5"
  }
 },
 "nbformat": 4,
 "nbformat_minor": 2
}
