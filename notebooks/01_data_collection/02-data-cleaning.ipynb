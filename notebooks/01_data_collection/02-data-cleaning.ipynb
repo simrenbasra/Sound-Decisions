{
 "cells": [
  {
   "cell_type": "markdown",
   "metadata": {},
   "source": [
    "----\n",
    "# Data Cleaning\n",
    "----\n",
    "\n",
    "### Notebook Summary\n",
    "\n"
   ]
  },
  {
   "cell_type": "markdown",
   "metadata": {},
   "source": [
    "## Set Up"
   ]
  },
  {
   "cell_type": "code",
   "execution_count": 125,
   "metadata": {},
   "outputs": [],
   "source": [
    "import numpy as np\n",
    "import pandas as pd\n",
    "import re\n",
    "import matplotlib\n"
   ]
  },
  {
   "cell_type": "code",
   "execution_count": 126,
   "metadata": {},
   "outputs": [],
   "source": [
    "df = pd.read_csv('../../data/headphones_data.csv', index_col = 0)\n"
   ]
  },
  {
   "cell_type": "markdown",
   "metadata": {},
   "source": [
    "## Utility Functions"
   ]
  },
  {
   "cell_type": "code",
   "execution_count": 127,
   "metadata": {},
   "outputs": [],
   "source": [
    "def df_check(df):\n",
    "    '''\n",
    "    Outputs quality measures for dataframes\n",
    "\n",
    "    Paramters\n",
    "    ---------\n",
    "    df: DataFrame for quality check\n",
    "\n",
    "    Returns\n",
    "    -------\n",
    "    Statements with data quality info such as shape, duplicated values, missing values\n",
    "    '''\n",
    "    \n",
    "    shape = df.shape\n",
    "    # Calling sum twice - first sum returns column level results second sum to retrun total null values in all columns\n",
    "    null_vals = df.isna().sum().sum()\n",
    "    duplicated_rows = df.duplicated().sum()\n",
    "    duplicated_cols = df.columns.duplicated().sum()\n",
    "\n",
    "    print (\n",
    "    f\"\"\"\n",
    "    Data Quality Checks:\n",
    "    --------------------------------------------\n",
    "    No. of rows: {shape[0]}\n",
    "    No. of columns: {shape[1]}\n",
    "    No. of missing values: {null_vals}\n",
    "    No. of duplicated rows: {duplicated_rows}\n",
    "    No. of duplicated columns: {duplicated_cols}\n",
    "    \"\"\"\n",
    ")\n",
    "    \n"
   ]
  },
  {
   "cell_type": "code",
   "execution_count": 128,
   "metadata": {},
   "outputs": [],
   "source": [
    "def get_colour(description):\n",
    "    '''\n",
    "    Outputs colour in product description\n",
    "\n",
    "    Paramters\n",
    "    ---------\n",
    "    description: string of product description\n",
    "\n",
    "    Returns\n",
    "    -------\n",
    "    Colour mentioned in the description\n",
    "    '''\n",
    "    \n",
    "    # Using matplotlib to get list of colours (instead of manually creating a list)    \n",
    "    colour_names = matplotlib.colors.CSS4_COLORS.keys()\n",
    "\n",
    "    # Looping through the list of colours to see if any of the colours are in the product description \n",
    "    for colour in colour_names:\n",
    "        if re.search(rf'\\b{colour}\\b', description):\n",
    "            return colour\n",
    "        else:\n",
    "            # if first colour in the list is not found try the next\n",
    "            continue\n",
    "    \n",
    "    # Cases where no colour in the the colour_list is found in description\n",
    "    return 'Not Specified'\n",
    "    "
   ]
  },
  {
   "cell_type": "markdown",
   "metadata": {},
   "source": [
    "## Preliminary Checks"
   ]
  },
  {
   "cell_type": "code",
   "execution_count": 129,
   "metadata": {},
   "outputs": [
    {
     "name": "stdout",
     "output_type": "stream",
     "text": [
      "\n",
      "    Data Quality Checks:\n",
      "    --------------------------------------------\n",
      "    No. of rows: 750\n",
      "    No. of columns: 4\n",
      "    No. of missing values: 118\n",
      "    No. of duplicated rows: 196\n",
      "    No. of duplicated columns: 0\n",
      "    \n"
     ]
    }
   ],
   "source": [
    "df_check(df)"
   ]
  },
  {
   "cell_type": "markdown",
   "metadata": {},
   "source": [
    "### Dealing the with the duplicates"
   ]
  },
  {
   "cell_type": "code",
   "execution_count": 130,
   "metadata": {},
   "outputs": [],
   "source": [
    "duplicated = df[df.duplicated(keep='first')].sort_values(by = 'Price', ascending=False)"
   ]
  },
  {
   "cell_type": "code",
   "execution_count": 131,
   "metadata": {},
   "outputs": [
    {
     "data": {
      "text/plain": [
       "Description                                                                                                                                                                                               Price   Rating              Is Prime\n",
       "INFURTURE Active Noise Cancelling Headphones, H1 Wireless Over Ear Bluetooth Headphones, Deep Bass Headset, Low Latency, Memory Foam Ear Cups,40H Playtime, for Adults, Kids, TV, Travel, Home Office     31.99   4.3 out of 5 stars  0           20\n",
       "TOZO HT2 Hybrid Active Noise Cancelling Wireless Headphones, 60H Playtime Lossless Audio Over Ear Bluetooth Headphones, Hi-Res Audio Deep Bass Foldable Lightweight Headset for Workout                   58.99   4.5 out of 5 stars  1           17\n",
       "RUNOLIM Hybrid Active Noise Cancelling Headphones, Wireless Over Ear Bluetooth Headphones with Microphone, 70H Playtime, Foldable Wireless Headphones with HiFi Audio, Deep Bass for Home Travel Office   22.09   4.4 out of 5 stars  0           16\n",
       "ISOtunes PRO 2.0 EN352 Bluetooth Earplug Headphones, 27 dB Noise Reduction Rating, 16+ Hour Battery, IP67 Durability, Noise Cancelling Mic, Professional Hearing Protector (Safety Orange)                109.99  3.5 out of 5 stars  1           15\n",
       "Wantek Headsets with Microphone 2.5mm Noise Cancelling Headphones Microphone, Wired Computer Telephone Headset for PC Laptop, Call Centre, Video Conferencing                                             15.99   4.0 out of 5 stars  0           11\n",
       "                                                                                                                                                                                                                                                  ..\n",
       "OneOdio DJ Headphones, Over Ear Headphones for Studio Monitoring and Mixing, Professional Headset with Stereo Bass Sound, Foldable Headphones Suitable for Electric Drum Keyboard Guitar Amplifier        30.58   4.4 out of 5 stars  0            1\n",
       "Bluetooth Kids Headphones,Wireless Kids Headphones Over Ear with Microphones,Stereo Sound ,10H Playtime,Foldable&Adjustable Children Headphones,Bluetooth 5.1 Headset for Adults School Travel (Pink)     17.95   4.3 out of 5 stars  0            1\n",
       "Bluetooth Headphones Over-Ear, PowerLocus Wireless Headphones, Hi-Fi Stereo Deep Bass, Soft Earmuffs Foldable Headphone with Built-in Microphone, Wireless and Wired Headset for Cell Phones,Tablets, PC  17.99   4.5 out of 5 stars  0            1\n",
       "Philips Wireless Earbuds, Adults In Ear without Ear Tips, Super Slim Charging Case, Splash Sweat Resistant, Bluetooth,18 Hours Play Time, Built In Mic, Slim Design, Comfortable Fit, Black TAT2236BK/00  38.48   3.3 out of 5 stars  1            1\n",
       "YMOO Bluetooth 5.2 Hybrid Active Noise Cancelling Headphones for Airplane Travel, 80H Playtime Wireless ANC Over Ear Headphones for TV/PC/Phone/Tablet/Plane, Bluetooth Headset with Mic for Adults       69.99   4.2 out of 5 stars  1            1\n",
       "Length: 74, dtype: int64"
      ]
     },
     "execution_count": 131,
     "metadata": {},
     "output_type": "execute_result"
    }
   ],
   "source": [
    "# using size to count number of occurrences of each duplicated headphone\n",
    "duplicated.groupby(['Description', 'Price', 'Rating', 'Is Prime'])[['Description']].size().sort_values(ascending=False)\n"
   ]
  },
  {
   "cell_type": "code",
   "execution_count": 132,
   "metadata": {},
   "outputs": [],
   "source": [
    "# Deciding to drop the duplicates after inspection\n",
    "df = df.drop_duplicates()"
   ]
  },
  {
   "cell_type": "code",
   "execution_count": 133,
   "metadata": {},
   "outputs": [
    {
     "name": "stdout",
     "output_type": "stream",
     "text": [
      "\n",
      "    Data Quality Checks:\n",
      "    --------------------------------------------\n",
      "    No. of rows: 554\n",
      "    No. of columns: 4\n",
      "    No. of missing values: 112\n",
      "    No. of duplicated rows: 0\n",
      "    No. of duplicated columns: 0\n",
      "    \n"
     ]
    }
   ],
   "source": [
    "# Re-checking dataframe after dropping the duplicated rows\n",
    "df_check(df)"
   ]
  },
  {
   "cell_type": "markdown",
   "metadata": {},
   "source": [
    "### Dealing with Missing Values"
   ]
  },
  {
   "cell_type": "code",
   "execution_count": 134,
   "metadata": {},
   "outputs": [
    {
     "data": {
      "text/plain": [
       "Description      0\n",
       "Price            0\n",
       "Rating         112\n",
       "Is Prime         0\n",
       "dtype: int64"
      ]
     },
     "execution_count": 134,
     "metadata": {},
     "output_type": "execute_result"
    }
   ],
   "source": [
    "df.isna().sum()"
   ]
  },
  {
   "cell_type": "code",
   "execution_count": 135,
   "metadata": {},
   "outputs": [
    {
     "data": {
      "text/html": [
       "<div>\n",
       "<style scoped>\n",
       "    .dataframe tbody tr th:only-of-type {\n",
       "        vertical-align: middle;\n",
       "    }\n",
       "\n",
       "    .dataframe tbody tr th {\n",
       "        vertical-align: top;\n",
       "    }\n",
       "\n",
       "    .dataframe thead th {\n",
       "        text-align: right;\n",
       "    }\n",
       "</style>\n",
       "<table border=\"1\" class=\"dataframe\">\n",
       "  <thead>\n",
       "    <tr style=\"text-align: right;\">\n",
       "      <th></th>\n",
       "      <th>Description</th>\n",
       "      <th>Price</th>\n",
       "      <th>Rating</th>\n",
       "      <th>Is Prime</th>\n",
       "    </tr>\n",
       "  </thead>\n",
       "  <tbody>\n",
       "    <tr>\n",
       "      <th>147</th>\n",
       "      <td>Noise Cancelling Headphones, Wireless over Ear...</td>\n",
       "      <td>9.09</td>\n",
       "      <td>NaN</td>\n",
       "      <td>0</td>\n",
       "    </tr>\n",
       "    <tr>\n",
       "      <th>254</th>\n",
       "      <td>PCKOBEVER Bluetooth Wireless Headphones,Cute C...</td>\n",
       "      <td>10.99</td>\n",
       "      <td>NaN</td>\n",
       "      <td>0</td>\n",
       "    </tr>\n",
       "    <tr>\n",
       "      <th>309</th>\n",
       "      <td>Bewinner Cute Cat Ear Gaming Headphones, LED L...</td>\n",
       "      <td>36.25</td>\n",
       "      <td>NaN</td>\n",
       "      <td>1</td>\n",
       "    </tr>\n",
       "    <tr>\n",
       "      <th>400</th>\n",
       "      <td>Wireless Headphones for TV Watching, FM Wirele...</td>\n",
       "      <td>29.98</td>\n",
       "      <td>NaN</td>\n",
       "      <td>0</td>\n",
       "    </tr>\n",
       "    <tr>\n",
       "      <th>413</th>\n",
       "      <td>Gedourain Cat Ears Bluetooth Headset, Stereo H...</td>\n",
       "      <td>22.89</td>\n",
       "      <td>NaN</td>\n",
       "      <td>0</td>\n",
       "    </tr>\n",
       "    <tr>\n",
       "      <th>...</th>\n",
       "      <td>...</td>\n",
       "      <td>...</td>\n",
       "      <td>...</td>\n",
       "      <td>...</td>\n",
       "    </tr>\n",
       "    <tr>\n",
       "      <th>743</th>\n",
       "      <td>2 In 1 3D VR Headset Headphones, Adjustable Ki...</td>\n",
       "      <td>39.09</td>\n",
       "      <td>NaN</td>\n",
       "      <td>0</td>\n",
       "    </tr>\n",
       "    <tr>\n",
       "      <th>744</th>\n",
       "      <td>HIJIN Foldable Headphones with Microphone, Wir...</td>\n",
       "      <td>39.29</td>\n",
       "      <td>NaN</td>\n",
       "      <td>0</td>\n",
       "    </tr>\n",
       "    <tr>\n",
       "      <th>745</th>\n",
       "      <td>HIJIN Foldable Headphones with Microphone, Wir...</td>\n",
       "      <td>39.29</td>\n",
       "      <td>NaN</td>\n",
       "      <td>0</td>\n",
       "    </tr>\n",
       "    <tr>\n",
       "      <th>746</th>\n",
       "      <td>HIJIN Foldable Headphones with Microphone, Wir...</td>\n",
       "      <td>39.29</td>\n",
       "      <td>NaN</td>\n",
       "      <td>0</td>\n",
       "    </tr>\n",
       "    <tr>\n",
       "      <th>747</th>\n",
       "      <td>QOCAN Karaoke Machine with Wireless Microphone...</td>\n",
       "      <td>14.69</td>\n",
       "      <td>NaN</td>\n",
       "      <td>0</td>\n",
       "    </tr>\n",
       "  </tbody>\n",
       "</table>\n",
       "<p>112 rows × 4 columns</p>\n",
       "</div>"
      ],
      "text/plain": [
       "                                           Description  Price Rating  Is Prime\n",
       "147  Noise Cancelling Headphones, Wireless over Ear...   9.09    NaN         0\n",
       "254  PCKOBEVER Bluetooth Wireless Headphones,Cute C...  10.99    NaN         0\n",
       "309  Bewinner Cute Cat Ear Gaming Headphones, LED L...  36.25    NaN         1\n",
       "400  Wireless Headphones for TV Watching, FM Wirele...  29.98    NaN         0\n",
       "413  Gedourain Cat Ears Bluetooth Headset, Stereo H...  22.89    NaN         0\n",
       "..                                                 ...    ...    ...       ...\n",
       "743  2 In 1 3D VR Headset Headphones, Adjustable Ki...  39.09    NaN         0\n",
       "744  HIJIN Foldable Headphones with Microphone, Wir...  39.29    NaN         0\n",
       "745  HIJIN Foldable Headphones with Microphone, Wir...  39.29    NaN         0\n",
       "746  HIJIN Foldable Headphones with Microphone, Wir...  39.29    NaN         0\n",
       "747  QOCAN Karaoke Machine with Wireless Microphone...  14.69    NaN         0\n",
       "\n",
       "[112 rows x 4 columns]"
      ]
     },
     "execution_count": 135,
     "metadata": {},
     "output_type": "execute_result"
    }
   ],
   "source": [
    "# Viewing the null value in rating\n",
    "df[df['Rating'].isna()]"
   ]
  },
  {
   "cell_type": "code",
   "execution_count": 136,
   "metadata": {},
   "outputs": [],
   "source": [
    "# Dropping the row with the missing rating \n",
    "df = df.dropna()"
   ]
  },
  {
   "cell_type": "code",
   "execution_count": 137,
   "metadata": {},
   "outputs": [
    {
     "name": "stdout",
     "output_type": "stream",
     "text": [
      "\n",
      "    Data Quality Checks:\n",
      "    --------------------------------------------\n",
      "    No. of rows: 442\n",
      "    No. of columns: 4\n",
      "    No. of missing values: 0\n",
      "    No. of duplicated rows: 0\n",
      "    No. of duplicated columns: 0\n",
      "    \n"
     ]
    }
   ],
   "source": [
    "# Re-checking dataframe\n",
    "df_check(df)"
   ]
  },
  {
   "cell_type": "markdown",
   "metadata": {},
   "source": [
    "Left with 201 headphones after removing duplicated products, to continue with the cleaning."
   ]
  },
  {
   "cell_type": "markdown",
   "metadata": {},
   "source": [
    "## Product Description\n",
    "----"
   ]
  },
  {
   "cell_type": "code",
   "execution_count": 138,
   "metadata": {},
   "outputs": [
    {
     "data": {
      "text/plain": [
       "0      Ailihen C8 Headphones Wired with Microphone Fo...\n",
       "1      OneOdio Wired Over Ear Headphones Hi-Fi Sound ...\n",
       "2      Sony MDRZX310L.AE Foldable Headphones - Metall...\n",
       "3      Sony MDR-ZX110 Overhead Headphones - Black , B...\n",
       "4      KVIDIO Bluetooth Headphones Over Ear, 65 Hours...\n",
       "                             ...                        \n",
       "718    MEE audio Connect Bluetooth Wireless Headphone...\n",
       "731    ciciglow Portable Pillow Speaker, Mini Sleepin...\n",
       "740    Yunsailing 100 Packs Earbuds Bulk Classroom He...\n",
       "748    ciciglow Portable Pillow Speaker, Mini Sleepin...\n",
       "749    Philips TAT2236GR/00 Wireless Earbuds, Adults ...\n",
       "Name: Description, Length: 442, dtype: object"
      ]
     },
     "execution_count": 138,
     "metadata": {},
     "output_type": "execute_result"
    }
   ],
   "source": [
    "df['Description']"
   ]
  },
  {
   "cell_type": "markdown",
   "metadata": {},
   "source": [
    "### Feature Engineering - Wireless"
   ]
  },
  {
   "cell_type": "code",
   "execution_count": 139,
   "metadata": {},
   "outputs": [],
   "source": [
    "df['Description'] = df['Description'].str.lower()"
   ]
  },
  {
   "cell_type": "code",
   "execution_count": 140,
   "metadata": {},
   "outputs": [],
   "source": [
    "is_wireless = []\n",
    "for row in df['Description']:\n",
    "    x = bool(re.search('wireless',row))\n",
    "    is_wireless.append(x)\n"
   ]
  },
  {
   "cell_type": "code",
   "execution_count": 141,
   "metadata": {},
   "outputs": [],
   "source": [
    "df['Wireless'] = is_wireless"
   ]
  },
  {
   "cell_type": "markdown",
   "metadata": {},
   "source": [
    "### Feature Engineering - Noise Cancelling"
   ]
  },
  {
   "cell_type": "code",
   "execution_count": 142,
   "metadata": {},
   "outputs": [],
   "source": [
    "is_noise_cancel = []\n",
    "for row in df['Description']: \n",
    "    x = bool(re.search('noise[-\\s]?cancelling',row.lower()))\n",
    "    is_noise_cancel.append(x)"
   ]
  },
  {
   "cell_type": "code",
   "execution_count": 143,
   "metadata": {},
   "outputs": [],
   "source": [
    "df['Noise Cancelling'] = is_noise_cancel"
   ]
  },
  {
   "cell_type": "code",
   "execution_count": 144,
   "metadata": {},
   "outputs": [
    {
     "data": {
      "text/plain": [
       "Noise Cancelling\n",
       "False    376\n",
       "True      66\n",
       "Name: count, dtype: int64"
      ]
     },
     "execution_count": 144,
     "metadata": {},
     "output_type": "execute_result"
    }
   ],
   "source": [
    "df['Noise Cancelling'].value_counts()"
   ]
  },
  {
   "cell_type": "markdown",
   "metadata": {},
   "source": [
    "### Feature Engineering - Colour\n"
   ]
  },
  {
   "cell_type": "code",
   "execution_count": 145,
   "metadata": {},
   "outputs": [
    {
     "data": {
      "text/plain": [
       "0      ailihen c8 headphones wired with microphone fo...\n",
       "1      oneodio wired over ear headphones hi-fi sound ...\n",
       "2      sony mdrzx310l.ae foldable headphones - metall...\n",
       "3      sony mdr-zx110 overhead headphones - black , b...\n",
       "4      kvidio bluetooth headphones over ear, 65 hours...\n",
       "                             ...                        \n",
       "718    mee audio connect bluetooth wireless headphone...\n",
       "731    ciciglow portable pillow speaker, mini sleepin...\n",
       "740    yunsailing 100 packs earbuds bulk classroom he...\n",
       "748    ciciglow portable pillow speaker, mini sleepin...\n",
       "749    philips tat2236gr/00 wireless earbuds, adults ...\n",
       "Name: Description, Length: 442, dtype: object"
      ]
     },
     "execution_count": 145,
     "metadata": {},
     "output_type": "execute_result"
    }
   ],
   "source": [
    "df['Description']"
   ]
  },
  {
   "cell_type": "code",
   "execution_count": 146,
   "metadata": {},
   "outputs": [],
   "source": [
    "# Apply the function to each row in the Description column\n",
    "df['Color'] = df['Description'].apply(get_colour)"
   ]
  },
  {
   "cell_type": "code",
   "execution_count": 147,
   "metadata": {},
   "outputs": [
    {
     "data": {
      "text/html": [
       "<div>\n",
       "<style scoped>\n",
       "    .dataframe tbody tr th:only-of-type {\n",
       "        vertical-align: middle;\n",
       "    }\n",
       "\n",
       "    .dataframe tbody tr th {\n",
       "        vertical-align: top;\n",
       "    }\n",
       "\n",
       "    .dataframe thead th {\n",
       "        text-align: right;\n",
       "    }\n",
       "</style>\n",
       "<table border=\"1\" class=\"dataframe\">\n",
       "  <thead>\n",
       "    <tr style=\"text-align: right;\">\n",
       "      <th></th>\n",
       "      <th>Description</th>\n",
       "      <th>Price</th>\n",
       "      <th>Rating</th>\n",
       "      <th>Is Prime</th>\n",
       "      <th>Wireless</th>\n",
       "      <th>Noise Cancelling</th>\n",
       "      <th>Color</th>\n",
       "    </tr>\n",
       "  </thead>\n",
       "  <tbody>\n",
       "    <tr>\n",
       "      <th>0</th>\n",
       "      <td>ailihen c8 headphones wired with microphone fo...</td>\n",
       "      <td>19.99</td>\n",
       "      <td>4.3 out of 5 stars</td>\n",
       "      <td>0</td>\n",
       "      <td>False</td>\n",
       "      <td>False</td>\n",
       "      <td>black</td>\n",
       "    </tr>\n",
       "    <tr>\n",
       "      <th>1</th>\n",
       "      <td>oneodio wired over ear headphones hi-fi sound ...</td>\n",
       "      <td>27.99</td>\n",
       "      <td>4.4 out of 5 stars</td>\n",
       "      <td>0</td>\n",
       "      <td>False</td>\n",
       "      <td>False</td>\n",
       "      <td>red</td>\n",
       "    </tr>\n",
       "    <tr>\n",
       "      <th>2</th>\n",
       "      <td>sony mdrzx310l.ae foldable headphones - metall...</td>\n",
       "      <td>18.00</td>\n",
       "      <td>4.5 out of 5 stars</td>\n",
       "      <td>0</td>\n",
       "      <td>False</td>\n",
       "      <td>False</td>\n",
       "      <td>blue</td>\n",
       "    </tr>\n",
       "    <tr>\n",
       "      <th>3</th>\n",
       "      <td>sony mdr-zx110 overhead headphones - black , b...</td>\n",
       "      <td>15.97</td>\n",
       "      <td>4.5 out of 5 stars</td>\n",
       "      <td>0</td>\n",
       "      <td>False</td>\n",
       "      <td>False</td>\n",
       "      <td>black</td>\n",
       "    </tr>\n",
       "    <tr>\n",
       "      <th>4</th>\n",
       "      <td>kvidio bluetooth headphones over ear, 65 hours...</td>\n",
       "      <td>16.99</td>\n",
       "      <td>4.5 out of 5 stars</td>\n",
       "      <td>0</td>\n",
       "      <td>True</td>\n",
       "      <td>False</td>\n",
       "      <td>black</td>\n",
       "    </tr>\n",
       "    <tr>\n",
       "      <th>...</th>\n",
       "      <td>...</td>\n",
       "      <td>...</td>\n",
       "      <td>...</td>\n",
       "      <td>...</td>\n",
       "      <td>...</td>\n",
       "      <td>...</td>\n",
       "      <td>...</td>\n",
       "    </tr>\n",
       "    <tr>\n",
       "      <th>718</th>\n",
       "      <td>mee audio connect bluetooth wireless headphone...</td>\n",
       "      <td>99.99</td>\n",
       "      <td>4.3 out of 5 stars</td>\n",
       "      <td>0</td>\n",
       "      <td>True</td>\n",
       "      <td>False</td>\n",
       "      <td>Not Specified</td>\n",
       "    </tr>\n",
       "    <tr>\n",
       "      <th>731</th>\n",
       "      <td>ciciglow portable pillow speaker, mini sleepin...</td>\n",
       "      <td>18.08</td>\n",
       "      <td>1.0 out of 5 stars</td>\n",
       "      <td>0</td>\n",
       "      <td>True</td>\n",
       "      <td>False</td>\n",
       "      <td>black</td>\n",
       "    </tr>\n",
       "    <tr>\n",
       "      <th>740</th>\n",
       "      <td>yunsailing 100 packs earbuds bulk classroom he...</td>\n",
       "      <td>39.23</td>\n",
       "      <td>4.7 out of 5 stars</td>\n",
       "      <td>0</td>\n",
       "      <td>False</td>\n",
       "      <td>False</td>\n",
       "      <td>blue</td>\n",
       "    </tr>\n",
       "    <tr>\n",
       "      <th>748</th>\n",
       "      <td>ciciglow portable pillow speaker, mini sleepin...</td>\n",
       "      <td>15.61</td>\n",
       "      <td>1.0 out of 5 stars</td>\n",
       "      <td>0</td>\n",
       "      <td>True</td>\n",
       "      <td>False</td>\n",
       "      <td>white</td>\n",
       "    </tr>\n",
       "    <tr>\n",
       "      <th>749</th>\n",
       "      <td>philips tat2236gr/00 wireless earbuds, adults ...</td>\n",
       "      <td>41.99</td>\n",
       "      <td>3.7 out of 5 stars</td>\n",
       "      <td>0</td>\n",
       "      <td>True</td>\n",
       "      <td>False</td>\n",
       "      <td>green</td>\n",
       "    </tr>\n",
       "  </tbody>\n",
       "</table>\n",
       "<p>442 rows × 7 columns</p>\n",
       "</div>"
      ],
      "text/plain": [
       "                                           Description  Price  \\\n",
       "0    ailihen c8 headphones wired with microphone fo...  19.99   \n",
       "1    oneodio wired over ear headphones hi-fi sound ...  27.99   \n",
       "2    sony mdrzx310l.ae foldable headphones - metall...  18.00   \n",
       "3    sony mdr-zx110 overhead headphones - black , b...  15.97   \n",
       "4    kvidio bluetooth headphones over ear, 65 hours...  16.99   \n",
       "..                                                 ...    ...   \n",
       "718  mee audio connect bluetooth wireless headphone...  99.99   \n",
       "731  ciciglow portable pillow speaker, mini sleepin...  18.08   \n",
       "740  yunsailing 100 packs earbuds bulk classroom he...  39.23   \n",
       "748  ciciglow portable pillow speaker, mini sleepin...  15.61   \n",
       "749  philips tat2236gr/00 wireless earbuds, adults ...  41.99   \n",
       "\n",
       "                 Rating  Is Prime  Wireless  Noise Cancelling          Color  \n",
       "0    4.3 out of 5 stars         0     False             False          black  \n",
       "1    4.4 out of 5 stars         0     False             False            red  \n",
       "2    4.5 out of 5 stars         0     False             False           blue  \n",
       "3    4.5 out of 5 stars         0     False             False          black  \n",
       "4    4.5 out of 5 stars         0      True             False          black  \n",
       "..                  ...       ...       ...               ...            ...  \n",
       "718  4.3 out of 5 stars         0      True             False  Not Specified  \n",
       "731  1.0 out of 5 stars         0      True             False          black  \n",
       "740  4.7 out of 5 stars         0     False             False           blue  \n",
       "748  1.0 out of 5 stars         0      True             False          white  \n",
       "749  3.7 out of 5 stars         0      True             False          green  \n",
       "\n",
       "[442 rows x 7 columns]"
      ]
     },
     "execution_count": 147,
     "metadata": {},
     "output_type": "execute_result"
    }
   ],
   "source": [
    "df"
   ]
  },
  {
   "cell_type": "markdown",
   "metadata": {},
   "source": [
    "### Feature Engineering - Battery Life"
   ]
  },
  {
   "cell_type": "code",
   "execution_count": 213,
   "metadata": {},
   "outputs": [],
   "source": [
    "def get_battery_life(description):\n",
    "    regexp = r'((\\d+)\\s*(battery?|hours?|hrs?|h))'\n",
    "    if re.search(regexp,description):\n",
    "        # using .group to only get the int part of the regexp\n",
    "        return re.search(regexp,description).group(2)    \n",
    "        \n",
    "    else:\n",
    "        return 'Not Specified'"
   ]
  },
  {
   "cell_type": "code",
   "execution_count": 214,
   "metadata": {},
   "outputs": [],
   "source": [
    "df['Battery Life'] = df['Description'].apply(get_battery_life)"
   ]
  },
  {
   "cell_type": "code",
   "execution_count": 215,
   "metadata": {},
   "outputs": [
    {
     "data": {
      "text/plain": [
       "317"
      ]
     },
     "execution_count": 215,
     "metadata": {},
     "output_type": "execute_result"
    }
   ],
   "source": [
    "df[df['Battery Life']== 'Not Specified'].shape[0]"
   ]
  },
  {
   "cell_type": "markdown",
   "metadata": {},
   "source": [
    "----\n",
    "**Comment:**\n",
    "\n",
    "317 rows where battery life is not specified, to have a spot check at a few of these cases to see if regexp needs updating. "
   ]
  },
  {
   "cell_type": "code",
   "execution_count": 218,
   "metadata": {},
   "outputs": [],
   "source": [
    "pd.set_option('display.max_colwidth', None)  # Show full content of each cell"
   ]
  },
  {
   "cell_type": "code",
   "execution_count": 219,
   "metadata": {},
   "outputs": [
    {
     "data": {
      "text/plain": [
       "1                     oneodio wired over ear headphones hi-fi sound & bass boosted headphone with 50mm neodymium drivers and 1/4 to 3.5mm audio jack for studio dj amp recording monitoring phones laptop (red)\n",
       "2                                                                                                                                                         sony mdrzx310l.ae foldable headphones - metallic blue\n",
       "3                                                                                                                                                 sony mdr-zx110 overhead headphones - black , basic, pack of 1\n",
       "5                             iclever hs18 over ear headphones with microphone - lightweight stereo headphones, adjustable foldable wired headphones with 3.5mm jack for online class/meeting/pc/phone/computer\n",
       "6      artix cl750 wired headphones with mic & volume control — 90% noise cancelling headphones wired, over ear head phone cable — foldable plug in headphones for laptop, pc, ipad & computer (aux jack 3.5mm)\n",
       "                                                                                                         ...                                                                                                   \n",
       "716             umeizxin wired earbuds headphones with microphone, in-ear headphones for school, kids, adult, high bass stereo wired earphones for iphone, ipad, android, mp3, samsung most 3.5mm audio devices\n",
       "718                              mee audio connect bluetooth wireless headphone system for tv - includes bluetooth wireless audio transmitter and matrix3 wireless hd headphones w/ aptx low latency technology\n",
       "731                                                    ciciglow portable pillow speaker, mini sleeping speaker with bluetooth 5.3, timer function, wireless music sleep headphones for adults and babies(black)\n",
       "740               yunsailing 100 packs earbuds bulk classroom headphones pack individually bagged 3.5 mm in-ear earphones with wire for students adult schools hospitals hotels library museums mp3 gift (blue)\n",
       "748                                                    ciciglow portable pillow speaker, mini sleeping speaker with bluetooth 5.3, timer function, wireless music sleep headphones for adults and babies(white)\n",
       "Name: Description, Length: 317, dtype: object"
      ]
     },
     "execution_count": 219,
     "metadata": {},
     "output_type": "execute_result"
    }
   ],
   "source": [
    "df[df['Battery Life']== 'Not Specified']['Description']"
   ]
  },
  {
   "cell_type": "markdown",
   "metadata": {},
   "source": [
    "-----\n",
    "**Comment:**\n",
    "\n",
    "Don't see anything that can be added to regexp pattern, will continue with analysis"
   ]
  },
  {
   "cell_type": "markdown",
   "metadata": {},
   "source": [
    "### Feature Engineering - Microphone"
   ]
  },
  {
   "cell_type": "code",
   "execution_count": 152,
   "metadata": {},
   "outputs": [],
   "source": [
    "def has_microphone(description):\n",
    "    regexp = r'\\b(mic?|microphone?)\\b'\n",
    "\n",
    "    if re.search(regexp, description.lower()):\n",
    "        return 1\n",
    "    else:\n",
    "        return 0"
   ]
  },
  {
   "cell_type": "code",
   "execution_count": 153,
   "metadata": {},
   "outputs": [],
   "source": [
    "df['Microphone'] = df['Description'].apply(has_microphone\n",
    "                                           )"
   ]
  },
  {
   "cell_type": "markdown",
   "metadata": {},
   "source": [
    "### Feature Engineering: Over Ear"
   ]
  },
  {
   "cell_type": "code",
   "execution_count": 154,
   "metadata": {},
   "outputs": [],
   "source": [
    "def is_over_ear(description):\n",
    "    regexp = r'\\b(over[\\s-]ear?|overhead?)\\b'\n",
    "\n",
    "\n",
    "    if re.search(regexp, description.lower()):\n",
    "        return 1\n",
    "    else:\n",
    "        return 0"
   ]
  },
  {
   "cell_type": "code",
   "execution_count": 155,
   "metadata": {},
   "outputs": [],
   "source": [
    "df['Over Ear'] = df['Description'].apply(is_over_ear)"
   ]
  },
  {
   "cell_type": "code",
   "execution_count": 156,
   "metadata": {},
   "outputs": [
    {
     "data": {
      "text/html": [
       "<div>\n",
       "<style scoped>\n",
       "    .dataframe tbody tr th:only-of-type {\n",
       "        vertical-align: middle;\n",
       "    }\n",
       "\n",
       "    .dataframe tbody tr th {\n",
       "        vertical-align: top;\n",
       "    }\n",
       "\n",
       "    .dataframe thead th {\n",
       "        text-align: right;\n",
       "    }\n",
       "</style>\n",
       "<table border=\"1\" class=\"dataframe\">\n",
       "  <thead>\n",
       "    <tr style=\"text-align: right;\">\n",
       "      <th></th>\n",
       "      <th>Description</th>\n",
       "      <th>Price</th>\n",
       "      <th>Rating</th>\n",
       "      <th>Is Prime</th>\n",
       "      <th>Wireless</th>\n",
       "      <th>Noise Cancelling</th>\n",
       "      <th>Color</th>\n",
       "      <th>Battery Life</th>\n",
       "      <th>Microphone</th>\n",
       "      <th>Over Ear</th>\n",
       "    </tr>\n",
       "  </thead>\n",
       "  <tbody>\n",
       "    <tr>\n",
       "      <th>0</th>\n",
       "      <td>ailihen c8 headphones wired with microphone fo...</td>\n",
       "      <td>19.99</td>\n",
       "      <td>4.3 out of 5 stars</td>\n",
       "      <td>0</td>\n",
       "      <td>False</td>\n",
       "      <td>False</td>\n",
       "      <td>black</td>\n",
       "      <td>8 h</td>\n",
       "      <td>1</td>\n",
       "      <td>0</td>\n",
       "    </tr>\n",
       "    <tr>\n",
       "      <th>2</th>\n",
       "      <td>sony mdrzx310l.ae foldable headphones - metall...</td>\n",
       "      <td>18.00</td>\n",
       "      <td>4.5 out of 5 stars</td>\n",
       "      <td>0</td>\n",
       "      <td>False</td>\n",
       "      <td>False</td>\n",
       "      <td>blue</td>\n",
       "      <td>Not Specified</td>\n",
       "      <td>0</td>\n",
       "      <td>0</td>\n",
       "    </tr>\n",
       "    <tr>\n",
       "      <th>8</th>\n",
       "      <td>roxel rx-90 wired headphones with microphone -...</td>\n",
       "      <td>12.99</td>\n",
       "      <td>4.3 out of 5 stars</td>\n",
       "      <td>0</td>\n",
       "      <td>False</td>\n",
       "      <td>False</td>\n",
       "      <td>black</td>\n",
       "      <td>Not Specified</td>\n",
       "      <td>1</td>\n",
       "      <td>0</td>\n",
       "    </tr>\n",
       "    <tr>\n",
       "      <th>11</th>\n",
       "      <td>sony zx310ap on-ear headphones compatible with...</td>\n",
       "      <td>18.99</td>\n",
       "      <td>4.4 out of 5 stars</td>\n",
       "      <td>0</td>\n",
       "      <td>False</td>\n",
       "      <td>False</td>\n",
       "      <td>black</td>\n",
       "      <td>Not Specified</td>\n",
       "      <td>0</td>\n",
       "      <td>0</td>\n",
       "    </tr>\n",
       "    <tr>\n",
       "      <th>14</th>\n",
       "      <td>soundcore by anker q30 hybrid active noise can...</td>\n",
       "      <td>49.00</td>\n",
       "      <td>4.6 out of 5 stars</td>\n",
       "      <td>1</td>\n",
       "      <td>False</td>\n",
       "      <td>True</td>\n",
       "      <td>Not Specified</td>\n",
       "      <td>30 h</td>\n",
       "      <td>0</td>\n",
       "      <td>0</td>\n",
       "    </tr>\n",
       "    <tr>\n",
       "      <th>...</th>\n",
       "      <td>...</td>\n",
       "      <td>...</td>\n",
       "      <td>...</td>\n",
       "      <td>...</td>\n",
       "      <td>...</td>\n",
       "      <td>...</td>\n",
       "      <td>...</td>\n",
       "      <td>...</td>\n",
       "      <td>...</td>\n",
       "      <td>...</td>\n",
       "    </tr>\n",
       "    <tr>\n",
       "      <th>718</th>\n",
       "      <td>mee audio connect bluetooth wireless headphone...</td>\n",
       "      <td>99.99</td>\n",
       "      <td>4.3 out of 5 stars</td>\n",
       "      <td>0</td>\n",
       "      <td>True</td>\n",
       "      <td>False</td>\n",
       "      <td>Not Specified</td>\n",
       "      <td>Not Specified</td>\n",
       "      <td>0</td>\n",
       "      <td>0</td>\n",
       "    </tr>\n",
       "    <tr>\n",
       "      <th>731</th>\n",
       "      <td>ciciglow portable pillow speaker, mini sleepin...</td>\n",
       "      <td>18.08</td>\n",
       "      <td>1.0 out of 5 stars</td>\n",
       "      <td>0</td>\n",
       "      <td>True</td>\n",
       "      <td>False</td>\n",
       "      <td>black</td>\n",
       "      <td>Not Specified</td>\n",
       "      <td>0</td>\n",
       "      <td>0</td>\n",
       "    </tr>\n",
       "    <tr>\n",
       "      <th>740</th>\n",
       "      <td>yunsailing 100 packs earbuds bulk classroom he...</td>\n",
       "      <td>39.23</td>\n",
       "      <td>4.7 out of 5 stars</td>\n",
       "      <td>0</td>\n",
       "      <td>False</td>\n",
       "      <td>False</td>\n",
       "      <td>blue</td>\n",
       "      <td>Not Specified</td>\n",
       "      <td>0</td>\n",
       "      <td>0</td>\n",
       "    </tr>\n",
       "    <tr>\n",
       "      <th>748</th>\n",
       "      <td>ciciglow portable pillow speaker, mini sleepin...</td>\n",
       "      <td>15.61</td>\n",
       "      <td>1.0 out of 5 stars</td>\n",
       "      <td>0</td>\n",
       "      <td>True</td>\n",
       "      <td>False</td>\n",
       "      <td>white</td>\n",
       "      <td>Not Specified</td>\n",
       "      <td>0</td>\n",
       "      <td>0</td>\n",
       "    </tr>\n",
       "    <tr>\n",
       "      <th>749</th>\n",
       "      <td>philips tat2236gr/00 wireless earbuds, adults ...</td>\n",
       "      <td>41.99</td>\n",
       "      <td>3.7 out of 5 stars</td>\n",
       "      <td>0</td>\n",
       "      <td>True</td>\n",
       "      <td>False</td>\n",
       "      <td>green</td>\n",
       "      <td>18 hours</td>\n",
       "      <td>1</td>\n",
       "      <td>0</td>\n",
       "    </tr>\n",
       "  </tbody>\n",
       "</table>\n",
       "<p>232 rows × 10 columns</p>\n",
       "</div>"
      ],
      "text/plain": [
       "                                           Description  Price  \\\n",
       "0    ailihen c8 headphones wired with microphone fo...  19.99   \n",
       "2    sony mdrzx310l.ae foldable headphones - metall...  18.00   \n",
       "8    roxel rx-90 wired headphones with microphone -...  12.99   \n",
       "11   sony zx310ap on-ear headphones compatible with...  18.99   \n",
       "14   soundcore by anker q30 hybrid active noise can...  49.00   \n",
       "..                                                 ...    ...   \n",
       "718  mee audio connect bluetooth wireless headphone...  99.99   \n",
       "731  ciciglow portable pillow speaker, mini sleepin...  18.08   \n",
       "740  yunsailing 100 packs earbuds bulk classroom he...  39.23   \n",
       "748  ciciglow portable pillow speaker, mini sleepin...  15.61   \n",
       "749  philips tat2236gr/00 wireless earbuds, adults ...  41.99   \n",
       "\n",
       "                 Rating  Is Prime  Wireless  Noise Cancelling          Color  \\\n",
       "0    4.3 out of 5 stars         0     False             False          black   \n",
       "2    4.5 out of 5 stars         0     False             False           blue   \n",
       "8    4.3 out of 5 stars         0     False             False          black   \n",
       "11   4.4 out of 5 stars         0     False             False          black   \n",
       "14   4.6 out of 5 stars         1     False              True  Not Specified   \n",
       "..                  ...       ...       ...               ...            ...   \n",
       "718  4.3 out of 5 stars         0      True             False  Not Specified   \n",
       "731  1.0 out of 5 stars         0      True             False          black   \n",
       "740  4.7 out of 5 stars         0     False             False           blue   \n",
       "748  1.0 out of 5 stars         0      True             False          white   \n",
       "749  3.7 out of 5 stars         0      True             False          green   \n",
       "\n",
       "      Battery Life  Microphone  Over Ear  \n",
       "0              8 h           1         0  \n",
       "2    Not Specified           0         0  \n",
       "8    Not Specified           1         0  \n",
       "11   Not Specified           0         0  \n",
       "14            30 h           0         0  \n",
       "..             ...         ...       ...  \n",
       "718  Not Specified           0         0  \n",
       "731  Not Specified           0         0  \n",
       "740  Not Specified           0         0  \n",
       "748  Not Specified           0         0  \n",
       "749       18 hours           1         0  \n",
       "\n",
       "[232 rows x 10 columns]"
      ]
     },
     "execution_count": 156,
     "metadata": {},
     "output_type": "execute_result"
    }
   ],
   "source": [
    "df[df['Over Ear'] == 0]"
   ]
  },
  {
   "cell_type": "markdown",
   "metadata": {},
   "source": [
    "### Feature Engineering : Foldable "
   ]
  },
  {
   "cell_type": "code",
   "execution_count": 157,
   "metadata": {},
   "outputs": [],
   "source": [
    "def is_foldable(description):\n",
    "    regexp = r'\\bfoldable\\b'\n",
    "\n",
    "    if re.search(regexp, description.lower()):\n",
    "        return 1\n",
    "    else:\n",
    "        return 0"
   ]
  },
  {
   "cell_type": "code",
   "execution_count": 158,
   "metadata": {},
   "outputs": [],
   "source": [
    "df['Foldable'] = df['Description'].apply(is_foldable)"
   ]
  },
  {
   "cell_type": "markdown",
   "metadata": {},
   "source": [
    "### Feature Engineering : Brand"
   ]
  },
  {
   "cell_type": "code",
   "execution_count": 159,
   "metadata": {},
   "outputs": [],
   "source": [
    "import spacy"
   ]
  },
  {
   "cell_type": "code",
   "execution_count": 160,
   "metadata": {},
   "outputs": [],
   "source": [
    "def get_brand(description):\n",
    "    # Load a pre-trained model\n",
    "    nlp = spacy.load(\"en_core_web_sm\")\n",
    "\n",
    "    # Process the text\n",
    "    doc = nlp(description)\n",
    "    # Extract named entities\n",
    "    for ent in doc.ents:\n",
    "        if ent.label_ == \"ORG\":  # ORG for organisations/brands\n",
    "            return ent.text\n",
    "        else:\n",
    "            return 'Unknown Brand'"
   ]
  },
  {
   "cell_type": "code",
   "execution_count": 161,
   "metadata": {},
   "outputs": [],
   "source": [
    "df['Brand'] = df['Description'].apply(get_brand)"
   ]
  },
  {
   "cell_type": "code",
   "execution_count": 162,
   "metadata": {},
   "outputs": [
    {
     "data": {
      "text/html": [
       "<div>\n",
       "<style scoped>\n",
       "    .dataframe tbody tr th:only-of-type {\n",
       "        vertical-align: middle;\n",
       "    }\n",
       "\n",
       "    .dataframe tbody tr th {\n",
       "        vertical-align: top;\n",
       "    }\n",
       "\n",
       "    .dataframe thead th {\n",
       "        text-align: right;\n",
       "    }\n",
       "</style>\n",
       "<table border=\"1\" class=\"dataframe\">\n",
       "  <thead>\n",
       "    <tr style=\"text-align: right;\">\n",
       "      <th></th>\n",
       "      <th>Description</th>\n",
       "      <th>Price</th>\n",
       "      <th>Rating</th>\n",
       "      <th>Is Prime</th>\n",
       "      <th>Wireless</th>\n",
       "      <th>Noise Cancelling</th>\n",
       "      <th>Color</th>\n",
       "      <th>Battery Life</th>\n",
       "      <th>Microphone</th>\n",
       "      <th>Over Ear</th>\n",
       "      <th>Foldable</th>\n",
       "      <th>Brand</th>\n",
       "    </tr>\n",
       "  </thead>\n",
       "  <tbody>\n",
       "    <tr>\n",
       "      <th>0</th>\n",
       "      <td>ailihen c8 headphones wired with microphone fo...</td>\n",
       "      <td>19.99</td>\n",
       "      <td>4.3 out of 5 stars</td>\n",
       "      <td>0</td>\n",
       "      <td>False</td>\n",
       "      <td>False</td>\n",
       "      <td>black</td>\n",
       "      <td>8 h</td>\n",
       "      <td>1</td>\n",
       "      <td>0</td>\n",
       "      <td>1</td>\n",
       "      <td>c8</td>\n",
       "    </tr>\n",
       "    <tr>\n",
       "      <th>1</th>\n",
       "      <td>oneodio wired over ear headphones hi-fi sound ...</td>\n",
       "      <td>27.99</td>\n",
       "      <td>4.4 out of 5 stars</td>\n",
       "      <td>0</td>\n",
       "      <td>False</td>\n",
       "      <td>False</td>\n",
       "      <td>red</td>\n",
       "      <td>Not Specified</td>\n",
       "      <td>0</td>\n",
       "      <td>1</td>\n",
       "      <td>0</td>\n",
       "      <td>Unknown Brand</td>\n",
       "    </tr>\n",
       "    <tr>\n",
       "      <th>2</th>\n",
       "      <td>sony mdrzx310l.ae foldable headphones - metall...</td>\n",
       "      <td>18.00</td>\n",
       "      <td>4.5 out of 5 stars</td>\n",
       "      <td>0</td>\n",
       "      <td>False</td>\n",
       "      <td>False</td>\n",
       "      <td>blue</td>\n",
       "      <td>Not Specified</td>\n",
       "      <td>0</td>\n",
       "      <td>0</td>\n",
       "      <td>1</td>\n",
       "      <td>sony</td>\n",
       "    </tr>\n",
       "    <tr>\n",
       "      <th>3</th>\n",
       "      <td>sony mdr-zx110 overhead headphones - black , b...</td>\n",
       "      <td>15.97</td>\n",
       "      <td>4.5 out of 5 stars</td>\n",
       "      <td>0</td>\n",
       "      <td>False</td>\n",
       "      <td>False</td>\n",
       "      <td>black</td>\n",
       "      <td>Not Specified</td>\n",
       "      <td>0</td>\n",
       "      <td>1</td>\n",
       "      <td>0</td>\n",
       "      <td>sony</td>\n",
       "    </tr>\n",
       "    <tr>\n",
       "      <th>4</th>\n",
       "      <td>kvidio bluetooth headphones over ear, 65 hours...</td>\n",
       "      <td>16.99</td>\n",
       "      <td>4.5 out of 5 stars</td>\n",
       "      <td>0</td>\n",
       "      <td>True</td>\n",
       "      <td>False</td>\n",
       "      <td>black</td>\n",
       "      <td>65 hours</td>\n",
       "      <td>1</td>\n",
       "      <td>1</td>\n",
       "      <td>1</td>\n",
       "      <td>Unknown Brand</td>\n",
       "    </tr>\n",
       "    <tr>\n",
       "      <th>...</th>\n",
       "      <td>...</td>\n",
       "      <td>...</td>\n",
       "      <td>...</td>\n",
       "      <td>...</td>\n",
       "      <td>...</td>\n",
       "      <td>...</td>\n",
       "      <td>...</td>\n",
       "      <td>...</td>\n",
       "      <td>...</td>\n",
       "      <td>...</td>\n",
       "      <td>...</td>\n",
       "      <td>...</td>\n",
       "    </tr>\n",
       "    <tr>\n",
       "      <th>718</th>\n",
       "      <td>mee audio connect bluetooth wireless headphone...</td>\n",
       "      <td>99.99</td>\n",
       "      <td>4.3 out of 5 stars</td>\n",
       "      <td>0</td>\n",
       "      <td>True</td>\n",
       "      <td>False</td>\n",
       "      <td>Not Specified</td>\n",
       "      <td>Not Specified</td>\n",
       "      <td>0</td>\n",
       "      <td>0</td>\n",
       "      <td>0</td>\n",
       "      <td>Unknown Brand</td>\n",
       "    </tr>\n",
       "    <tr>\n",
       "      <th>731</th>\n",
       "      <td>ciciglow portable pillow speaker, mini sleepin...</td>\n",
       "      <td>18.08</td>\n",
       "      <td>1.0 out of 5 stars</td>\n",
       "      <td>0</td>\n",
       "      <td>True</td>\n",
       "      <td>False</td>\n",
       "      <td>black</td>\n",
       "      <td>Not Specified</td>\n",
       "      <td>0</td>\n",
       "      <td>0</td>\n",
       "      <td>0</td>\n",
       "      <td>Unknown Brand</td>\n",
       "    </tr>\n",
       "    <tr>\n",
       "      <th>740</th>\n",
       "      <td>yunsailing 100 packs earbuds bulk classroom he...</td>\n",
       "      <td>39.23</td>\n",
       "      <td>4.7 out of 5 stars</td>\n",
       "      <td>0</td>\n",
       "      <td>False</td>\n",
       "      <td>False</td>\n",
       "      <td>blue</td>\n",
       "      <td>Not Specified</td>\n",
       "      <td>0</td>\n",
       "      <td>0</td>\n",
       "      <td>0</td>\n",
       "      <td>Unknown Brand</td>\n",
       "    </tr>\n",
       "    <tr>\n",
       "      <th>748</th>\n",
       "      <td>ciciglow portable pillow speaker, mini sleepin...</td>\n",
       "      <td>15.61</td>\n",
       "      <td>1.0 out of 5 stars</td>\n",
       "      <td>0</td>\n",
       "      <td>True</td>\n",
       "      <td>False</td>\n",
       "      <td>white</td>\n",
       "      <td>Not Specified</td>\n",
       "      <td>0</td>\n",
       "      <td>0</td>\n",
       "      <td>0</td>\n",
       "      <td>Unknown Brand</td>\n",
       "    </tr>\n",
       "    <tr>\n",
       "      <th>749</th>\n",
       "      <td>philips tat2236gr/00 wireless earbuds, adults ...</td>\n",
       "      <td>41.99</td>\n",
       "      <td>3.7 out of 5 stars</td>\n",
       "      <td>0</td>\n",
       "      <td>True</td>\n",
       "      <td>False</td>\n",
       "      <td>green</td>\n",
       "      <td>18 hours</td>\n",
       "      <td>1</td>\n",
       "      <td>0</td>\n",
       "      <td>0</td>\n",
       "      <td>Unknown Brand</td>\n",
       "    </tr>\n",
       "  </tbody>\n",
       "</table>\n",
       "<p>442 rows × 12 columns</p>\n",
       "</div>"
      ],
      "text/plain": [
       "                                           Description  Price  \\\n",
       "0    ailihen c8 headphones wired with microphone fo...  19.99   \n",
       "1    oneodio wired over ear headphones hi-fi sound ...  27.99   \n",
       "2    sony mdrzx310l.ae foldable headphones - metall...  18.00   \n",
       "3    sony mdr-zx110 overhead headphones - black , b...  15.97   \n",
       "4    kvidio bluetooth headphones over ear, 65 hours...  16.99   \n",
       "..                                                 ...    ...   \n",
       "718  mee audio connect bluetooth wireless headphone...  99.99   \n",
       "731  ciciglow portable pillow speaker, mini sleepin...  18.08   \n",
       "740  yunsailing 100 packs earbuds bulk classroom he...  39.23   \n",
       "748  ciciglow portable pillow speaker, mini sleepin...  15.61   \n",
       "749  philips tat2236gr/00 wireless earbuds, adults ...  41.99   \n",
       "\n",
       "                 Rating  Is Prime  Wireless  Noise Cancelling          Color  \\\n",
       "0    4.3 out of 5 stars         0     False             False          black   \n",
       "1    4.4 out of 5 stars         0     False             False            red   \n",
       "2    4.5 out of 5 stars         0     False             False           blue   \n",
       "3    4.5 out of 5 stars         0     False             False          black   \n",
       "4    4.5 out of 5 stars         0      True             False          black   \n",
       "..                  ...       ...       ...               ...            ...   \n",
       "718  4.3 out of 5 stars         0      True             False  Not Specified   \n",
       "731  1.0 out of 5 stars         0      True             False          black   \n",
       "740  4.7 out of 5 stars         0     False             False           blue   \n",
       "748  1.0 out of 5 stars         0      True             False          white   \n",
       "749  3.7 out of 5 stars         0      True             False          green   \n",
       "\n",
       "      Battery Life  Microphone  Over Ear  Foldable          Brand  \n",
       "0              8 h           1         0         1             c8  \n",
       "1    Not Specified           0         1         0  Unknown Brand  \n",
       "2    Not Specified           0         0         1           sony  \n",
       "3    Not Specified           0         1         0           sony  \n",
       "4         65 hours           1         1         1  Unknown Brand  \n",
       "..             ...         ...       ...       ...            ...  \n",
       "718  Not Specified           0         0         0  Unknown Brand  \n",
       "731  Not Specified           0         0         0  Unknown Brand  \n",
       "740  Not Specified           0         0         0  Unknown Brand  \n",
       "748  Not Specified           0         0         0  Unknown Brand  \n",
       "749       18 hours           1         0         0  Unknown Brand  \n",
       "\n",
       "[442 rows x 12 columns]"
      ]
     },
     "execution_count": 162,
     "metadata": {},
     "output_type": "execute_result"
    }
   ],
   "source": [
    "df"
   ]
  },
  {
   "cell_type": "code",
   "execution_count": 163,
   "metadata": {},
   "outputs": [
    {
     "data": {
      "text/plain": [
       "Brand\n",
       "Unknown Brand                       273\n",
       "sony                                  6\n",
       "rgb                                   6\n",
       "c8                                    4\n",
       "doqaus bluetooth headphones over      3\n",
       "jyps kids wireless                    3\n",
       "konnao kids                           2\n",
       "osszit kids headphones                2\n",
       "samsung                               2\n",
       "louise & mann                         2\n",
       "jyps                                  2\n",
       "betron                                2\n",
       "android                               2\n",
       "radio & wired                         2\n",
       "doqaus bluetooth headphones           2\n",
       "usb                                   1\n",
       "tv & pc                               1\n",
       "microphone & control black            1\n",
       "philips tat8506wt                     1\n",
       "panasonic                             1\n",
       "670nc                                 1\n",
       "microphone & volume limited           1\n",
       "xosda kids                            1\n",
       "xosda bulk                            1\n",
       "200h                                  1\n",
       "660nc                                 1\n",
       "ref                                   1\n",
       "classroom kids                        1\n",
       "samson technologies                   1\n",
       "wt/00                                 1\n",
       "microphone & hifi stereo              1\n",
       "emaiker one                           1\n",
       "mic & touch control                   1\n",
       "mp3/4                                 1\n",
       "microphone & share jack               1\n",
       "120h                                  1\n",
       "2600mah                               1\n",
       "camo grey                             1\n",
       "yiiannda kids                         1\n",
       "edifier w320tn adaptive active        1\n",
       "aptx hd & low                         1\n",
       "nabevi kids headphones                1\n",
       "skullcandy hesh                       1\n",
       "xbt-80                                1\n",
       "doqaus wireless                       1\n",
       "wireless&wired                        1\n",
       "Name: count, dtype: int64"
      ]
     },
     "execution_count": 163,
     "metadata": {},
     "output_type": "execute_result"
    }
   ],
   "source": [
    "df['Brand'].value_counts()"
   ]
  },
  {
   "cell_type": "markdown",
   "metadata": {},
   "source": [
    "-----\n",
    "**Comment:**\n",
    "\n",
    "My attempt at using SpaCy to extract the brand names from Product Descrption did not work too well. \n",
    "\n",
    "Majority of the data set containes brand names which are unknown and the ones it managed to find - most are not a brand and are common words in description like wireless/bluetooth or a colors. Therefore, I will drop this column from the dataframe."
   ]
  },
  {
   "cell_type": "code",
   "execution_count": 170,
   "metadata": {},
   "outputs": [],
   "source": [
    "df = df.drop(columns = ['Brand'], axis = 0)"
   ]
  },
  {
   "cell_type": "markdown",
   "metadata": {},
   "source": [
    "## Final Clean Up\n",
    "---"
   ]
  },
  {
   "cell_type": "code",
   "execution_count": 172,
   "metadata": {},
   "outputs": [
    {
     "data": {
      "text/html": [
       "<div>\n",
       "<style scoped>\n",
       "    .dataframe tbody tr th:only-of-type {\n",
       "        vertical-align: middle;\n",
       "    }\n",
       "\n",
       "    .dataframe tbody tr th {\n",
       "        vertical-align: top;\n",
       "    }\n",
       "\n",
       "    .dataframe thead th {\n",
       "        text-align: right;\n",
       "    }\n",
       "</style>\n",
       "<table border=\"1\" class=\"dataframe\">\n",
       "  <thead>\n",
       "    <tr style=\"text-align: right;\">\n",
       "      <th></th>\n",
       "      <th>Description</th>\n",
       "      <th>Price</th>\n",
       "      <th>Rating</th>\n",
       "      <th>Is Prime</th>\n",
       "      <th>Wireless</th>\n",
       "      <th>Noise Cancelling</th>\n",
       "      <th>Color</th>\n",
       "      <th>Battery Life</th>\n",
       "      <th>Microphone</th>\n",
       "      <th>Over Ear</th>\n",
       "      <th>Foldable</th>\n",
       "    </tr>\n",
       "  </thead>\n",
       "  <tbody>\n",
       "    <tr>\n",
       "      <th>0</th>\n",
       "      <td>ailihen c8 headphones wired with microphone fo...</td>\n",
       "      <td>19.99</td>\n",
       "      <td>4.3</td>\n",
       "      <td>0</td>\n",
       "      <td>False</td>\n",
       "      <td>False</td>\n",
       "      <td>black</td>\n",
       "      <td>8 h</td>\n",
       "      <td>1</td>\n",
       "      <td>0</td>\n",
       "      <td>1</td>\n",
       "    </tr>\n",
       "    <tr>\n",
       "      <th>1</th>\n",
       "      <td>oneodio wired over ear headphones hi-fi sound ...</td>\n",
       "      <td>27.99</td>\n",
       "      <td>4.4</td>\n",
       "      <td>0</td>\n",
       "      <td>False</td>\n",
       "      <td>False</td>\n",
       "      <td>red</td>\n",
       "      <td>Not Specified</td>\n",
       "      <td>0</td>\n",
       "      <td>1</td>\n",
       "      <td>0</td>\n",
       "    </tr>\n",
       "    <tr>\n",
       "      <th>2</th>\n",
       "      <td>sony mdrzx310l.ae foldable headphones - metall...</td>\n",
       "      <td>18.00</td>\n",
       "      <td>4.5</td>\n",
       "      <td>0</td>\n",
       "      <td>False</td>\n",
       "      <td>False</td>\n",
       "      <td>blue</td>\n",
       "      <td>Not Specified</td>\n",
       "      <td>0</td>\n",
       "      <td>0</td>\n",
       "      <td>1</td>\n",
       "    </tr>\n",
       "    <tr>\n",
       "      <th>3</th>\n",
       "      <td>sony mdr-zx110 overhead headphones - black , b...</td>\n",
       "      <td>15.97</td>\n",
       "      <td>4.5</td>\n",
       "      <td>0</td>\n",
       "      <td>False</td>\n",
       "      <td>False</td>\n",
       "      <td>black</td>\n",
       "      <td>Not Specified</td>\n",
       "      <td>0</td>\n",
       "      <td>1</td>\n",
       "      <td>0</td>\n",
       "    </tr>\n",
       "    <tr>\n",
       "      <th>4</th>\n",
       "      <td>kvidio bluetooth headphones over ear, 65 hours...</td>\n",
       "      <td>16.99</td>\n",
       "      <td>4.5</td>\n",
       "      <td>0</td>\n",
       "      <td>True</td>\n",
       "      <td>False</td>\n",
       "      <td>black</td>\n",
       "      <td>65 hours</td>\n",
       "      <td>1</td>\n",
       "      <td>1</td>\n",
       "      <td>1</td>\n",
       "    </tr>\n",
       "    <tr>\n",
       "      <th>5</th>\n",
       "      <td>iclever hs18 over ear headphones with micropho...</td>\n",
       "      <td>16.99</td>\n",
       "      <td>4.5</td>\n",
       "      <td>0</td>\n",
       "      <td>False</td>\n",
       "      <td>False</td>\n",
       "      <td>Not Specified</td>\n",
       "      <td>Not Specified</td>\n",
       "      <td>1</td>\n",
       "      <td>1</td>\n",
       "      <td>1</td>\n",
       "    </tr>\n",
       "    <tr>\n",
       "      <th>6</th>\n",
       "      <td>artix cl750 wired headphones with mic &amp; volume...</td>\n",
       "      <td>21.30</td>\n",
       "      <td>4.2</td>\n",
       "      <td>0</td>\n",
       "      <td>False</td>\n",
       "      <td>True</td>\n",
       "      <td>Not Specified</td>\n",
       "      <td>Not Specified</td>\n",
       "      <td>1</td>\n",
       "      <td>1</td>\n",
       "      <td>1</td>\n",
       "    </tr>\n",
       "    <tr>\n",
       "      <th>7</th>\n",
       "      <td>rebocico noise cancelling headphones, 80h play...</td>\n",
       "      <td>29.99</td>\n",
       "      <td>4.2</td>\n",
       "      <td>0</td>\n",
       "      <td>True</td>\n",
       "      <td>True</td>\n",
       "      <td>silver</td>\n",
       "      <td>80h</td>\n",
       "      <td>1</td>\n",
       "      <td>1</td>\n",
       "      <td>0</td>\n",
       "    </tr>\n",
       "    <tr>\n",
       "      <th>8</th>\n",
       "      <td>roxel rx-90 wired headphones with microphone -...</td>\n",
       "      <td>12.99</td>\n",
       "      <td>4.3</td>\n",
       "      <td>0</td>\n",
       "      <td>False</td>\n",
       "      <td>False</td>\n",
       "      <td>black</td>\n",
       "      <td>Not Specified</td>\n",
       "      <td>1</td>\n",
       "      <td>0</td>\n",
       "      <td>0</td>\n",
       "    </tr>\n",
       "    <tr>\n",
       "      <th>9</th>\n",
       "      <td>headphones wired over ear adult, stereo hifi m...</td>\n",
       "      <td>8.99</td>\n",
       "      <td>3.6</td>\n",
       "      <td>0</td>\n",
       "      <td>False</td>\n",
       "      <td>False</td>\n",
       "      <td>Not Specified</td>\n",
       "      <td>Not Specified</td>\n",
       "      <td>0</td>\n",
       "      <td>1</td>\n",
       "      <td>1</td>\n",
       "    </tr>\n",
       "  </tbody>\n",
       "</table>\n",
       "</div>"
      ],
      "text/plain": [
       "                                         Description  Price  Rating  Is Prime  \\\n",
       "0  ailihen c8 headphones wired with microphone fo...  19.99     4.3         0   \n",
       "1  oneodio wired over ear headphones hi-fi sound ...  27.99     4.4         0   \n",
       "2  sony mdrzx310l.ae foldable headphones - metall...  18.00     4.5         0   \n",
       "3  sony mdr-zx110 overhead headphones - black , b...  15.97     4.5         0   \n",
       "4  kvidio bluetooth headphones over ear, 65 hours...  16.99     4.5         0   \n",
       "5  iclever hs18 over ear headphones with micropho...  16.99     4.5         0   \n",
       "6  artix cl750 wired headphones with mic & volume...  21.30     4.2         0   \n",
       "7  rebocico noise cancelling headphones, 80h play...  29.99     4.2         0   \n",
       "8  roxel rx-90 wired headphones with microphone -...  12.99     4.3         0   \n",
       "9  headphones wired over ear adult, stereo hifi m...   8.99     3.6         0   \n",
       "\n",
       "   Wireless  Noise Cancelling          Color   Battery Life  Microphone  \\\n",
       "0     False             False          black            8 h           1   \n",
       "1     False             False            red  Not Specified           0   \n",
       "2     False             False           blue  Not Specified           0   \n",
       "3     False             False          black  Not Specified           0   \n",
       "4      True             False          black       65 hours           1   \n",
       "5     False             False  Not Specified  Not Specified           1   \n",
       "6     False              True  Not Specified  Not Specified           1   \n",
       "7      True              True         silver            80h           1   \n",
       "8     False             False          black  Not Specified           1   \n",
       "9     False             False  Not Specified  Not Specified           0   \n",
       "\n",
       "   Over Ear  Foldable  \n",
       "0         0         1  \n",
       "1         1         0  \n",
       "2         0         1  \n",
       "3         1         0  \n",
       "4         1         1  \n",
       "5         1         1  \n",
       "6         1         1  \n",
       "7         1         0  \n",
       "8         0         0  \n",
       "9         1         1  "
      ]
     },
     "execution_count": 172,
     "metadata": {},
     "output_type": "execute_result"
    }
   ],
   "source": [
    "df.head(10)"
   ]
  },
  {
   "cell_type": "markdown",
   "metadata": {},
   "source": [
    "### Rating"
   ]
  },
  {
   "cell_type": "markdown",
   "metadata": {},
   "source": [
    "To remove `out of 5 stars` as this information is redundant information."
   ]
  },
  {
   "cell_type": "code",
   "execution_count": 220,
   "metadata": {},
   "outputs": [],
   "source": [
    "df['Rating'] = df['Rating'].astype('str')"
   ]
  },
  {
   "cell_type": "code",
   "execution_count": 221,
   "metadata": {},
   "outputs": [],
   "source": [
    "df['Rating'] = df['Rating'].str.replace('out of 5 stars', '')"
   ]
  },
  {
   "cell_type": "code",
   "execution_count": 222,
   "metadata": {},
   "outputs": [],
   "source": [
    "df['Rating'] = df['Rating'].astype(float)"
   ]
  },
  {
   "cell_type": "markdown",
   "metadata": {},
   "source": [
    "## Export to CSV\n",
    "----"
   ]
  },
  {
   "cell_type": "code",
   "execution_count": 232,
   "metadata": {},
   "outputs": [],
   "source": [
    "cleaned_df = df.copy()"
   ]
  },
  {
   "cell_type": "code",
   "execution_count": 233,
   "metadata": {},
   "outputs": [],
   "source": [
    "cleaned_df = cleaned_df.reset_index(drop = True)"
   ]
  },
  {
   "cell_type": "code",
   "execution_count": 234,
   "metadata": {},
   "outputs": [],
   "source": [
    "cleaned_df.to_csv('../../data/cleaned_headphones_data.csv')"
   ]
  },
  {
   "cell_type": "code",
   "execution_count": 235,
   "metadata": {},
   "outputs": [
    {
     "name": "stdout",
     "output_type": "stream",
     "text": [
      "\n",
      "    Data Quality Checks:\n",
      "    --------------------------------------------\n",
      "    No. of rows: 442\n",
      "    No. of columns: 11\n",
      "    No. of missing values: 0\n",
      "    No. of duplicated rows: 0\n",
      "    No. of duplicated columns: 0\n",
      "    \n"
     ]
    }
   ],
   "source": [
    "df_check(cleaned_df)"
   ]
  },
  {
   "cell_type": "markdown",
   "metadata": {},
   "source": [
    "## Conclusion\n",
    "-------\n",
    "\n"
   ]
  },
  {
   "cell_type": "markdown",
   "metadata": {},
   "source": []
  }
 ],
 "metadata": {
  "kernelspec": {
   "display_name": "sound_decisions",
   "language": "python",
   "name": "python3"
  },
  "language_info": {
   "codemirror_mode": {
    "name": "ipython",
    "version": 3
   },
   "file_extension": ".py",
   "mimetype": "text/x-python",
   "name": "python",
   "nbconvert_exporter": "python",
   "pygments_lexer": "ipython3",
   "version": "3.11.5"
  }
 },
 "nbformat": 4,
 "nbformat_minor": 2
}
