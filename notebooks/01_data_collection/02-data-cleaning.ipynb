{
 "cells": [
  {
   "cell_type": "markdown",
   "metadata": {},
   "source": [
    "----\n",
    "# Data Cleaning\n",
    "----\n",
    "\n",
    "### Notebook Summary\n",
    "\n"
   ]
  },
  {
   "cell_type": "markdown",
   "metadata": {},
   "source": [
    "## Set Up"
   ]
  },
  {
   "cell_type": "code",
   "execution_count": 753,
   "metadata": {},
   "outputs": [],
   "source": [
    "import numpy as np\n",
    "import pandas as pd\n",
    "import re\n",
    "import matplotlib\n"
   ]
  },
  {
   "cell_type": "code",
   "execution_count": 754,
   "metadata": {},
   "outputs": [],
   "source": [
    "df = pd.read_csv('../../data/headphones_data.csv', index_col = 0)\n"
   ]
  },
  {
   "cell_type": "markdown",
   "metadata": {},
   "source": [
    "## Utility Functions"
   ]
  },
  {
   "cell_type": "code",
   "execution_count": 755,
   "metadata": {},
   "outputs": [],
   "source": [
    "def df_check(df):\n",
    "    '''\n",
    "    Outputs quality measures for dataframes\n",
    "\n",
    "    Paramters\n",
    "    ---------\n",
    "    df: DataFrame for quality check\n",
    "\n",
    "    Returns\n",
    "    -------\n",
    "    Statements with data quality info such as shape, duplicated values, missing values\n",
    "    '''\n",
    "    \n",
    "    shape = df.shape\n",
    "    # Calling sum twice - first sum returns column level results second sum to retrun total null values in all columns\n",
    "    null_vals = df.isna().sum().sum()\n",
    "    duplicated_rows = df.duplicated().sum()\n",
    "    duplicated_cols = df.columns.duplicated().sum()\n",
    "\n",
    "    print (\n",
    "    f\"\"\"\n",
    "    Data Quality Checks:\n",
    "    --------------------------------------------\n",
    "    No. of rows: {shape[0]}\n",
    "    No. of columns: {shape[1]}\n",
    "    No. of missing values: {null_vals}\n",
    "    No. of duplicated rows: {duplicated_rows}\n",
    "    No. of duplicated columns: {duplicated_cols}\n",
    "    \"\"\"\n",
    ")\n",
    "    \n"
   ]
  },
  {
   "cell_type": "code",
   "execution_count": 756,
   "metadata": {},
   "outputs": [],
   "source": [
    "def get_colour(description):\n",
    "    '''\n",
    "    Outputs colour in product description\n",
    "\n",
    "    Paramters\n",
    "    ---------\n",
    "    description: string of product description\n",
    "\n",
    "    Returns\n",
    "    -------\n",
    "    Colour mentioned in the description\n",
    "    '''\n",
    "    \n",
    "    # Using matplotlib to get list of colours (instead of manually creating a list)    \n",
    "    colour_names = matplotlib.colors.CSS4_COLORS.keys()\n",
    "\n",
    "    # Looping through the list of colours to see if any of the colours are in the product description \n",
    "    for colour in colour_names:\n",
    "        if re.search(rf'\\b{colour}\\b', description):\n",
    "            return colour\n",
    "        else:\n",
    "            # if first colour in the list is not found try the next\n",
    "            continue\n",
    "    \n",
    "    # Cases where no colour in the the colour_list is found in description\n",
    "    return 'Not Specified'\n",
    "    "
   ]
  },
  {
   "cell_type": "markdown",
   "metadata": {},
   "source": [
    "## Preliminary Checks"
   ]
  },
  {
   "cell_type": "code",
   "execution_count": 757,
   "metadata": {},
   "outputs": [
    {
     "name": "stdout",
     "output_type": "stream",
     "text": [
      "\n",
      "    Data Quality Checks:\n",
      "    --------------------------------------------\n",
      "    No. of rows: 300\n",
      "    No. of columns: 4\n",
      "    No. of missing values: 1\n",
      "    No. of duplicated rows: 89\n",
      "    No. of duplicated columns: 0\n",
      "    \n"
     ]
    }
   ],
   "source": [
    "df_check(df)"
   ]
  },
  {
   "cell_type": "markdown",
   "metadata": {},
   "source": [
    "### Dealing the with the duplicates"
   ]
  },
  {
   "cell_type": "code",
   "execution_count": 758,
   "metadata": {},
   "outputs": [],
   "source": [
    "duplicated = df[df.duplicated(keep='first')].sort_values(by = 'Price', ascending=False)"
   ]
  },
  {
   "cell_type": "code",
   "execution_count": 759,
   "metadata": {},
   "outputs": [
    {
     "data": {
      "text/plain": [
       "Description                                                                                                                                                                                               Price   Rating              Is Prime\n",
       "INFURTURE Active Noise Cancelling Headphones, H1 Wireless Over Ear Bluetooth Headphones, Deep Bass Headset, Low Latency, Memory Foam Ear Cups,40H Playtime, for Adults, Kids, TV, Travel, Home Office     31.99   4.3 out of 5 stars  0           9\n",
       "Wireless Earbuds, Bluetooth 5.3 Headphones with 4 ENC Noise Canceling Mic, 50H Stereo Dual LED Display Ear Buds, Sport Wireless Earphones with Earhooks, IP7 Waterproof Wireless Headphones for Running   19.99   4.7 out of 5 stars  0           8\n",
       "TOZO HT2 Hybrid Active Noise Cancelling Wireless Headphones, 60H Playtime Lossless Audio Over Ear Bluetooth Headphones, Hi-Res Audio Deep Bass Foldable Lightweight Headset for Workout                   58.99   4.5 out of 5 stars  1           8\n",
       "OneOdio Wired Over Ear Headphones Hi-Fi Sound & Bass Boosted headphone with 50mm Neodymium Drivers and 1/4 to 3.5mm Audio Jack for Studio DJ AMP Recording Monitoring Phones Laptop (Red)                 27.99   4.4 out of 5 stars  0           6\n",
       "OneOdio DJ Headphones, Over Ear Headphones for Studio Monitoring and Mixing, Professional Headset with Stereo Bass Sound, Foldable Headphones Suitable for Electric Drum Keyboard Guitar Amplifier        30.58   4.4 out of 5 stars  0           3\n",
       "Bluetooth Headphones Over-Ear, PowerLocus Wireless Headphones, Hi-Fi Stereo Deep Bass, Soft Earmuffs Foldable Headphone with Built-in Microphone, Wireless and Wired Headset for Cell Phones,Tablets, PC  17.99   4.5 out of 5 stars  0           2\n",
       "                                                                                                                                                                                                          19.99   4.5 out of 5 stars  0           2\n",
       "Edifier WH700NB Active Noise Cancelling Headphones - 68H Playtime - AI Call Noise Cancellation - Dual Device Connection - Lightweight & Foldable Design - Fast Charge - Bluetooth 5.3 - Ivory             39.99   4.4 out of 5 stars  1           2\n",
       "ISOtunes PRO 2.0 EN352 Bluetooth Earplug Headphones, 27 dB Noise Reduction Rating, 16+ Hour Battery, IP67 Durability, Noise Cancelling Mic, Professional Hearing Protector (Safety Orange)                109.99  3.5 out of 5 stars  1           2\n",
       "OneOdio A71 Hi-Res Studio Recording Headphones - Wired Over Ear Headphones with SharePort, Professional Monitoring & Mixing Foldable Headphones with Stereo Sound (Black)                                 32.99   4.3 out of 5 stars  0           2\n",
       "OneOdio A10 Hybrid Active Noise Cancelling Headphones [62 Hrs Playtime] Wireless Bluetooth Over Ear Headphones with Hi-Res Audio, Transparency Mode, Deep Bass, CVC 8.0, for Travel PC Home Office        69.99   4.5 out of 5 stars  1           2\n",
       "Ailihen Wired Headphones with Microphone and Volume Control, Over-Ear Foldable Corded Stereo Headsets for Teens Adults 3.5mm for Computers, Chromebooks, Tablets (Grey)                                   24.99   4.3 out of 5 stars  0           2\n",
       "RexDigi Wireless Headphones Bluetooth On-Ear, Hi-Fi Stereo Foldable Headphones Wired/Wireless/TF, Lightweight Headset for Travel/Adult/Kids/Teen, 25 Hours Playtime(Red)                                  23.99   4.1 out of 5 stars  0           1\n",
       "Rockpapa Comfort+ Kids Headphones, Wired Headphones Over Ear Headphones with Microphone for Kids Children Adult, Stereo Sound, Adjustable Headphones for School/Travel/Phone/PC/MP3-Black Blue            16.99   4.5 out of 5 stars  0           1\n",
       "Rockpapa I20 Wired Headphones, Wired Headset On Ear Stereo Headphones with Microphone for Kids Children Adult, Adjustable Headband, Foldable Headphones for Travel/PC/Mac/Laptop/Phone (Black Purple)     14.99   4.2 out of 5 stars  0           1\n",
       "Saidbuds Retractable Wired Stereo Headphones Foldable Over Ear Headphone with Deep Bass Portable for Home Office Travel Virtual Schooling                                                                 13.99   3.8 out of 5 stars  0           1\n",
       "SIMOLIO 2 Pack Foldable Headphones Wired with Microphone, Over Ear Cord Headset with Volume Limited & Bag, Adjustable Headband w/ 3.5mm Jack for Boys Girls PC Tablets Travel Adults Teen                 48.25   4.4 out of 5 stars  1           1\n",
       "PowerLocus Wireless Headphones Over Ear, Bluetooth Headphones Over Ear, 50 Hours Playtime, Foldable Headphones with Built-in Microphone, Hi-Fi Stereo, Lightweight and Wired Mode for Phone Travel PC     20.99   4.4 out of 5 stars  0           1\n",
       "SIMOLIO Kids Wired Headphones with Microphone, Boys Headphone with Volume Limiter & Share Jack, Foldable Portable Over Ear Headset for School Travel Airplane Children Teens Adults Black                 15.99   4.4 out of 5 stars  0           1\n",
       "Active Noise Cancelling Wireless Headphones, 100H Playtime with Microphone, Over- Ear Bluetooth Headphones with Deep Bass,Fast Charging for Travel,Office,Home                                            42.99   4.3 out of 5 stars  1           1\n",
       "Skullcandy Hesh ANC Over-Ear Noise Cancelling Wireless Headphones, 22 Hr Battery, Microphone, Works with iPhone Android and Bluetooth Devices - True Black                                                79.99   4.5 out of 5 stars  1           1\n",
       "Usoun Kids Headphones,Cat Ear Bluetooth Kids Headphones with Led Light,Girls Headphones Wireless,SD Card,3.5mm Audio,Wireless/Wired Foldable Kids On Ear Headphones for Boys Girls Adults(Blue)           11.99   4.2 out of 5 stars  0           1\n",
       "PowerLocus P3 Bluetooth Headphones Over-Ear, [40h Playtime, Bluetooth V5.0] Wireless Headset Hi-Fi Stereo Headphone,Foldable with Mic,Deep Bass,Wired Mode for Cell Phones/Laptop/PC/TV (Matt Rose Gold)  17.99   4.2 out of 5 stars  0           1\n",
       "Wireless Earbuds, Bluetooth Headphones 2024 Wireless Headphones with Deep Bass, New Mini Bluetooth Earphones in Ear 4 ENC Mic, Noise Cancelling Ear buds 30H Bluetooth Earbuds USB-C, Pearl White         19.98   4.7 out of 5 stars  0           1\n",
       "Wireless Headphones Over Ear Bluetooth Headphones Foldable Hi-Fi Stereo Wireless Headset with Deep Bass Built-in Mic Overhead Headphones Wireless TF Wired Mode for Phone PC Travel Office                8.99    3.6 out of 5 stars  0           1\n",
       "WorWoder 80Hrs Wireless Over Ear Headphones, Bluetooth 5.0 Wireless & Wired Mode, HiFi Stereo Sound with Mic, Lightweight Headset with Deep Bass for Work Travel Online Class (BLACK)                     20.32   4.3 out of 5 stars  0           1\n",
       "YMOO Bluetooth 5.2 Hybrid Active Noise Cancelling Headphone for Airplane/Travel, Wired and Wireless ANC Headphones with Hi-Res Audio, 75H Playtime Over Ear Headphones with Mic for Adults/PC/TV/Flight   69.99   4.2 out of 5 stars  1           1\n",
       "YUSONIC Kids Wireless Headphones Over Ear, Bluetooth Kids Headphones, Noise Cancelling Headphones for Girls Children Travel School Phone Tablet PC iPad Laptop uses. (E6 Purple)                          19.98   4.1 out of 5 stars  0           1\n",
       "Yomuse C89 Kids Headphones, Wired Headphone without Microphone, On Ear Headphone with Adjustable, 3.5mm Aux Nylon Cable, Foldable Headphones for School Travel Girls Boys Adults (Sky Blue)               8.99    4.2 out of 5 stars  0           1\n",
       "ciciglow Bluetooth Headphones,Cat Ear LED Light Up Wireless Foldable Headphones Over Ear with Microphone and Volume Control for Phone/Laptop/PC/Tablet,Stereo Headset,for Girls and Boys(Black)           33.68   4.0 out of 5 stars  0           1\n",
       "PowerLocus P6 Bluetooth Headphones Over Ear, Wireless Headphones, Super Bass Hi-Fi Stereo Sound, 40Hrs Battery Life,Soft Earmuffs, Headphones with Mic, Voice Assistant for iPhone,Android,Laptops,PC,TV  19.99   4.4 out of 5 stars  0           1\n",
       "PHNIXGAM Cute Cat Bluetooth Headphones, Wireless & Wired Mode Headset with Mic, RGB LED Light, for Girls Women School Gaming, Compatible with Mobile Phones PC Tablet, Beige                              31.99   4.3 out of 5 stars  0           1\n",
       "PowerLocus Bluetooth Over-Ear Headphones, Wireless Stereo Foldable Headphones Wireless and Wired Headsets with Built-in Mic, Micro SD/TF, FM for iPhone/Samsung/iPad/PC - Black                           21.99   4.4 out of 5 stars  0           1\n",
       "Kids Headphones, Wireless Kids Headphones Over Ear with Microphones, Stereo Sound, 10H Playtime, Foldable&Adjustable Children Headphones, Bluetooth 5.1 Headset for Adults, School, Travel (Purple)       17.95   4.3 out of 5 stars  0           1\n",
       "Avantree Eon B - Bluetooth Active Noise-Cancelling Headphones with Ambient & EQ Modes, 45hr Playtime, Deep Bass, Dual Link, and Roomy Earpads, Wired & Wireless Over-Ear Headphones for Big Heads         99.99   4.3 out of 5 stars  1           1\n",
       "BIGGERFIVE Kids Wireless Headphones, 7 Colorful LED Lights, Kids Bluetooth Headphones with Microphone, 85dB/94dB Volume Limited, Foldable On Ear Heaphones for Kids/Boys/Girls/Fire Tablet/Ipad, Purple   24.99   4.3 out of 5 stars  0           1\n",
       "CBGGQ 4 Packs Earphones, Noise Isolating In-Ear Headphones with Pure Sound and Powerful Bass, Earbuds with Microphone & Volume Control, Headphones for iOS and Android Smartphones, Laptops, Gaming,etc   8.99    4.2 out of 5 stars  0           1\n",
       "DOQAUS Bluetooth Headphones Over Ear, 90 Hrs Playtime, Bluetooth 5.3 Wireless Headphones, 3 EQ Modes, Hi-Fi Stereo Bass Foldable Headphones Wireless, Soft Earpads, Built-in Mic, for Phone PC Travel     24.99   4.4 out of 5 stars  0           1\n",
       "DOQAUS Wireless Headphones Over Ear, 52Hrs Playtime Bluetooth Headphones Over Ear, Wireless Headphones with 3 EQ Modes, HiFi Stereo Foldable Headset with Microphone for PC, Phone, Tablet(Purple)        27.99   4.4 out of 5 stars  0           1\n",
       "Fachixy「2024 New」FC100 RGB Gaming Headset for PS4/PC/Xbox/Nintendo Switch, PS5 Headset with Mic, Gaming Headphones with Microphone, Noise Cancelling Headphones with 3.5mm Jack                           18.99   4.4 out of 5 stars  0           1\n",
       "Gugxiom Cat Ear Headphones, Wireless Gaming Headsets via Bluetooth 5.1/3.5mm AUX Cable, Foldable Headphones with 7 Colors LED Lights and 4 LED Modes for Girls, Adults (pink)                             28.50   4.0 out of 5 stars  0           1\n",
       "Kaysent Wholesale Bulk Headphone Earphone Earbud - (KHP0-10Mixed) 10 Pack Wholesale Mixed Colors(Each 2 Pack) Headphone for School, Classroom, Airplane, Hospiital, Students,Kids and Adults              43.00   3.9 out of 5 stars  0           1\n",
       "LIFEJXWEN Wireless Headphones with Cat Ears, Kids Adults Foldable Bluetooth Headphone LED Light Up Built-in Mic, Over Ear Headsets with Stereo Sound Support FM Radio TF Card (Purple)                    10.99   3.7 out of 5 stars  0           1\n",
       "PowerLocus Bluetooth Headphones, Bluetooth Headphones Over Ear, Wireless Headphones with Microphone, 3 EQ Modes, 60Hrs Playtime, Foldable Headphones, Fabric Headband, Hi-Fi Stereo for Work/Travel/PC    20.99   4.4 out of 5 stars  0           1\n",
       "LORELEI X6 Over-Ear Headphones with Microphone, Lightweight Foldable & Portable Stereo Bass Headphones with 1.45M No-Tangle, Wired Headphones for Smartphone Tablet MP3 / 4 (Space Black)                 15.99   4.4 out of 5 stars  0           1\n",
       "LilGadgets Untangled Pro Wireless Bluetooh Headphones, On-Ear Kids Headphones for School with Built-in Microphone, No More Tangled Wires, Childrens Headphones for School, Black                          39.97   4.3 out of 5 stars  1           1\n",
       "Louise&Mann Wireless Headphones Over Ear, Bluetooth Headphones 5.3, Foldable Lightweight with Soft Memory Foam Earmuffs, Built-in Mic with Wired Mode and Carry Case for Travel,Office,PC                 19.99   4.4 out of 5 stars  0           1\n",
       "OneOdio Pro50 Hi-Res Over Ear Headphones Wired Closed-Back DJ Studio Headphones for Monitoring and Mixing, Soft Protein Leather Earcups, Noise Isolation, 90° Rotatable Housing, Portable                 45.99   4.4 out of 5 stars  1           1\n",
       "Ailihen C8 Headphones Wired with Microphone Foldable and Adjustable On-Ear Headsets Volume Control HD Stereo Sound 3.5mm Jack for Chromebook, Laptop, Smartphone, Study, Office, Travel (Black/Orange)    20.99   4.3 out of 5 stars  0           1\n",
       "PowerLocus Bluetooth Headphones Over Ear, 50 Hours Playtime Wireless Headphones, 4 EQ Modes, HiFi Stereo Foldable Headphones with Microphone, Lightweight Headphones & Wired Mode for Phone/Travel/PC     19.99   4.3 out of 5 stars  0           1\n",
       "PowerLocus Bluetooth Headphones Over Ear, Foldable Wireless Headphones, Hi-Fi Stereo Headphone with Deep Bass, Micro SD/TF, FM Radio & Wired mode, Built-in Microphones, Soft Earmuffs for Phone/PC       18.99   4.5 out of 5 stars  0           1\n",
       "PowerLocus Bluetooth Headphones Over Ear, Wireless Headphones with Microphone, Foldable Headphone, Soft Memory Foam Earmuffs & Lightweight, Micro SD/TF, FM Radio for iPhone/Android/Tablet/PC/TV (Gold)  19.99   4.5 out of 5 stars  0           1\n",
       "soundcore by Anker, Space One - Adaptive Active Noise Cancelling Headphones, Enhanced Human Voice Reduction, 40H ANC Playtime, LDAC Hi-Res Wireless Audio, Comfortable Fit, Bluetooth 5.3, App Control    62.99   4.5 out of 5 stars  1           1\n",
       "dtype: int64"
      ]
     },
     "execution_count": 759,
     "metadata": {},
     "output_type": "execute_result"
    }
   ],
   "source": [
    "# using size to count number of occurrences of each duplicated headphone\n",
    "duplicated.groupby(['Description', 'Price', 'Rating', 'Is Prime'])[['Description']].size().sort_values(ascending=False)\n"
   ]
  },
  {
   "cell_type": "code",
   "execution_count": 760,
   "metadata": {},
   "outputs": [],
   "source": [
    "# Deciding to drop the duplicates after inspection\n",
    "df = df.drop_duplicates()"
   ]
  },
  {
   "cell_type": "code",
   "execution_count": 761,
   "metadata": {},
   "outputs": [
    {
     "name": "stdout",
     "output_type": "stream",
     "text": [
      "\n",
      "    Data Quality Checks:\n",
      "    --------------------------------------------\n",
      "    No. of rows: 211\n",
      "    No. of columns: 4\n",
      "    No. of missing values: 1\n",
      "    No. of duplicated rows: 0\n",
      "    No. of duplicated columns: 0\n",
      "    \n"
     ]
    }
   ],
   "source": [
    "# Re-checking dataframe after dropping the duplicated rows\n",
    "df_check(df)"
   ]
  },
  {
   "cell_type": "markdown",
   "metadata": {},
   "source": [
    "### Dealing with Missing Values"
   ]
  },
  {
   "cell_type": "code",
   "execution_count": 762,
   "metadata": {},
   "outputs": [
    {
     "data": {
      "text/plain": [
       "Description    0\n",
       "Price          0\n",
       "Rating         1\n",
       "Is Prime       0\n",
       "dtype: int64"
      ]
     },
     "execution_count": 762,
     "metadata": {},
     "output_type": "execute_result"
    }
   ],
   "source": [
    "df.isna().sum()"
   ]
  },
  {
   "cell_type": "code",
   "execution_count": 763,
   "metadata": {},
   "outputs": [
    {
     "data": {
      "text/html": [
       "<div>\n",
       "<style scoped>\n",
       "    .dataframe tbody tr th:only-of-type {\n",
       "        vertical-align: middle;\n",
       "    }\n",
       "\n",
       "    .dataframe tbody tr th {\n",
       "        vertical-align: top;\n",
       "    }\n",
       "\n",
       "    .dataframe thead th {\n",
       "        text-align: right;\n",
       "    }\n",
       "</style>\n",
       "<table border=\"1\" class=\"dataframe\">\n",
       "  <thead>\n",
       "    <tr style=\"text-align: right;\">\n",
       "      <th></th>\n",
       "      <th>Description</th>\n",
       "      <th>Price</th>\n",
       "      <th>Rating</th>\n",
       "      <th>Is Prime</th>\n",
       "    </tr>\n",
       "  </thead>\n",
       "  <tbody>\n",
       "    <tr>\n",
       "      <th>152</th>\n",
       "      <td>Noise Cancelling Headphones, Wireless over Ear Bluetooth Headphones, With Mic 3-in-1multi-function Headset Folded and Stored Easily Memory Foam Ear Cups for Travel, Home Office #9</td>\n",
       "      <td>9.09</td>\n",
       "      <td>NaN</td>\n",
       "      <td>0</td>\n",
       "    </tr>\n",
       "  </tbody>\n",
       "</table>\n",
       "</div>"
      ],
      "text/plain": [
       "                                                                                                                                                                             Description  \\\n",
       "152  Noise Cancelling Headphones, Wireless over Ear Bluetooth Headphones, With Mic 3-in-1multi-function Headset Folded and Stored Easily Memory Foam Ear Cups for Travel, Home Office #9   \n",
       "\n",
       "     Price Rating  Is Prime  \n",
       "152   9.09    NaN         0  "
      ]
     },
     "execution_count": 763,
     "metadata": {},
     "output_type": "execute_result"
    }
   ],
   "source": [
    "# Viewing the null value in rating\n",
    "df[df['Rating'].isna()]"
   ]
  },
  {
   "cell_type": "code",
   "execution_count": 764,
   "metadata": {},
   "outputs": [],
   "source": [
    "# Dropping the row with the missing rating \n",
    "df = df.dropna()"
   ]
  },
  {
   "cell_type": "code",
   "execution_count": 765,
   "metadata": {},
   "outputs": [
    {
     "name": "stdout",
     "output_type": "stream",
     "text": [
      "\n",
      "    Data Quality Checks:\n",
      "    --------------------------------------------\n",
      "    No. of rows: 210\n",
      "    No. of columns: 4\n",
      "    No. of missing values: 0\n",
      "    No. of duplicated rows: 0\n",
      "    No. of duplicated columns: 0\n",
      "    \n"
     ]
    }
   ],
   "source": [
    "# Re-checking dataframe\n",
    "df_check(df)"
   ]
  },
  {
   "cell_type": "markdown",
   "metadata": {},
   "source": [
    "Left with 201 headphones after removing duplicated products, to continue with the cleaning."
   ]
  },
  {
   "cell_type": "markdown",
   "metadata": {},
   "source": [
    "## Product Description\n",
    "----"
   ]
  },
  {
   "cell_type": "code",
   "execution_count": 766,
   "metadata": {},
   "outputs": [
    {
     "data": {
      "text/plain": [
       "0                                               Skullcandy Hesh ANC Over-Ear Noise Cancelling Wireless Headphones, 22 Hr Battery, Microphone, Works with iPhone Android and Bluetooth Devices - True Black\n",
       "1                OneOdio Wired Over Ear Headphones Hi-Fi Sound & Bass Boosted headphone with 50mm Neodymium Drivers and 1/4 to 3.5mm Audio Jack for Studio DJ AMP Recording Monitoring Phones Laptop (Red)\n",
       "2                                                                                                                                                    Sony MDRZX310L.AE Foldable Headphones - Metallic Blue\n",
       "3          KVIDIO Bluetooth Headphones Over Ear, 65 Hours Playtime Wireless Headphones with Microphone, Foldable Lightweight Headset with Deep Bass,HiFi Stereo Sound for Travel Work PC Cellphone (Black)\n",
       "4                                                                                                                                            Sony MDR-ZX110 Overhead Headphones - Black , BASIC, Pack of 1\n",
       "                                                                                                      ...                                                                                                 \n",
       "294           Kids Headphones,Cat Ear Bluetooth Headphones LED Light Up Kids Wireless Headphones Over Ear with Microphone,Foldable Bluetooth Stereo Over-Ear Kids Headsets with Mic for Phone/Laptop/PC/TV\n",
       "295    Niurome Wireless Headphones, Kids Headphones Cat Ear Headphones, Foldable Headphones for Boys Girls, Cute LED Children Headphones With Mic, Safe Volume 85/90dB Bluetooth 5.0 for PC/Phone/Pad-Blue\n",
       "296          S SMAZINSTAR USB Headset with Microphone for PC Laptop, Professional Headphones For Adult Kids Adjustable Noise Cancelling Business Office Computer Headsets for with In-Line Control (1 Set)\n",
       "297         Avantree AcuEar Pebble - Bluetooth Personal Sound Amplifier with Wireless Table Mic & Open-Ear Headphones 2-in-1 for Seniors with Clear Voice Transmission, Comfortable Fit, and Charging Case\n",
       "298                                        Annadue Wireless Headphones for Kids, Cute Over Ear Bluetooth Headset with Deep Bass, Foldable Stereo Headset, Built in Mic, for Kids Girls Boys Adults (Green)\n",
       "Name: Description, Length: 210, dtype: object"
      ]
     },
     "execution_count": 766,
     "metadata": {},
     "output_type": "execute_result"
    }
   ],
   "source": [
    "df['Description']"
   ]
  },
  {
   "cell_type": "code",
   "execution_count": null,
   "metadata": {},
   "outputs": [],
   "source": []
  },
  {
   "cell_type": "markdown",
   "metadata": {},
   "source": [
    "### Feature Engineering - Wireless"
   ]
  },
  {
   "cell_type": "code",
   "execution_count": 767,
   "metadata": {},
   "outputs": [],
   "source": [
    "df['Description'] = df['Description'].str.lower()"
   ]
  },
  {
   "cell_type": "code",
   "execution_count": 768,
   "metadata": {},
   "outputs": [],
   "source": [
    "is_wireless = []\n",
    "for row in df['Description']:\n",
    "    x = bool(re.search('wireless',row))\n",
    "    is_wireless.append(x)\n"
   ]
  },
  {
   "cell_type": "code",
   "execution_count": 769,
   "metadata": {},
   "outputs": [],
   "source": [
    "df['Wireless'] = is_wireless"
   ]
  },
  {
   "cell_type": "markdown",
   "metadata": {},
   "source": [
    "### Feature Engineering - Noise Cancelling"
   ]
  },
  {
   "cell_type": "code",
   "execution_count": 770,
   "metadata": {},
   "outputs": [],
   "source": [
    "is_noise_cancel = []\n",
    "for row in df['Description']: \n",
    "    x = bool(re.search('noise[-\\s]?cancelling',row.lower()))\n",
    "    is_noise_cancel.append(x)"
   ]
  },
  {
   "cell_type": "code",
   "execution_count": 771,
   "metadata": {},
   "outputs": [],
   "source": [
    "df['Noise Cancelling'] = is_noise_cancel"
   ]
  },
  {
   "cell_type": "code",
   "execution_count": 772,
   "metadata": {},
   "outputs": [
    {
     "data": {
      "text/plain": [
       "Noise Cancelling\n",
       "False    177\n",
       "True      33\n",
       "Name: count, dtype: int64"
      ]
     },
     "execution_count": 772,
     "metadata": {},
     "output_type": "execute_result"
    }
   ],
   "source": [
    "df['Noise Cancelling'].value_counts()"
   ]
  },
  {
   "cell_type": "markdown",
   "metadata": {},
   "source": [
    "### Feature Engineering - Colour\n"
   ]
  },
  {
   "cell_type": "code",
   "execution_count": 773,
   "metadata": {},
   "outputs": [
    {
     "data": {
      "text/plain": [
       "0                                               skullcandy hesh anc over-ear noise cancelling wireless headphones, 22 hr battery, microphone, works with iphone android and bluetooth devices - true black\n",
       "1                oneodio wired over ear headphones hi-fi sound & bass boosted headphone with 50mm neodymium drivers and 1/4 to 3.5mm audio jack for studio dj amp recording monitoring phones laptop (red)\n",
       "2                                                                                                                                                    sony mdrzx310l.ae foldable headphones - metallic blue\n",
       "3          kvidio bluetooth headphones over ear, 65 hours playtime wireless headphones with microphone, foldable lightweight headset with deep bass,hifi stereo sound for travel work pc cellphone (black)\n",
       "4                                                                                                                                            sony mdr-zx110 overhead headphones - black , basic, pack of 1\n",
       "                                                                                                      ...                                                                                                 \n",
       "294           kids headphones,cat ear bluetooth headphones led light up kids wireless headphones over ear with microphone,foldable bluetooth stereo over-ear kids headsets with mic for phone/laptop/pc/tv\n",
       "295    niurome wireless headphones, kids headphones cat ear headphones, foldable headphones for boys girls, cute led children headphones with mic, safe volume 85/90db bluetooth 5.0 for pc/phone/pad-blue\n",
       "296          s smazinstar usb headset with microphone for pc laptop, professional headphones for adult kids adjustable noise cancelling business office computer headsets for with in-line control (1 set)\n",
       "297         avantree acuear pebble - bluetooth personal sound amplifier with wireless table mic & open-ear headphones 2-in-1 for seniors with clear voice transmission, comfortable fit, and charging case\n",
       "298                                        annadue wireless headphones for kids, cute over ear bluetooth headset with deep bass, foldable stereo headset, built in mic, for kids girls boys adults (green)\n",
       "Name: Description, Length: 210, dtype: object"
      ]
     },
     "execution_count": 773,
     "metadata": {},
     "output_type": "execute_result"
    }
   ],
   "source": [
    "df['Description']"
   ]
  },
  {
   "cell_type": "code",
   "execution_count": 774,
   "metadata": {},
   "outputs": [],
   "source": [
    "# Apply the function to each row in the Description column\n",
    "df['Color'] = df['Description'].apply(get_colour)"
   ]
  },
  {
   "cell_type": "code",
   "execution_count": 775,
   "metadata": {},
   "outputs": [
    {
     "data": {
      "text/html": [
       "<div>\n",
       "<style scoped>\n",
       "    .dataframe tbody tr th:only-of-type {\n",
       "        vertical-align: middle;\n",
       "    }\n",
       "\n",
       "    .dataframe tbody tr th {\n",
       "        vertical-align: top;\n",
       "    }\n",
       "\n",
       "    .dataframe thead th {\n",
       "        text-align: right;\n",
       "    }\n",
       "</style>\n",
       "<table border=\"1\" class=\"dataframe\">\n",
       "  <thead>\n",
       "    <tr style=\"text-align: right;\">\n",
       "      <th></th>\n",
       "      <th>Description</th>\n",
       "      <th>Price</th>\n",
       "      <th>Rating</th>\n",
       "      <th>Is Prime</th>\n",
       "      <th>Wireless</th>\n",
       "      <th>Noise Cancelling</th>\n",
       "      <th>Color</th>\n",
       "    </tr>\n",
       "  </thead>\n",
       "  <tbody>\n",
       "    <tr>\n",
       "      <th>0</th>\n",
       "      <td>skullcandy hesh anc over-ear noise cancelling wireless headphones, 22 hr battery, microphone, works with iphone android and bluetooth devices - true black</td>\n",
       "      <td>79.99</td>\n",
       "      <td>4.5 out of 5 stars</td>\n",
       "      <td>1</td>\n",
       "      <td>True</td>\n",
       "      <td>True</td>\n",
       "      <td>black</td>\n",
       "    </tr>\n",
       "    <tr>\n",
       "      <th>1</th>\n",
       "      <td>oneodio wired over ear headphones hi-fi sound &amp; bass boosted headphone with 50mm neodymium drivers and 1/4 to 3.5mm audio jack for studio dj amp recording monitoring phones laptop (red)</td>\n",
       "      <td>27.99</td>\n",
       "      <td>4.4 out of 5 stars</td>\n",
       "      <td>0</td>\n",
       "      <td>False</td>\n",
       "      <td>False</td>\n",
       "      <td>red</td>\n",
       "    </tr>\n",
       "    <tr>\n",
       "      <th>2</th>\n",
       "      <td>sony mdrzx310l.ae foldable headphones - metallic blue</td>\n",
       "      <td>18.00</td>\n",
       "      <td>4.5 out of 5 stars</td>\n",
       "      <td>0</td>\n",
       "      <td>False</td>\n",
       "      <td>False</td>\n",
       "      <td>blue</td>\n",
       "    </tr>\n",
       "    <tr>\n",
       "      <th>3</th>\n",
       "      <td>kvidio bluetooth headphones over ear, 65 hours playtime wireless headphones with microphone, foldable lightweight headset with deep bass,hifi stereo sound for travel work pc cellphone (black)</td>\n",
       "      <td>16.99</td>\n",
       "      <td>4.5 out of 5 stars</td>\n",
       "      <td>0</td>\n",
       "      <td>True</td>\n",
       "      <td>False</td>\n",
       "      <td>black</td>\n",
       "    </tr>\n",
       "    <tr>\n",
       "      <th>4</th>\n",
       "      <td>sony mdr-zx110 overhead headphones - black , basic, pack of 1</td>\n",
       "      <td>15.97</td>\n",
       "      <td>4.5 out of 5 stars</td>\n",
       "      <td>0</td>\n",
       "      <td>False</td>\n",
       "      <td>False</td>\n",
       "      <td>black</td>\n",
       "    </tr>\n",
       "    <tr>\n",
       "      <th>...</th>\n",
       "      <td>...</td>\n",
       "      <td>...</td>\n",
       "      <td>...</td>\n",
       "      <td>...</td>\n",
       "      <td>...</td>\n",
       "      <td>...</td>\n",
       "      <td>...</td>\n",
       "    </tr>\n",
       "    <tr>\n",
       "      <th>294</th>\n",
       "      <td>kids headphones,cat ear bluetooth headphones led light up kids wireless headphones over ear with microphone,foldable bluetooth stereo over-ear kids headsets with mic for phone/laptop/pc/tv</td>\n",
       "      <td>15.38</td>\n",
       "      <td>4.1 out of 5 stars</td>\n",
       "      <td>0</td>\n",
       "      <td>True</td>\n",
       "      <td>False</td>\n",
       "      <td>Not Specified</td>\n",
       "    </tr>\n",
       "    <tr>\n",
       "      <th>295</th>\n",
       "      <td>niurome wireless headphones, kids headphones cat ear headphones, foldable headphones for boys girls, cute led children headphones with mic, safe volume 85/90db bluetooth 5.0 for pc/phone/pad-blue</td>\n",
       "      <td>11.99</td>\n",
       "      <td>2.9 out of 5 stars</td>\n",
       "      <td>0</td>\n",
       "      <td>True</td>\n",
       "      <td>False</td>\n",
       "      <td>blue</td>\n",
       "    </tr>\n",
       "    <tr>\n",
       "      <th>296</th>\n",
       "      <td>s smazinstar usb headset with microphone for pc laptop, professional headphones for adult kids adjustable noise cancelling business office computer headsets for with in-line control (1 set)</td>\n",
       "      <td>11.99</td>\n",
       "      <td>3.8 out of 5 stars</td>\n",
       "      <td>0</td>\n",
       "      <td>False</td>\n",
       "      <td>True</td>\n",
       "      <td>Not Specified</td>\n",
       "    </tr>\n",
       "    <tr>\n",
       "      <th>297</th>\n",
       "      <td>avantree acuear pebble - bluetooth personal sound amplifier with wireless table mic &amp; open-ear headphones 2-in-1 for seniors with clear voice transmission, comfortable fit, and charging case</td>\n",
       "      <td>119.99</td>\n",
       "      <td>3.5 out of 5 stars</td>\n",
       "      <td>1</td>\n",
       "      <td>True</td>\n",
       "      <td>False</td>\n",
       "      <td>Not Specified</td>\n",
       "    </tr>\n",
       "    <tr>\n",
       "      <th>298</th>\n",
       "      <td>annadue wireless headphones for kids, cute over ear bluetooth headset with deep bass, foldable stereo headset, built in mic, for kids girls boys adults (green)</td>\n",
       "      <td>13.00</td>\n",
       "      <td>4.3 out of 5 stars</td>\n",
       "      <td>0</td>\n",
       "      <td>True</td>\n",
       "      <td>False</td>\n",
       "      <td>green</td>\n",
       "    </tr>\n",
       "  </tbody>\n",
       "</table>\n",
       "<p>210 rows × 7 columns</p>\n",
       "</div>"
      ],
      "text/plain": [
       "                                                                                                                                                                                             Description  \\\n",
       "0                                             skullcandy hesh anc over-ear noise cancelling wireless headphones, 22 hr battery, microphone, works with iphone android and bluetooth devices - true black   \n",
       "1              oneodio wired over ear headphones hi-fi sound & bass boosted headphone with 50mm neodymium drivers and 1/4 to 3.5mm audio jack for studio dj amp recording monitoring phones laptop (red)   \n",
       "2                                                                                                                                                  sony mdrzx310l.ae foldable headphones - metallic blue   \n",
       "3        kvidio bluetooth headphones over ear, 65 hours playtime wireless headphones with microphone, foldable lightweight headset with deep bass,hifi stereo sound for travel work pc cellphone (black)   \n",
       "4                                                                                                                                          sony mdr-zx110 overhead headphones - black , basic, pack of 1   \n",
       "..                                                                                                                                                                                                   ...   \n",
       "294         kids headphones,cat ear bluetooth headphones led light up kids wireless headphones over ear with microphone,foldable bluetooth stereo over-ear kids headsets with mic for phone/laptop/pc/tv   \n",
       "295  niurome wireless headphones, kids headphones cat ear headphones, foldable headphones for boys girls, cute led children headphones with mic, safe volume 85/90db bluetooth 5.0 for pc/phone/pad-blue   \n",
       "296        s smazinstar usb headset with microphone for pc laptop, professional headphones for adult kids adjustable noise cancelling business office computer headsets for with in-line control (1 set)   \n",
       "297       avantree acuear pebble - bluetooth personal sound amplifier with wireless table mic & open-ear headphones 2-in-1 for seniors with clear voice transmission, comfortable fit, and charging case   \n",
       "298                                      annadue wireless headphones for kids, cute over ear bluetooth headset with deep bass, foldable stereo headset, built in mic, for kids girls boys adults (green)   \n",
       "\n",
       "      Price              Rating  Is Prime  Wireless  Noise Cancelling  \\\n",
       "0     79.99  4.5 out of 5 stars         1      True              True   \n",
       "1     27.99  4.4 out of 5 stars         0     False             False   \n",
       "2     18.00  4.5 out of 5 stars         0     False             False   \n",
       "3     16.99  4.5 out of 5 stars         0      True             False   \n",
       "4     15.97  4.5 out of 5 stars         0     False             False   \n",
       "..      ...                 ...       ...       ...               ...   \n",
       "294   15.38  4.1 out of 5 stars         0      True             False   \n",
       "295   11.99  2.9 out of 5 stars         0      True             False   \n",
       "296   11.99  3.8 out of 5 stars         0     False              True   \n",
       "297  119.99  3.5 out of 5 stars         1      True             False   \n",
       "298   13.00  4.3 out of 5 stars         0      True             False   \n",
       "\n",
       "             Color  \n",
       "0            black  \n",
       "1              red  \n",
       "2             blue  \n",
       "3            black  \n",
       "4            black  \n",
       "..             ...  \n",
       "294  Not Specified  \n",
       "295           blue  \n",
       "296  Not Specified  \n",
       "297  Not Specified  \n",
       "298          green  \n",
       "\n",
       "[210 rows x 7 columns]"
      ]
     },
     "execution_count": 775,
     "metadata": {},
     "output_type": "execute_result"
    }
   ],
   "source": [
    "df"
   ]
  },
  {
   "cell_type": "markdown",
   "metadata": {},
   "source": [
    "### Feature Engineering - Battery Life"
   ]
  },
  {
   "cell_type": "code",
   "execution_count": 776,
   "metadata": {},
   "outputs": [],
   "source": [
    "def get_battery_life(description):\n",
    "    regexp = r'(\\d+\\s*(battery?|hours?|hrs?|h))'\n",
    "    if re.search(regexp,description):\n",
    "        return re.search(regexp,description).group()        \n",
    "    else:\n",
    "        return 'Not Specified'"
   ]
  },
  {
   "cell_type": "code",
   "execution_count": 777,
   "metadata": {},
   "outputs": [],
   "source": [
    "df['Battery Life'] = df['Description'].apply(get_battery_life)"
   ]
  },
  {
   "cell_type": "code",
   "execution_count": 778,
   "metadata": {},
   "outputs": [
    {
     "data": {
      "text/plain": [
       "142"
      ]
     },
     "execution_count": 778,
     "metadata": {},
     "output_type": "execute_result"
    }
   ],
   "source": [
    "df[df['Battery Life']== 'Not Specified'].shape[0]"
   ]
  },
  {
   "cell_type": "markdown",
   "metadata": {},
   "source": [
    "----\n",
    "**Comment:**\n",
    "\n",
    "142 rows where battery life is not specified, to have a spot check at a few of these cases to see if regexp needs updating. "
   ]
  },
  {
   "cell_type": "code",
   "execution_count": 779,
   "metadata": {},
   "outputs": [
    {
     "data": {
      "text/plain": [
       "1                 oneodio wired over ear headphones hi-fi sound & bass boosted headphone with 50mm neodymium drivers and 1/4 to 3.5mm audio jack for studio dj amp recording monitoring phones laptop (red)\n",
       "2                                                                                                                                                     sony mdrzx310l.ae foldable headphones - metallic blue\n",
       "4                                                                                                                                             sony mdr-zx110 overhead headphones - black , basic, pack of 1\n",
       "5      roxel rx-90 wired headphones with microphone - lightweight on ear headphones for android/ios devices - comfortable head cushion ergonomic - answer incoming calls - perfect for music lovers (black)\n",
       "7        oneodio dj headphones, over ear headphones for studio monitoring and mixing, professional headset with stereo bass sound, foldable headphones suitable for electric drum keyboard guitar amplifier\n",
       "                                                                                                       ...                                                                                                 \n",
       "294            kids headphones,cat ear bluetooth headphones led light up kids wireless headphones over ear with microphone,foldable bluetooth stereo over-ear kids headsets with mic for phone/laptop/pc/tv\n",
       "295     niurome wireless headphones, kids headphones cat ear headphones, foldable headphones for boys girls, cute led children headphones with mic, safe volume 85/90db bluetooth 5.0 for pc/phone/pad-blue\n",
       "296           s smazinstar usb headset with microphone for pc laptop, professional headphones for adult kids adjustable noise cancelling business office computer headsets for with in-line control (1 set)\n",
       "297          avantree acuear pebble - bluetooth personal sound amplifier with wireless table mic & open-ear headphones 2-in-1 for seniors with clear voice transmission, comfortable fit, and charging case\n",
       "298                                         annadue wireless headphones for kids, cute over ear bluetooth headset with deep bass, foldable stereo headset, built in mic, for kids girls boys adults (green)\n",
       "Name: Description, Length: 142, dtype: object"
      ]
     },
     "execution_count": 779,
     "metadata": {},
     "output_type": "execute_result"
    }
   ],
   "source": [
    "df[df['Battery Life']== 'Not Specified']['Description']"
   ]
  },
  {
   "cell_type": "markdown",
   "metadata": {},
   "source": [
    "-----\n",
    "**Comment:**\n",
    "\n",
    "Don't see anything that can be added to regexp pattern, will continue with analysis"
   ]
  },
  {
   "cell_type": "markdown",
   "metadata": {},
   "source": [
    "### Feature Engineering - Microphone"
   ]
  },
  {
   "cell_type": "code",
   "execution_count": 780,
   "metadata": {},
   "outputs": [],
   "source": [
    "def has_microphone(description):\n",
    "    regexp = r'\\b(mic?|microphone?)\\b'\n",
    "\n",
    "    if re.search(regexp, description.lower()):\n",
    "        return 1\n",
    "    else:\n",
    "        return 0"
   ]
  },
  {
   "cell_type": "code",
   "execution_count": 781,
   "metadata": {},
   "outputs": [],
   "source": [
    "df['Microphone'] = df['Description'].apply(has_microphone\n",
    "                                           )"
   ]
  },
  {
   "cell_type": "markdown",
   "metadata": {},
   "source": [
    "### Feature Engineering: Over Ear"
   ]
  },
  {
   "cell_type": "code",
   "execution_count": 782,
   "metadata": {},
   "outputs": [],
   "source": [
    "def is_over_ear(description):\n",
    "    regexp = r'\\b(over[\\s-]ear?|overhead?)\\b'\n",
    "\n",
    "\n",
    "    if re.search(regexp, description.lower()):\n",
    "        return 1\n",
    "    else:\n",
    "        return 0"
   ]
  },
  {
   "cell_type": "code",
   "execution_count": 783,
   "metadata": {},
   "outputs": [],
   "source": [
    "df['Over Ear'] = df['Description'].apply(is_over_ear)"
   ]
  },
  {
   "cell_type": "code",
   "execution_count": 784,
   "metadata": {},
   "outputs": [
    {
     "data": {
      "text/html": [
       "<div>\n",
       "<style scoped>\n",
       "    .dataframe tbody tr th:only-of-type {\n",
       "        vertical-align: middle;\n",
       "    }\n",
       "\n",
       "    .dataframe tbody tr th {\n",
       "        vertical-align: top;\n",
       "    }\n",
       "\n",
       "    .dataframe thead th {\n",
       "        text-align: right;\n",
       "    }\n",
       "</style>\n",
       "<table border=\"1\" class=\"dataframe\">\n",
       "  <thead>\n",
       "    <tr style=\"text-align: right;\">\n",
       "      <th></th>\n",
       "      <th>Description</th>\n",
       "      <th>Price</th>\n",
       "      <th>Rating</th>\n",
       "      <th>Is Prime</th>\n",
       "      <th>Wireless</th>\n",
       "      <th>Noise Cancelling</th>\n",
       "      <th>Color</th>\n",
       "      <th>Battery Life</th>\n",
       "      <th>Microphone</th>\n",
       "      <th>Over Ear</th>\n",
       "    </tr>\n",
       "  </thead>\n",
       "  <tbody>\n",
       "    <tr>\n",
       "      <th>2</th>\n",
       "      <td>sony mdrzx310l.ae foldable headphones - metallic blue</td>\n",
       "      <td>18.00</td>\n",
       "      <td>4.5 out of 5 stars</td>\n",
       "      <td>0</td>\n",
       "      <td>False</td>\n",
       "      <td>False</td>\n",
       "      <td>blue</td>\n",
       "      <td>Not Specified</td>\n",
       "      <td>0</td>\n",
       "      <td>0</td>\n",
       "    </tr>\n",
       "    <tr>\n",
       "      <th>5</th>\n",
       "      <td>roxel rx-90 wired headphones with microphone - lightweight on ear headphones for android/ios devices - comfortable head cushion ergonomic - answer incoming calls - perfect for music lovers (black)</td>\n",
       "      <td>12.99</td>\n",
       "      <td>4.3 out of 5 stars</td>\n",
       "      <td>0</td>\n",
       "      <td>False</td>\n",
       "      <td>False</td>\n",
       "      <td>black</td>\n",
       "      <td>Not Specified</td>\n",
       "      <td>1</td>\n",
       "      <td>0</td>\n",
       "    </tr>\n",
       "    <tr>\n",
       "      <th>6</th>\n",
       "      <td>wireless earbuds, bluetooth 5.3 headphones with 4 enc noise canceling mic, 50h stereo dual led display ear buds, sport wireless earphones with earhooks, ip7 waterproof wireless headphones for running</td>\n",
       "      <td>19.99</td>\n",
       "      <td>4.7 out of 5 stars</td>\n",
       "      <td>0</td>\n",
       "      <td>True</td>\n",
       "      <td>False</td>\n",
       "      <td>Not Specified</td>\n",
       "      <td>3 h</td>\n",
       "      <td>1</td>\n",
       "      <td>0</td>\n",
       "    </tr>\n",
       "    <tr>\n",
       "      <th>11</th>\n",
       "      <td>sony zx310ap on-ear headphones compatible with smartphones, tablets and mp3 devices - metallic black</td>\n",
       "      <td>18.99</td>\n",
       "      <td>4.4 out of 5 stars</td>\n",
       "      <td>0</td>\n",
       "      <td>False</td>\n",
       "      <td>False</td>\n",
       "      <td>black</td>\n",
       "      <td>Not Specified</td>\n",
       "      <td>0</td>\n",
       "      <td>0</td>\n",
       "    </tr>\n",
       "    <tr>\n",
       "      <th>14</th>\n",
       "      <td>soundcore by anker q30 hybrid active noise cancelling headphones with multiple modes, hi-res sound, custom eq via app, 40h playtime, comfortable fit, bluetooth headphones, multipoint connection</td>\n",
       "      <td>49.00</td>\n",
       "      <td>4.6 out of 5 stars</td>\n",
       "      <td>1</td>\n",
       "      <td>False</td>\n",
       "      <td>True</td>\n",
       "      <td>Not Specified</td>\n",
       "      <td>30 h</td>\n",
       "      <td>0</td>\n",
       "      <td>0</td>\n",
       "    </tr>\n",
       "    <tr>\n",
       "      <th>...</th>\n",
       "      <td>...</td>\n",
       "      <td>...</td>\n",
       "      <td>...</td>\n",
       "      <td>...</td>\n",
       "      <td>...</td>\n",
       "      <td>...</td>\n",
       "      <td>...</td>\n",
       "      <td>...</td>\n",
       "      <td>...</td>\n",
       "      <td>...</td>\n",
       "    </tr>\n",
       "    <tr>\n",
       "      <th>284</th>\n",
       "      <td>yomuse c89 kids headphones, wired headphone with microphone, on ear headphone with adjustable, foldable headphones for school travel children girls boys adults (camo grey)</td>\n",
       "      <td>11.99</td>\n",
       "      <td>4.2 out of 5 stars</td>\n",
       "      <td>0</td>\n",
       "      <td>False</td>\n",
       "      <td>False</td>\n",
       "      <td>grey</td>\n",
       "      <td>Not Specified</td>\n",
       "      <td>1</td>\n",
       "      <td>0</td>\n",
       "    </tr>\n",
       "    <tr>\n",
       "      <th>286</th>\n",
       "      <td>riwbox wt-7s kids bluetooth headphones light up, foldable stero wireless headset with microphone and volume control for pc/tablet/tv/travel</td>\n",
       "      <td>24.98</td>\n",
       "      <td>4.6 out of 5 stars</td>\n",
       "      <td>0</td>\n",
       "      <td>True</td>\n",
       "      <td>False</td>\n",
       "      <td>Not Specified</td>\n",
       "      <td>Not Specified</td>\n",
       "      <td>1</td>\n",
       "      <td>0</td>\n",
       "    </tr>\n",
       "    <tr>\n",
       "      <th>295</th>\n",
       "      <td>niurome wireless headphones, kids headphones cat ear headphones, foldable headphones for boys girls, cute led children headphones with mic, safe volume 85/90db bluetooth 5.0 for pc/phone/pad-blue</td>\n",
       "      <td>11.99</td>\n",
       "      <td>2.9 out of 5 stars</td>\n",
       "      <td>0</td>\n",
       "      <td>True</td>\n",
       "      <td>False</td>\n",
       "      <td>blue</td>\n",
       "      <td>Not Specified</td>\n",
       "      <td>1</td>\n",
       "      <td>0</td>\n",
       "    </tr>\n",
       "    <tr>\n",
       "      <th>296</th>\n",
       "      <td>s smazinstar usb headset with microphone for pc laptop, professional headphones for adult kids adjustable noise cancelling business office computer headsets for with in-line control (1 set)</td>\n",
       "      <td>11.99</td>\n",
       "      <td>3.8 out of 5 stars</td>\n",
       "      <td>0</td>\n",
       "      <td>False</td>\n",
       "      <td>True</td>\n",
       "      <td>Not Specified</td>\n",
       "      <td>Not Specified</td>\n",
       "      <td>1</td>\n",
       "      <td>0</td>\n",
       "    </tr>\n",
       "    <tr>\n",
       "      <th>297</th>\n",
       "      <td>avantree acuear pebble - bluetooth personal sound amplifier with wireless table mic &amp; open-ear headphones 2-in-1 for seniors with clear voice transmission, comfortable fit, and charging case</td>\n",
       "      <td>119.99</td>\n",
       "      <td>3.5 out of 5 stars</td>\n",
       "      <td>1</td>\n",
       "      <td>True</td>\n",
       "      <td>False</td>\n",
       "      <td>Not Specified</td>\n",
       "      <td>Not Specified</td>\n",
       "      <td>1</td>\n",
       "      <td>0</td>\n",
       "    </tr>\n",
       "  </tbody>\n",
       "</table>\n",
       "<p>81 rows × 10 columns</p>\n",
       "</div>"
      ],
      "text/plain": [
       "                                                                                                                                                                                                 Description  \\\n",
       "2                                                                                                                                                      sony mdrzx310l.ae foldable headphones - metallic blue   \n",
       "5       roxel rx-90 wired headphones with microphone - lightweight on ear headphones for android/ios devices - comfortable head cushion ergonomic - answer incoming calls - perfect for music lovers (black)   \n",
       "6    wireless earbuds, bluetooth 5.3 headphones with 4 enc noise canceling mic, 50h stereo dual led display ear buds, sport wireless earphones with earhooks, ip7 waterproof wireless headphones for running   \n",
       "11                                                                                                      sony zx310ap on-ear headphones compatible with smartphones, tablets and mp3 devices - metallic black   \n",
       "14         soundcore by anker q30 hybrid active noise cancelling headphones with multiple modes, hi-res sound, custom eq via app, 40h playtime, comfortable fit, bluetooth headphones, multipoint connection   \n",
       "..                                                                                                                                                                                                       ...   \n",
       "284                              yomuse c89 kids headphones, wired headphone with microphone, on ear headphone with adjustable, foldable headphones for school travel children girls boys adults (camo grey)   \n",
       "286                                                              riwbox wt-7s kids bluetooth headphones light up, foldable stero wireless headset with microphone and volume control for pc/tablet/tv/travel   \n",
       "295      niurome wireless headphones, kids headphones cat ear headphones, foldable headphones for boys girls, cute led children headphones with mic, safe volume 85/90db bluetooth 5.0 for pc/phone/pad-blue   \n",
       "296            s smazinstar usb headset with microphone for pc laptop, professional headphones for adult kids adjustable noise cancelling business office computer headsets for with in-line control (1 set)   \n",
       "297           avantree acuear pebble - bluetooth personal sound amplifier with wireless table mic & open-ear headphones 2-in-1 for seniors with clear voice transmission, comfortable fit, and charging case   \n",
       "\n",
       "      Price              Rating  Is Prime  Wireless  Noise Cancelling  \\\n",
       "2     18.00  4.5 out of 5 stars         0     False             False   \n",
       "5     12.99  4.3 out of 5 stars         0     False             False   \n",
       "6     19.99  4.7 out of 5 stars         0      True             False   \n",
       "11    18.99  4.4 out of 5 stars         0     False             False   \n",
       "14    49.00  4.6 out of 5 stars         1     False              True   \n",
       "..      ...                 ...       ...       ...               ...   \n",
       "284   11.99  4.2 out of 5 stars         0     False             False   \n",
       "286   24.98  4.6 out of 5 stars         0      True             False   \n",
       "295   11.99  2.9 out of 5 stars         0      True             False   \n",
       "296   11.99  3.8 out of 5 stars         0     False              True   \n",
       "297  119.99  3.5 out of 5 stars         1      True             False   \n",
       "\n",
       "             Color   Battery Life  Microphone  Over Ear  \n",
       "2             blue  Not Specified           0         0  \n",
       "5            black  Not Specified           1         0  \n",
       "6    Not Specified            3 h           1         0  \n",
       "11           black  Not Specified           0         0  \n",
       "14   Not Specified           30 h           0         0  \n",
       "..             ...            ...         ...       ...  \n",
       "284           grey  Not Specified           1         0  \n",
       "286  Not Specified  Not Specified           1         0  \n",
       "295           blue  Not Specified           1         0  \n",
       "296  Not Specified  Not Specified           1         0  \n",
       "297  Not Specified  Not Specified           1         0  \n",
       "\n",
       "[81 rows x 10 columns]"
      ]
     },
     "execution_count": 784,
     "metadata": {},
     "output_type": "execute_result"
    }
   ],
   "source": [
    "df[df['Over Ear'] == 0]"
   ]
  },
  {
   "cell_type": "markdown",
   "metadata": {},
   "source": [
    "### Feature Engineering : Foldable "
   ]
  },
  {
   "cell_type": "code",
   "execution_count": 785,
   "metadata": {},
   "outputs": [],
   "source": [
    "def is_foldable(description):\n",
    "    regexp = r'\\bfoldable\\b'\n",
    "\n",
    "    if re.search(regexp, description.lower()):\n",
    "        return 1\n",
    "    else:\n",
    "        return 0"
   ]
  },
  {
   "cell_type": "code",
   "execution_count": 786,
   "metadata": {},
   "outputs": [],
   "source": [
    "df['Foldable'] = df['Description'].apply(is_foldable)"
   ]
  },
  {
   "cell_type": "markdown",
   "metadata": {},
   "source": [
    "## Final Clean Up\n",
    "---"
   ]
  },
  {
   "cell_type": "code",
   "execution_count": 787,
   "metadata": {},
   "outputs": [
    {
     "data": {
      "text/html": [
       "<div>\n",
       "<style scoped>\n",
       "    .dataframe tbody tr th:only-of-type {\n",
       "        vertical-align: middle;\n",
       "    }\n",
       "\n",
       "    .dataframe tbody tr th {\n",
       "        vertical-align: top;\n",
       "    }\n",
       "\n",
       "    .dataframe thead th {\n",
       "        text-align: right;\n",
       "    }\n",
       "</style>\n",
       "<table border=\"1\" class=\"dataframe\">\n",
       "  <thead>\n",
       "    <tr style=\"text-align: right;\">\n",
       "      <th></th>\n",
       "      <th>Description</th>\n",
       "      <th>Price</th>\n",
       "      <th>Rating</th>\n",
       "      <th>Is Prime</th>\n",
       "      <th>Wireless</th>\n",
       "      <th>Noise Cancelling</th>\n",
       "      <th>Color</th>\n",
       "      <th>Battery Life</th>\n",
       "      <th>Microphone</th>\n",
       "      <th>Over Ear</th>\n",
       "      <th>Foldable</th>\n",
       "    </tr>\n",
       "  </thead>\n",
       "  <tbody>\n",
       "    <tr>\n",
       "      <th>0</th>\n",
       "      <td>skullcandy hesh anc over-ear noise cancelling wireless headphones, 22 hr battery, microphone, works with iphone android and bluetooth devices - true black</td>\n",
       "      <td>79.99</td>\n",
       "      <td>4.5 out of 5 stars</td>\n",
       "      <td>1</td>\n",
       "      <td>True</td>\n",
       "      <td>True</td>\n",
       "      <td>black</td>\n",
       "      <td>22 hr</td>\n",
       "      <td>1</td>\n",
       "      <td>1</td>\n",
       "      <td>0</td>\n",
       "    </tr>\n",
       "    <tr>\n",
       "      <th>1</th>\n",
       "      <td>oneodio wired over ear headphones hi-fi sound &amp; bass boosted headphone with 50mm neodymium drivers and 1/4 to 3.5mm audio jack for studio dj amp recording monitoring phones laptop (red)</td>\n",
       "      <td>27.99</td>\n",
       "      <td>4.4 out of 5 stars</td>\n",
       "      <td>0</td>\n",
       "      <td>False</td>\n",
       "      <td>False</td>\n",
       "      <td>red</td>\n",
       "      <td>Not Specified</td>\n",
       "      <td>0</td>\n",
       "      <td>1</td>\n",
       "      <td>0</td>\n",
       "    </tr>\n",
       "    <tr>\n",
       "      <th>2</th>\n",
       "      <td>sony mdrzx310l.ae foldable headphones - metallic blue</td>\n",
       "      <td>18.00</td>\n",
       "      <td>4.5 out of 5 stars</td>\n",
       "      <td>0</td>\n",
       "      <td>False</td>\n",
       "      <td>False</td>\n",
       "      <td>blue</td>\n",
       "      <td>Not Specified</td>\n",
       "      <td>0</td>\n",
       "      <td>0</td>\n",
       "      <td>1</td>\n",
       "    </tr>\n",
       "    <tr>\n",
       "      <th>3</th>\n",
       "      <td>kvidio bluetooth headphones over ear, 65 hours playtime wireless headphones with microphone, foldable lightweight headset with deep bass,hifi stereo sound for travel work pc cellphone (black)</td>\n",
       "      <td>16.99</td>\n",
       "      <td>4.5 out of 5 stars</td>\n",
       "      <td>0</td>\n",
       "      <td>True</td>\n",
       "      <td>False</td>\n",
       "      <td>black</td>\n",
       "      <td>65 hours</td>\n",
       "      <td>1</td>\n",
       "      <td>1</td>\n",
       "      <td>1</td>\n",
       "    </tr>\n",
       "    <tr>\n",
       "      <th>4</th>\n",
       "      <td>sony mdr-zx110 overhead headphones - black , basic, pack of 1</td>\n",
       "      <td>15.97</td>\n",
       "      <td>4.5 out of 5 stars</td>\n",
       "      <td>0</td>\n",
       "      <td>False</td>\n",
       "      <td>False</td>\n",
       "      <td>black</td>\n",
       "      <td>Not Specified</td>\n",
       "      <td>0</td>\n",
       "      <td>1</td>\n",
       "      <td>0</td>\n",
       "    </tr>\n",
       "    <tr>\n",
       "      <th>5</th>\n",
       "      <td>roxel rx-90 wired headphones with microphone - lightweight on ear headphones for android/ios devices - comfortable head cushion ergonomic - answer incoming calls - perfect for music lovers (black)</td>\n",
       "      <td>12.99</td>\n",
       "      <td>4.3 out of 5 stars</td>\n",
       "      <td>0</td>\n",
       "      <td>False</td>\n",
       "      <td>False</td>\n",
       "      <td>black</td>\n",
       "      <td>Not Specified</td>\n",
       "      <td>1</td>\n",
       "      <td>0</td>\n",
       "      <td>0</td>\n",
       "    </tr>\n",
       "    <tr>\n",
       "      <th>6</th>\n",
       "      <td>wireless earbuds, bluetooth 5.3 headphones with 4 enc noise canceling mic, 50h stereo dual led display ear buds, sport wireless earphones with earhooks, ip7 waterproof wireless headphones for running</td>\n",
       "      <td>19.99</td>\n",
       "      <td>4.7 out of 5 stars</td>\n",
       "      <td>0</td>\n",
       "      <td>True</td>\n",
       "      <td>False</td>\n",
       "      <td>Not Specified</td>\n",
       "      <td>3 h</td>\n",
       "      <td>1</td>\n",
       "      <td>0</td>\n",
       "      <td>0</td>\n",
       "    </tr>\n",
       "    <tr>\n",
       "      <th>7</th>\n",
       "      <td>oneodio dj headphones, over ear headphones for studio monitoring and mixing, professional headset with stereo bass sound, foldable headphones suitable for electric drum keyboard guitar amplifier</td>\n",
       "      <td>30.58</td>\n",
       "      <td>4.4 out of 5 stars</td>\n",
       "      <td>0</td>\n",
       "      <td>False</td>\n",
       "      <td>False</td>\n",
       "      <td>Not Specified</td>\n",
       "      <td>Not Specified</td>\n",
       "      <td>0</td>\n",
       "      <td>1</td>\n",
       "      <td>1</td>\n",
       "    </tr>\n",
       "    <tr>\n",
       "      <th>8</th>\n",
       "      <td>iclever hs18 over ear headphones with microphone - lightweight stereo headphones, adjustable foldable wired headphones with 3.5mm jack for online class/meeting/pc/phone/computer</td>\n",
       "      <td>16.99</td>\n",
       "      <td>4.5 out of 5 stars</td>\n",
       "      <td>0</td>\n",
       "      <td>False</td>\n",
       "      <td>False</td>\n",
       "      <td>Not Specified</td>\n",
       "      <td>Not Specified</td>\n",
       "      <td>1</td>\n",
       "      <td>1</td>\n",
       "      <td>1</td>\n",
       "    </tr>\n",
       "    <tr>\n",
       "      <th>9</th>\n",
       "      <td>headphones wired over ear adult, stereo hifi music headphone foldable compact wired headset</td>\n",
       "      <td>8.99</td>\n",
       "      <td>3.6 out of 5 stars</td>\n",
       "      <td>0</td>\n",
       "      <td>False</td>\n",
       "      <td>False</td>\n",
       "      <td>Not Specified</td>\n",
       "      <td>Not Specified</td>\n",
       "      <td>0</td>\n",
       "      <td>1</td>\n",
       "      <td>1</td>\n",
       "    </tr>\n",
       "  </tbody>\n",
       "</table>\n",
       "</div>"
      ],
      "text/plain": [
       "                                                                                                                                                                                               Description  \\\n",
       "0                                               skullcandy hesh anc over-ear noise cancelling wireless headphones, 22 hr battery, microphone, works with iphone android and bluetooth devices - true black   \n",
       "1                oneodio wired over ear headphones hi-fi sound & bass boosted headphone with 50mm neodymium drivers and 1/4 to 3.5mm audio jack for studio dj amp recording monitoring phones laptop (red)   \n",
       "2                                                                                                                                                    sony mdrzx310l.ae foldable headphones - metallic blue   \n",
       "3          kvidio bluetooth headphones over ear, 65 hours playtime wireless headphones with microphone, foldable lightweight headset with deep bass,hifi stereo sound for travel work pc cellphone (black)   \n",
       "4                                                                                                                                            sony mdr-zx110 overhead headphones - black , basic, pack of 1   \n",
       "5     roxel rx-90 wired headphones with microphone - lightweight on ear headphones for android/ios devices - comfortable head cushion ergonomic - answer incoming calls - perfect for music lovers (black)   \n",
       "6  wireless earbuds, bluetooth 5.3 headphones with 4 enc noise canceling mic, 50h stereo dual led display ear buds, sport wireless earphones with earhooks, ip7 waterproof wireless headphones for running   \n",
       "7       oneodio dj headphones, over ear headphones for studio monitoring and mixing, professional headset with stereo bass sound, foldable headphones suitable for electric drum keyboard guitar amplifier   \n",
       "8                        iclever hs18 over ear headphones with microphone - lightweight stereo headphones, adjustable foldable wired headphones with 3.5mm jack for online class/meeting/pc/phone/computer   \n",
       "9                                                                                                              headphones wired over ear adult, stereo hifi music headphone foldable compact wired headset   \n",
       "\n",
       "   Price              Rating  Is Prime  Wireless  Noise Cancelling  \\\n",
       "0  79.99  4.5 out of 5 stars         1      True              True   \n",
       "1  27.99  4.4 out of 5 stars         0     False             False   \n",
       "2  18.00  4.5 out of 5 stars         0     False             False   \n",
       "3  16.99  4.5 out of 5 stars         0      True             False   \n",
       "4  15.97  4.5 out of 5 stars         0     False             False   \n",
       "5  12.99  4.3 out of 5 stars         0     False             False   \n",
       "6  19.99  4.7 out of 5 stars         0      True             False   \n",
       "7  30.58  4.4 out of 5 stars         0     False             False   \n",
       "8  16.99  4.5 out of 5 stars         0     False             False   \n",
       "9   8.99  3.6 out of 5 stars         0     False             False   \n",
       "\n",
       "           Color   Battery Life  Microphone  Over Ear  Foldable  \n",
       "0          black          22 hr           1         1         0  \n",
       "1            red  Not Specified           0         1         0  \n",
       "2           blue  Not Specified           0         0         1  \n",
       "3          black       65 hours           1         1         1  \n",
       "4          black  Not Specified           0         1         0  \n",
       "5          black  Not Specified           1         0         0  \n",
       "6  Not Specified            3 h           1         0         0  \n",
       "7  Not Specified  Not Specified           0         1         1  \n",
       "8  Not Specified  Not Specified           1         1         1  \n",
       "9  Not Specified  Not Specified           0         1         1  "
      ]
     },
     "execution_count": 787,
     "metadata": {},
     "output_type": "execute_result"
    }
   ],
   "source": [
    "df.head(10)"
   ]
  },
  {
   "cell_type": "markdown",
   "metadata": {},
   "source": [
    "### Rating"
   ]
  },
  {
   "cell_type": "markdown",
   "metadata": {},
   "source": [
    "To remove `out of 5 stars` as this information is redundant information."
   ]
  },
  {
   "cell_type": "code",
   "execution_count": 788,
   "metadata": {},
   "outputs": [],
   "source": [
    "df['Rating'] = df['Rating'].astype('str')"
   ]
  },
  {
   "cell_type": "code",
   "execution_count": 789,
   "metadata": {},
   "outputs": [],
   "source": [
    "df['Rating'] = df['Rating'].str.replace('out of 5 stars', '')"
   ]
  },
  {
   "cell_type": "code",
   "execution_count": 790,
   "metadata": {},
   "outputs": [],
   "source": [
    "df['Rating'] = df['Rating'].astype(float)"
   ]
  },
  {
   "cell_type": "markdown",
   "metadata": {},
   "source": [
    "## Export to CSV\n",
    "----"
   ]
  },
  {
   "cell_type": "code",
   "execution_count": 791,
   "metadata": {},
   "outputs": [],
   "source": [
    "cleaned_df = df.copy()"
   ]
  },
  {
   "cell_type": "code",
   "execution_count": 752,
   "metadata": {},
   "outputs": [],
   "source": [
    "cleaned_df.to_csv('../../data/cleaned_headphones_data.csv')"
   ]
  }
 ],
 "metadata": {
  "kernelspec": {
   "display_name": "sound_decisions",
   "language": "python",
   "name": "python3"
  },
  "language_info": {
   "codemirror_mode": {
    "name": "ipython",
    "version": 3
   },
   "file_extension": ".py",
   "mimetype": "text/x-python",
   "name": "python",
   "nbconvert_exporter": "python",
   "pygments_lexer": "ipython3",
   "version": "3.11.5"
  }
 },
 "nbformat": 4,
 "nbformat_minor": 2
}
