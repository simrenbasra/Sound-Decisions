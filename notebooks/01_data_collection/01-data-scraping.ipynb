{
 "cells": [
  {
   "cell_type": "markdown",
   "metadata": {},
   "source": [
    "----\n",
    "# Data Scraping\n",
    "----\n",
    "\n",
    "### Notebook Summary\n",
    "\n",
    "In this notebook, I will perform data scraping on Amazon to gather information about noise-cancelling headphones priced under £300."
   ]
  },
  {
   "cell_type": "markdown",
   "metadata": {},
   "source": [
    "## Set Up\n",
    "-----"
   ]
  },
  {
   "cell_type": "code",
   "execution_count": 2,
   "metadata": {},
   "outputs": [],
   "source": [
    "import numpy as np\n",
    "import pandas as pd\n",
    "import requests\n",
    "from bs4 import BeautifulSoup\n",
    "import re\n",
    "import time"
   ]
  },
  {
   "cell_type": "markdown",
   "metadata": {},
   "source": [
    "## Web Scraping\n",
    "-----"
   ]
  },
  {
   "cell_type": "markdown",
   "metadata": {},
   "source": [
    "Visiting `https://www.amazon.co.uk/robots.txt` to check what elements are allowed or disallowed for scraping.\n",
    "\n",
    "Unfortunately individual customer reviews are restricted as well as all review-related pages, so for this project I am going to be scraping:\n",
    "\n",
    "- Product Name\n",
    "- Price\n",
    "- Overall Rating\n",
    "- Prime Eligible "
   ]
  },
  {
   "cell_type": "markdown",
   "metadata": {},
   "source": [
    "### 1. Define URL"
   ]
  },
  {
   "cell_type": "code",
   "execution_count": 3,
   "metadata": {},
   "outputs": [],
   "source": [
    "url = \"https://www.amazon.co.uk/s?keywords=Noise+Cancelling+Headphones&i=electronics&rh=p_36%3A-30000\""
   ]
  },
  {
   "cell_type": "markdown",
   "metadata": {},
   "source": [
    "-----\n",
    "**Comment:**\n",
    "\n",
    "- **keywords = Noise+Cancelling+Headphones:** Searching for \"Noise Cancelling Headphones\".\n",
    "- **i = electronics:** Searching within the \"Electronics\" category.\n",
    "- **p_36%3A-30000:** Filtering for products with a price of up to £300 (the price is in pence, so £300 = 30000 pence)."
   ]
  },
  {
   "cell_type": "markdown",
   "metadata": {},
   "source": [
    "### 2. Perform Scraping"
   ]
  },
  {
   "cell_type": "code",
   "execution_count": 4,
   "metadata": {},
   "outputs": [],
   "source": [
    "# To store scraped data\n",
    "data = []"
   ]
  },
  {
   "cell_type": "code",
   "execution_count": 5,
   "metadata": {},
   "outputs": [],
   "source": [
    "# Number of pages to scrape (around 30 products per page)\n",
    "num_pages = 10 "
   ]
  },
  {
   "cell_type": "code",
   "execution_count": 6,
   "metadata": {},
   "outputs": [
    {
     "name": "stdout",
     "output_type": "stream",
     "text": [
      "Scraping page 1...\n",
      "Scraping page 2...\n",
      "Scraping page 3...\n",
      "Scraping page 4...\n",
      "Scraping page 5...\n",
      "Scraping page 6...\n",
      "Scraping page 7...\n",
      "Scraping page 8...\n",
      "Scraping page 9...\n",
      "Scraping page 10...\n"
     ]
    }
   ],
   "source": [
    "# Loop through the number of pages to scrape\n",
    "for page in range(num_pages):\n",
    "    # Print the current page number being scraped\n",
    "    print(f\"Scraping page {page + 1}...\")\n",
    "\n",
    "    # Construct the URL for the current page\n",
    "    url = url + str(page + 1)\n",
    "    \n",
    "    # Define the headers for the get request to mimic a browser (avoids error)\n",
    "    headers = {\n",
    "        \"User-Agent\": \"Mozilla/5.0 (Windows NT 10.0; Win64; x64) Chrome/117.0.5938.62\"\n",
    "    }\n",
    "    \n",
    "    # Send a get request to the URL with the headers\n",
    "    response = requests.get(url, headers=headers)\n",
    "    \n",
    "    # Check if the request was successful (status code = 200)\n",
    "    if response.status_code == 200:\n",
    "        # Use BeautifulSoup to 'read' content on page\n",
    "        soup = BeautifulSoup(response.content, 'html.parser')\n",
    "\n",
    "        # Extracts div storing all search results\n",
    "        all_headphones = soup.find_all('div', {'data-component-type': 's-search-result'})\n",
    "\n",
    "        # Loop through each product found to extract product details\n",
    "        for headphone in all_headphones:\n",
    "\n",
    "            # Getting product titles\n",
    "            title = headphone.find('span', class_='a-size-medium a-color-base a-text-normal')\n",
    "            hp_title = title.get_text(strip=True) if title else 'N/A'\n",
    "\n",
    "            # Getting product price\n",
    "            price_pound = headphone.find('span', class_='a-price-whole')\n",
    "            price_pennies = headphone.find('span', class_='a-price-fraction')\n",
    "\n",
    "            if price_pound and price_pennies:\n",
    "                hp_price = price_pound.get_text(strip=True) + (price_pennies.get_text(strip=True))\n",
    "            else:\n",
    "                'N/A'\n",
    "            \n",
    "            # Get overall rating\n",
    "            rating = headphone.find('span', class_='a-icon-alt')\n",
    "            hp_rating = rating.get_text(strip=True) if rating else 'N/A'\n",
    "\n",
    "            # Check if headphone is prime\n",
    "            prime = headphone.find('span', class_='aok-relative s-icon-text-medium s-prime')\n",
    "            is_prime = '1' if prime else '0'\n",
    "\n",
    "            # Add product info to list\n",
    "            data.append({\n",
    "                'Title': hp_title,\n",
    "                'Price': hp_price,\n",
    "                'Rating': hp_rating,\n",
    "                'Is Prime': is_prime\n",
    "            })\n",
    "        \n",
    "        # Delay by 2 seconds after each page to avoid overwhelming the server\n",
    "        time.sleep(2)  \n",
    "\n",
    "    else:\n",
    "        print(f\"Failed to access the webpage\")\n"
   ]
  },
  {
   "cell_type": "markdown",
   "metadata": {},
   "source": [
    "### 3. Storing results in DataFrame and exporting to CSV"
   ]
  },
  {
   "cell_type": "code",
   "execution_count": 7,
   "metadata": {},
   "outputs": [],
   "source": [
    "headphones_df = pd.DataFrame(data)"
   ]
  },
  {
   "cell_type": "code",
   "execution_count": 8,
   "metadata": {},
   "outputs": [],
   "source": [
    "headphones_df.to_csv('../../data/headphones_data.csv')"
   ]
  },
  {
   "cell_type": "markdown",
   "metadata": {},
   "source": [
    "## Conclusion\n",
    "-----\n",
    "\n",
    "After scraping data for 300 headphones, storing this data in a dataframe and exporting to a CSV, I will now move on to cleaning of the data.\n",
    "\n",
    "\n",
    "In this notebook, I scraped data for 300 noise-cancelling headphones from Amazon, focusing on products priced under £300. The data was stored in a DataFrame, which I then exported to a CSV file. With the data now available, the next step is to clean and preprocess the data to ensure high quality. \n"
   ]
  }
 ],
 "metadata": {
  "kernelspec": {
   "display_name": "sound_decisions",
   "language": "python",
   "name": "python3"
  },
  "language_info": {
   "codemirror_mode": {
    "name": "ipython",
    "version": 3
   },
   "file_extension": ".py",
   "mimetype": "text/x-python",
   "name": "python",
   "nbconvert_exporter": "python",
   "pygments_lexer": "ipython3",
   "version": "3.11.5"
  }
 },
 "nbformat": 4,
 "nbformat_minor": 2
}
