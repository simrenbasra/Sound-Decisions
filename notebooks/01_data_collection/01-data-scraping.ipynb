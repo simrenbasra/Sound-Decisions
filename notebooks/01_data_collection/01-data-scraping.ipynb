{
 "cells": [
  {
   "cell_type": "markdown",
   "metadata": {},
   "source": [
    "----\n",
    "# Data Scraping\n",
    "----\n",
    "\n",
    "### Notebook Summary\n",
    "\n",
    "In this notebook, I will perform data scraping on Amazon to gather product information on headphones."
   ]
  },
  {
   "cell_type": "markdown",
   "metadata": {},
   "source": [
    "## Set Up\n",
    "-----"
   ]
  },
  {
   "cell_type": "code",
   "execution_count": null,
   "metadata": {},
   "outputs": [],
   "source": [
    "import numpy as np\n",
    "import pandas as pd\n",
    "import requests\n",
    "from bs4 import BeautifulSoup\n",
    "import re\n",
    "import time"
   ]
  },
  {
   "cell_type": "markdown",
   "metadata": {},
   "source": [
    "## Web Scraping\n",
    "-----"
   ]
  },
  {
   "cell_type": "markdown",
   "metadata": {},
   "source": [
    "Visiting `https://www.amazon.co.uk/robots.txt` to check what elements are allowed or disallowed for scraping.\n",
    "\n",
    "Unfortunately individual customer reviews are restricted as well as all review-related pages, so for this project I am going to be scraping:\n",
    "\n",
    "- Product Description\n",
    "- Price\n",
    "- Overall Rating\n",
    "- Prime Eligiblity"
   ]
  },
  {
   "cell_type": "markdown",
   "metadata": {},
   "source": [
    "### 1. Define URL"
   ]
  },
  {
   "cell_type": "code",
   "execution_count": null,
   "metadata": {},
   "outputs": [],
   "source": [
    "base_url = \"https://www.amazon.co.uk/s?keywords=adult+headphones&i=electronics&page=\""
   ]
  },
  {
   "cell_type": "markdown",
   "metadata": {},
   "source": [
    "`https://www.amazon.co.uk/robots.txt`"
   ]
  },
  {
   "cell_type": "markdown",
   "metadata": {},
   "source": [
    "-----\n",
    "**Comment:**\n",
    "\n",
    "- **keywords = adult+headphones:** Searching for \"adult headphones\".\n",
    "- **i = electronics:** Searching within the \"Electronics\" category.\n",
    "- **page=** Specifying the page number (to be entered on scraping)."
   ]
  },
  {
   "cell_type": "markdown",
   "metadata": {},
   "source": [
    "### 2. Perform Scraping"
   ]
  },
  {
   "cell_type": "code",
   "execution_count": null,
   "metadata": {},
   "outputs": [],
   "source": [
    "# To store scraped data\n",
    "data = []"
   ]
  },
  {
   "cell_type": "code",
   "execution_count": null,
   "metadata": {},
   "outputs": [],
   "source": [
    "# Number of pages to scrape (around 30 products per page)\n",
    "num_pages = 50"
   ]
  },
  {
   "cell_type": "code",
   "execution_count": null,
   "metadata": {},
   "outputs": [],
   "source": [
    "# Loop through the number of pages to scrape\n",
    "for page in range(num_pages):\n",
    "    # Print the current page number being scraped\n",
    "    print(f\"Scraping page {page + 1}...\")\n",
    "\n",
    "    # Construct the URL for the current page\n",
    "    url = base_url + str(page + 1)\n",
    "    print(url)\n",
    "    # Define the headers for the get request to mimic a browser (avoids error)\n",
    "    headers = {\n",
    "        \"User-Agent\": \"Mozilla/5.0 (Windows NT 10.0; Win64; x64) Chrome/117.0.5938.62\"\n",
    "    }\n",
    "    \n",
    "    # Send a get request to the URL with the headers\n",
    "    response = requests.get(url, headers=headers)\n",
    "    \n",
    "    # Check if the request was successful (status code = 200)\n",
    "    if response.status_code == 200:\n",
    "        # Use BeautifulSoup to 'read' content on page\n",
    "        soup = BeautifulSoup(response.content, 'html.parser')\n",
    "\n",
    "        # Extracts div storing all search results\n",
    "        all_headphones = soup.find_all('div', {'data-component-type': 's-search-result'})\n",
    "\n",
    "        # Loop through each product found to extract product details\n",
    "        for headphone in all_headphones:\n",
    "\n",
    "            # Getting product IDs\n",
    "            if headphone.has_attr('data-asin'):\n",
    "                hp_ASIN = hp_ASIN = headphone['data-asin']\n",
    "            else:\n",
    "                'Not Specified'\n",
    "\n",
    "            # Getting product descriptions\n",
    "            desc = headphone.find('span', class_='a-size-medium a-color-base a-text-normal')\n",
    "            hp_desc = desc.get_text(strip=True) if desc else 'N/A'\n",
    "\n",
    "            # Getting product price\n",
    "            price_pound = headphone.find('span', class_='a-price-whole')\n",
    "            price_pennies = headphone.find('span', class_='a-price-fraction')\n",
    "\n",
    "            if price_pound and price_pennies:\n",
    "                hp_price = price_pound.get_text(strip=True) + (price_pennies.get_text(strip=True))\n",
    "            else:\n",
    "                hp_price = 'Not Specified'\n",
    "            \n",
    "            # Get overall rating\n",
    "            rating = headphone.find('span', class_='a-icon-alt')\n",
    "            hp_rating = rating.get_text(strip=True) if rating else 'N/A'\n",
    "\n",
    "            # Check if headphone is prime\n",
    "            prime = headphone.find('span', class_='aok-relative s-icon-text-medium s-prime')\n",
    "            is_prime = '1' if prime else '0'\n",
    "\n",
    "            # Add product info to list\n",
    "            data.append({\n",
    "                'Product ID' : hp_ASIN,\n",
    "                'Description': hp_desc,\n",
    "                'Price': hp_price,\n",
    "                'Rating': hp_rating,\n",
    "                'Is Prime': is_prime\n",
    "            })\n",
    "        \n",
    "        # Delay by 2 seconds after each page to avoid overwhelming the server\n",
    "        time.sleep(2)  \n",
    "\n",
    "    else:\n",
    "        print(f\"Failed to access the webpage\")\n"
   ]
  },
  {
   "cell_type": "markdown",
   "metadata": {},
   "source": [
    "### 3. Storing results in DataFrame and exporting to CSV"
   ]
  },
  {
   "cell_type": "code",
   "execution_count": null,
   "metadata": {},
   "outputs": [],
   "source": [
    "headphones_df = pd.DataFrame(data)"
   ]
  },
  {
   "cell_type": "code",
   "execution_count": null,
   "metadata": {},
   "outputs": [],
   "source": [
    "headphones_df.to_csv('../../data/scraped_data.csv')"
   ]
  }
 ],
 "metadata": {
  "kernelspec": {
   "display_name": "sound_decisions",
   "language": "python",
   "name": "python3"
  },
  "language_info": {
   "codemirror_mode": {
    "name": "ipython",
    "version": 3
   },
   "file_extension": ".py",
   "mimetype": "text/x-python",
   "name": "python",
   "nbconvert_exporter": "python",
   "pygments_lexer": "ipython3",
   "version": "3.11.5"
  }
 },
 "nbformat": 4,
 "nbformat_minor": 2
}
